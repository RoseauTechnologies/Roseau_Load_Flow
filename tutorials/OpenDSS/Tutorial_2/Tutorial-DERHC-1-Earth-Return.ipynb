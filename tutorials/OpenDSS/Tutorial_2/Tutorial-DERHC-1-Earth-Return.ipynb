{
 "cells": [
  {
   "cell_type": "markdown",
   "metadata": {},
   "source": [
    "# Modelling and Analysis of a Simple Unbalanced LV Network with a Single Wire Earth Return System (SWER)\n",
    "\n",
    "## Introduction\n",
    "\n",
    "This tutorial will demonstrate how to model an unbalanced LV network with a single-wire earth-return\n",
    "system in Roseau Load Flow (_RLF_) solver. We will replicate the network which was initially\n",
    "specified in OpenDSS syntax in _RLF_ and compare the results obtained to benchmark their capabilities.\n",
    "\n",
    "Before attempting this tutorial, you should have finished Tutorial 1 in this repository for a\n",
    "basic knowledge of how the _RLF_ solver works. We'll be using a modified form of the network in\n",
    "Tutorial 1 that uses an earth return system instead of a neutral conductor as shown in Figure 1\n",
    "below. The network consists of an MV bus, a MV/LV, $\\Delta$-Y transformer (11kV/0.4kV, 250 kVA)\n",
    "between the source bus and bus A, a 240 mm² 3-phase line connecting buses A and B, and three 16 mm²\n",
    "single-phase lines connecting bus B with buses C, D and E each of which serves as a connection\n",
    "point for a house.\n",
    "\n",
    "<center> <img style=\"float: middle;\" \n",
    "          src=\"../images/LV_Network_Without_Neutral.png\" \n",
    "          alt=\"Simple LV network\"\n",
    "          width=\"40%\"> \n",
    "</center>\n",
    "\n",
    "**<center> Figure 1. Simple LV Network with Earth Return System </center>**\n",
    "\n",
    "The details for the loads in the network are given in the table below.\n",
    "| Load Name | Phases | Connected bus | Peak Demand (kW) | PF |\n",
    "| :-------- | :----- | :------------ | :--------------- | :--- |\n",
    "| Load_1 | 1 | C | 7 | 0.95 |\n",
    "| Load_2 | 1 | D | 6 | 0.95 |\n",
    "| Load_3 | 1 | E | 8 | 0.95 |\n"
   ]
  },
  {
   "cell_type": "markdown",
   "metadata": {},
   "source": [
    "## Import Required Packages\n"
   ]
  },
  {
   "cell_type": "code",
   "execution_count": null,
   "metadata": {},
   "outputs": [],
   "source": [
    "import dss\n",
    "import numpy as np\n",
    "import roseau.load_flow as rlf"
   ]
  },
  {
   "cell_type": "markdown",
   "metadata": {},
   "source": [
    "## Open DSS\n",
    "\n",
    "Because this tutorial focuses on the RLF solver, we will only provide a brief overview of how to\n",
    "model the above network in OpenDSS. For a detailed explanation of how to model this network in\n",
    "OpenDSS, we refer you to this origin of this tutorial which is available\n",
    "[here](https://github.com/Team-Nando/Tutorial-DERHostingCapacity-1-AdvancedTools_LV).\n"
   ]
  },
  {
   "cell_type": "markdown",
   "metadata": {},
   "source": [
    "### Modelling the Network\n"
   ]
  },
  {
   "cell_type": "code",
   "execution_count": null,
   "metadata": {},
   "outputs": [],
   "source": [
    "# Set up dss_engine\n",
    "dss_engine = dss.DSS\n",
    "DSSText = dss_engine.Text\n",
    "DSSCircuit = dss_engine.ActiveCircuit\n",
    "DSSSolution = dss_engine.ActiveCircuit.Solution\n",
    "ControlQueue = dss_engine.ActiveCircuit.CtrlQueue\n",
    "dss_engine.AllowForms = 0"
   ]
  },
  {
   "cell_type": "code",
   "execution_count": null,
   "metadata": {},
   "outputs": [],
   "source": [
    "# Network Modelling - Creating a Circuit\n",
    "DSSText.Command = \"Clear\"\n",
    "DSSText.Command = \"Set DefaultBaseFrequency=50\"\n",
    "DSSText.Command = \"New Circuit.Simple_LV_Network\"\n",
    "DSSText.Command = \"Edit vsource.source bus1=sourceBus basekv=11 pu=1.0 phases=3\""
   ]
  },
  {
   "cell_type": "code",
   "execution_count": null,
   "metadata": {},
   "outputs": [],
   "source": [
    "# Adding the 11kV/0.4kV Transformer\n",
    "DSSText.Command = \"New transformer.LVTR Buses=[sourcebus, A.1.2.3] Conns=[delta wye] KVs=[11, 0.4] KVAs=[250 250] %Rs=0.00 xhl=2.5 %loadloss=0 \""
   ]
  },
  {
   "cell_type": "code",
   "execution_count": null,
   "metadata": {},
   "outputs": [],
   "source": [
    "# Creating the linecodes\n",
    "DSSText.Command = \"new linecode.240sq nphases=3 R1=0.127 X1=0.072 R0=0.342 X0=0.089 units=km\"\n",
    "DSSText.Command = \"new linecode.16sq nphases=1 R1=1.15 X1=0.083 R0=1.2 X0=0.083 units=km\"\n",
    "\n",
    "# Creating the 400V and 230V lines\n",
    "DSSText.Command = \"new line.A_B bus1=A.1.2.3 bus2=B.1.2.3 length=1 phases=3 units=km linecode=240sq\"\n",
    "DSSText.Command = \"new line.B_L1 bus1=B.1 bus2=C.1 length=0.01 phases=1 units=km linecode=16sq\"\n",
    "DSSText.Command = \"new line.B_L2 bus1=B.2 bus2=D.1 length=0.01 phases=1 units=km linecode=16sq\"\n",
    "DSSText.Command = \"new line.B_L3 bus1=B.3 bus2=E.1 length=0.01 phases=1 units=km linecode=16sq\""
   ]
  },
  {
   "cell_type": "code",
   "execution_count": null,
   "metadata": {},
   "outputs": [],
   "source": [
    "# Connecting loads to a bus\n",
    "DSSText.Command = \"new load.Load_1 bus1=C.1 phases=1 kV=(0.4 3 sqrt /) kW=7 pf=0.95 model=1 conn=wye Vminpu=0.85 Vmaxpu=1.20 status=fixed\"\n",
    "DSSText.Command = \"new load.Load_2 bus1=D.1 phases=1 kV=(0.4 3 sqrt /) kW=6 pf=0.95 model=1 conn=wye Vminpu=0.85 Vmaxpu=1.20 status=fixed\"\n",
    "DSSText.Command = \"new load.Load_3 bus1=E.1 phases=1 kV=(0.4 3 sqrt /) kW=8 pf=0.95 model=1 conn=wye Vminpu=0.85 Vmaxpu=1.20 status=fixed\""
   ]
  },
  {
   "cell_type": "code",
   "execution_count": null,
   "metadata": {},
   "outputs": [],
   "source": [
    "# Set the Control mode and the Voltage bases\n",
    "DSSText.Command = \"set controlmode=static\"\n",
    "DSSText.Command = \"set mode=snapshot\"\n",
    "DSSText.Command = \"Set VoltageBases=[11 0.4]\"\n",
    "DSSText.Command = \"calcvoltagebases\""
   ]
  },
  {
   "cell_type": "markdown",
   "metadata": {},
   "source": [
    "### Running a Load Flow Simulation\n"
   ]
  },
  {
   "cell_type": "code",
   "execution_count": null,
   "metadata": {},
   "outputs": [],
   "source": [
    "# Run the power flow simulation\n",
    "DSSSolution.Solve()\n",
    "if DSSSolution.Converged:\n",
    "    print(\"The Circuit was Successfully Solved\")\n",
    "else:\n",
    "    raise RuntimeError(\"DID NOT CONVERGE\")"
   ]
  },
  {
   "cell_type": "markdown",
   "metadata": {},
   "source": [
    "### Accessing Results\n"
   ]
  },
  {
   "cell_type": "code",
   "execution_count": null,
   "metadata": {},
   "outputs": [],
   "source": [
    "# Extract active and reactive power of loads\n",
    "for active_load in (\"Load_1\", \"Load_2\", \"Load_3\"):\n",
    "    DSSCircuit.SetActiveElement(f\"Load.{active_load}\")\n",
    "    print(f\"{active_load}:  \")\n",
    "    p_phase, p_neutral = DSSCircuit.ActiveElement.Powers[0::2]\n",
    "    q_phase, q_neutral = DSSCircuit.ActiveElement.Powers[1::2]\n",
    "    print(f\"Active power demand (P)= {round(p_phase+p_neutral, 3)} kW\")\n",
    "    print(f\"Reactive power demand (Q)= {round(q_phase+q_neutral, 3)} kvar\")"
   ]
  },
  {
   "cell_type": "code",
   "execution_count": null,
   "metadata": {},
   "outputs": [],
   "source": [
    "# Extract load bus voltages\n",
    "for active_load in (\"Load_1\", \"Load_2\", \"Load_3\"):\n",
    "    DSSCircuit.SetActiveElement(f\"Load.{active_load}\")\n",
    "    bus_name = DSSCircuit.ActiveElement.Properties(\"bus1\").Val\n",
    "    DSSCircuit.SetActiveBus(bus_name)\n",
    "    voltages = DSSCircuit.ActiveBus.puVoltages[0::2] + 1j * DSSCircuit.ActiveBus.puVoltages[1::2]\n",
    "    (v1,) = np.abs(voltages)\n",
    "    print(f\"The voltage [in p.u.] of the bus connected to {active_load} = {round(v1, 3)} pu\")"
   ]
  },
  {
   "cell_type": "code",
   "execution_count": null,
   "metadata": {},
   "outputs": [],
   "source": [
    "# Extract bus \"A\" voltages\n",
    "active_bus = \"A\"\n",
    "DSSCircuit.SetActiveBus(active_bus)\n",
    "print(f\"Voltage magnitudes at bus {active_bus}:  \")\n",
    "voltages = DSSCircuit.ActiveBus.puVoltages[0::2] + 1j * DSSCircuit.ActiveBus.puVoltages[1::2]\n",
    "v1, v2, v3 = np.abs(voltages)\n",
    "print(f\"Voltage magnitude - phase 1 = {round(v1, 3)} pu\")\n",
    "print(f\"Voltage magnitude - phase 2 = {round(v2, 3)} pu\")\n",
    "print(f\"Voltage magnitude - phase 3 = {round(v3, 3)} pu\")"
   ]
  },
  {
   "cell_type": "code",
   "execution_count": null,
   "metadata": {},
   "outputs": [],
   "source": [
    "# Extract transformer active and reactive power as well as losses\n",
    "DSSCircuit.SetActiveElement(\"transformer.LVTR\")\n",
    "print(\"Results of the transformer LVTR: \")\n",
    "transformer_p = DSSCircuit.ActiveElement.Powers[0::2]\n",
    "transformer_q = DSSCircuit.ActiveElement.Powers[1::2]\n",
    "print(f\"Active power (P) supplied to phase 1 = {round(abs(transformer_p[4]), 5)} kW\")\n",
    "print(f\"Active power (P) supplied to phase 2 = {round(abs(transformer_p[5]), 5)} kW\")\n",
    "print(f\"Active power (P) supplied to phase 3 = {round(abs(transformer_p[6]), 5)} kW\")\n",
    "print(f\"Reactive power (Q) supplied to phase 1 = {round(abs(transformer_q[4]), 5)} kvar\")\n",
    "print(f\"Reactive power (Q) supplied to phase 2 = {round(abs(transformer_q[5]), 5)} kvar\")\n",
    "print(f\"Reactive power (Q) supplied to phase 3 = {round(abs(transformer_q[6]), 5)} kvar\")\n",
    "print(f\"Total active power (P) losses = {round(sum(transformer_p), 5)} kW\")\n",
    "print(f\"Total reactive power (P) losses = {round(sum(transformer_q), 5)} kvar\")"
   ]
  },
  {
   "cell_type": "code",
   "execution_count": null,
   "metadata": {},
   "outputs": [],
   "source": [
    "# Extract the power losses in the lines\n",
    "line_loss = DSSCircuit.LineLosses\n",
    "lines_p, lines_q = line_loss\n",
    "print(\"Results of the Power Losses: \")\n",
    "print(f\"Active power (P) losses = {round(abs(lines_p), 3)} kW\")\n",
    "print(f\"Reactive power (Q) losses = {round(abs(lines_q), 3)} kvar\")"
   ]
  },
  {
   "cell_type": "markdown",
   "metadata": {},
   "source": [
    "## Roseau Load Flow\n",
    "\n",
    "We will now model the same network using the _RLF_ package. As demonstrated in tutorial 1, the\n",
    "workflow for network modelling in _RLF_ typically starts with modelling the buses which we do as\n",
    "shown below using the [`Bus`](https://roseau-load-flow.roseautechnologies.com/models/Bus.html)\n",
    "class.\n"
   ]
  },
  {
   "cell_type": "code",
   "execution_count": null,
   "metadata": {},
   "outputs": [],
   "source": [
    "# Buses\n",
    "source_bus = rlf.Bus(id=\"source_bus\", phases=\"abc\")\n",
    "bus_a = rlf.Bus(id=\"bus_A\", phases=\"abcn\")\n",
    "bus_b = rlf.Bus(id=\"bus_B\", phases=\"abcn\")\n",
    "bus_c = rlf.Bus(id=\"bus_C\", phases=\"an\")\n",
    "bus_d = rlf.Bus(id=\"bus_D\", phases=\"bn\")\n",
    "bus_e = rlf.Bus(id=\"bus_E\", phases=\"cn\")"
   ]
  },
  {
   "cell_type": "markdown",
   "metadata": {},
   "source": [
    "Next, we create the voltage source attached to the source bus using the\n",
    "[`VoltageSource`](https://roseau-load-flow.roseautechnologies.com/models/VoltageSource.html)\n",
    "class and specifying its voltage values. Here we are using 11 kV line-line since the source\n",
    "bus is on the MV side of the network.\n"
   ]
  },
  {
   "cell_type": "code",
   "execution_count": null,
   "metadata": {},
   "outputs": [],
   "source": [
    "# Voltage Source\n",
    "un_mv = 11_000\n",
    "un_lv = 400\n",
    "vs = rlf.VoltageSource(id=\"vs\", bus=source_bus, voltages=un_mv)"
   ]
  },
  {
   "cell_type": "markdown",
   "metadata": {},
   "source": [
    "In the third step, we instantiate the transformer. However, since transformers in _RLF_ and\n",
    "OpenDSS are specified differently, we will make use of the method `from_open_dss` of the\n",
    "[`TransformerParameters`](https://roseau-load-flow.roseautechnologies.com/models/Transformer/index.html)\n",
    "class to ensure we replicate the same transformer. This method converts OpenDSS transformer\n",
    "parameters into _RLF_ parameters. Once the conversion is done, we can use these parameters to\n",
    "create a\n",
    "[`Transformer`](https://roseau-load-flow.roseautechnologies.com/models/Transformer/index.html)\n",
    "object as shown below.\n"
   ]
  },
  {
   "cell_type": "code",
   "execution_count": null,
   "metadata": {},
   "outputs": [],
   "source": [
    "# Converting Transformer Parameters\n",
    "tp = rlf.TransformerParameters.from_open_dss(\n",
    "    id=\"LVTR\",\n",
    "    conns=(\"delta\", \"wye\"),\n",
    "    kvs=rlf.Q_([un_mv, un_lv], \"V\"),\n",
    "    kvas=(250, 250),\n",
    "    leadlag=\"euro\",  # <- should be \"ansi\" (i.e. \"Dyn1\") but we don't have this in RLF yet\n",
    "    xhl=2.5,\n",
    "    rs=0,\n",
    "    loadloss=0,\n",
    "    noloadloss=0,\n",
    "    imag=0,\n",
    "    normhkva=None,\n",
    ")\n",
    "\n",
    "# Transformer\n",
    "transformer = rlf.Transformer(\"LVTR\", bus1=source_bus, bus2=bus_a, parameters=tp)"
   ]
  },
  {
   "cell_type": "markdown",
   "metadata": {},
   "source": [
    "Next, we will add potential references\n",
    "([`PotentialRef`](https://roseau-load-flow.roseautechnologies.com/models/PotentialRef.html))\n",
    "which are unique elements required by the _RLF_ solver and are added to each galvanically isolated\n",
    "section of the network. For the MV side, we can simply add a potential reference to the source bus\n",
    "and we don't need to worry about a neutral or the ground since the MV side is typically balanced.\n",
    "\n",
    "However, for the LV side which does not have a neutral and can be unbalanced, we will need to\n",
    "create a [`Ground`](https://roseau-load-flow.roseautechnologies.com/models/Ground.html) element.\n",
    "This ground will be connected to the neutral of all the LV buses and will serve as the return\n",
    "path in the place of an actual neutral conductor. Finally, we will connect the LV `PotentialRef`\n",
    "to this ground which will set its voltage to 0V.\n"
   ]
  },
  {
   "cell_type": "code",
   "execution_count": null,
   "metadata": {},
   "outputs": [],
   "source": [
    "# MV Potential Reference\n",
    "pref_mv = rlf.PotentialRef(id=\"pref_mv\", element=source_bus)\n",
    "\n",
    "# LV Ground and Potential Reference\n",
    "ground = rlf.Ground(id=\"ground\")\n",
    "# NOTE THE GROUND CONNECTION TO ALL BUSES, that is because our lines don't have neutrals\n",
    "# and we want the current to return through the earth\n",
    "for b in (bus_a, bus_b, bus_c, bus_d, bus_e):\n",
    "    ground.connect(bus=b, phase=\"n\")\n",
    "pref_lv = rlf.PotentialRef(id=\"pref_lv\", element=ground)"
   ]
  },
  {
   "cell_type": "markdown",
   "metadata": {},
   "source": [
    "In the fifth step, we will create the lines in the network. Similar to the transformers, we will\n",
    "like to replicate the same lines from the OpenDSS specifications in _RLF_ to ensure consistency.\n",
    "To do this, we will employ the `from_open_dss` method of the\n",
    "[`LineParameters`](https://roseau-load-flow.roseautechnologies.com/models/Line/Parameters.html)\n",
    "class. This method converts the parameters of an OpenDSS line (linecodes) into an _RLF_\n",
    "`LineParameters` object. We do this for both types of lines in the network.\n",
    "\n",
    "Then, we can use these converted `LineParameters` to create the lines using the\n",
    "[`Line`](https://roseau-load-flow.roseautechnologies.com/models/Line/index.html) class as shown\n",
    "below. Compared to tutorial 1, note that we specify the phase names without an \"n\" to signify\n",
    "the lack of a neutral conductor.\n"
   ]
  },
  {
   "cell_type": "code",
   "execution_count": null,
   "metadata": {},
   "outputs": [],
   "source": [
    "# Converting the OpenDSS linecodes into RLF line parameters\n",
    "lp_240 = rlf.LineParameters.from_open_dss(\n",
    "    id=\"linecode-240sq\",\n",
    "    nphases=3,\n",
    "    r1=rlf.Q_(0.127, \"ohm/km\"),\n",
    "    x1=rlf.Q_(0.072, \"ohm/km\"),\n",
    "    r0=rlf.Q_(0.342, \"ohm/km\"),\n",
    "    x0=rlf.Q_(0.089, \"ohm/km\"),\n",
    "    c1=rlf.Q_(3.400, \"nF/km\"),\n",
    "    c0=rlf.Q_(1.600, \"nF/km\"),\n",
    "    basefreq=rlf.Q_(50, \"Hz\"),\n",
    "    normamps=rlf.Q_(400, \"A\"),\n",
    "    linetype=\"OH\",\n",
    ")\n",
    "lp_16 = rlf.LineParameters.from_open_dss(\n",
    "    id=\"linecode-16sq\",\n",
    "    nphases=1,\n",
    "    r1=rlf.Q_(1.150, \"ohm/km\"),\n",
    "    x1=rlf.Q_(0.083, \"ohm/km\"),\n",
    "    r0=rlf.Q_(1.200, \"ohm/km\"),\n",
    "    x0=rlf.Q_(0.083, \"ohm/km\"),\n",
    "    c1=rlf.Q_(3.400, \"nF/km\"),\n",
    "    c0=rlf.Q_(1.600, \"nF/km\"),\n",
    "    basefreq=rlf.Q_(50, \"Hz\"),\n",
    "    normamps=rlf.Q_(400, \"A\"),\n",
    "    linetype=\"OH\",\n",
    ")\n",
    "\n",
    "# Lines\n",
    "line_ab = rlf.Line(\n",
    "    \"lineA_B\", bus1=bus_a, bus2=bus_b, phases=\"abc\", parameters=lp_240, length=rlf.Q_(1, \"km\"), ground=ground\n",
    ")\n",
    "line_bc = rlf.Line(\n",
    "    \"lineB_C\", bus1=bus_b, bus2=bus_c, phases=\"a\", parameters=lp_16, length=rlf.Q_(10, \"m\"), ground=ground\n",
    ")\n",
    "line_bd = rlf.Line(\n",
    "    \"lineB_D\", bus1=bus_b, bus2=bus_d, phases=\"b\", parameters=lp_16, length=rlf.Q_(10, \"m\"), ground=ground\n",
    ")\n",
    "line_be = rlf.Line(\n",
    "    \"lineB_E\", bus1=bus_b, bus2=bus_e, phases=\"c\", parameters=lp_16, length=rlf.Q_(10, \"m\"), ground=ground\n",
    ")"
   ]
  },
  {
   "cell_type": "markdown",
   "metadata": {},
   "source": [
    "In the final modelling step, we will create the loads. Since all the loads on the network are\n",
    "constant-power loads, they can be modelled using the\n",
    "[`PowerLoad`](https://roseau-load-flow.roseautechnologies.com/models/Load/PowerLoad.html) class\n",
    "of _RLF_. However, because the `powers` parameter in the `PowerLoad` class takes in complex power,\n",
    "we write a small function `complex_power` to convert the peak demand (kW) given in the loads table\n",
    "to apparent power at the corresponding power factor.\n"
   ]
  },
  {
   "cell_type": "code",
   "execution_count": null,
   "metadata": {},
   "outputs": [],
   "source": [
    "# Convert Active Power to Apparent Power\n",
    "def complex_power(p: float, pf: float) -> complex:\n",
    "    phi = np.arccos(pf)\n",
    "    q = p * np.tan(phi)\n",
    "    return p + 1j * q\n",
    "\n",
    "\n",
    "# Loads\n",
    "load1 = rlf.PowerLoad(id=\"load1\", bus=bus_c, phases=\"an\", powers=[complex_power(7e3, 0.95)])\n",
    "load2 = rlf.PowerLoad(id=\"load2\", bus=bus_d, phases=\"bn\", powers=[complex_power(6e3, 0.95)])\n",
    "load3 = rlf.PowerLoad(id=\"load3\", bus=bus_e, phases=\"cn\", powers=[complex_power(8e3, 0.95)])"
   ]
  },
  {
   "cell_type": "markdown",
   "metadata": {},
   "source": [
    "### Running a Load Flow Simulation\n",
    "\n",
    "As shown in tutorial 1, before running a load flow simulation in _RLF_, we must first create the\n",
    "network (`ElectricalNetwork`) from the disjointed network elements that have been instantiated in\n",
    "the preceding steps. The straightforward way to do this is to use the `from_element` method of\n",
    "the `ElectricalNetwork` class. This method allows us to create the entire network from a single\n",
    "bus and adds all the other elements procedurally.\n"
   ]
  },
  {
   "cell_type": "code",
   "execution_count": null,
   "metadata": {},
   "outputs": [],
   "source": [
    "en = rlf.ElectricalNetwork.from_element(initial_bus=source_bus)\n",
    "en"
   ]
  },
  {
   "cell_type": "markdown",
   "metadata": {},
   "source": [
    "Then, we can run the load flow by simply calling the `solve_load_flow` method of the network.\n"
   ]
  },
  {
   "cell_type": "code",
   "execution_count": null,
   "metadata": {},
   "outputs": [],
   "source": [
    "en.solve_load_flow()"
   ]
  },
  {
   "cell_type": "markdown",
   "metadata": {},
   "source": [
    "### Accessing and Comparing Results\n",
    "\n",
    "Here, we compare the results from the OpenDSS simulations with that of _RLF_. In each of the\n",
    "subsequent steps, note the ease of accessing results in _RLF_ compared to constantly setting\n",
    "active elements in OpenDSS.\n"
   ]
  },
  {
   "cell_type": "markdown",
   "metadata": {},
   "source": [
    "First, we compare the active and reactive powers calculated by the _RLF_ solver. To access the\n",
    "active power of the load, we simply need to use the `res_powers` property of each load. This\n",
    "returns an _RLF_ Quantity object which contains the incoming/outgoing apparent power (in VA) of\n",
    "the load. These powers can simply be converted into kVA using the `m_as` method of the `Quantity`\n",
    "class. The sum of these powers gives the total power dissipated by the load. It can be observed\n",
    "that the active and reactive powers are exactly the same as that of OpenDSS.\n"
   ]
  },
  {
   "cell_type": "code",
   "execution_count": null,
   "metadata": {},
   "outputs": [],
   "source": [
    "# Active and Reactive Powers of the Loads\n",
    "for load in (load1, load2, load3):\n",
    "    print(f\"{load.id}:  \")\n",
    "    load_powers = load.res_powers.m_as(\"kVA\").sum()\n",
    "    print(f\"Active power demand (P)= {round(load_powers.real, 3)} kW\")\n",
    "    print(f\"Reactive power demand (Q)= {round(load_powers.imag, 3)} kvar\")"
   ]
  },
  {
   "cell_type": "markdown",
   "metadata": {},
   "source": [
    "Next, we examine the bus voltages of the load buses which we can access by using the `res_voltages`\n",
    "property of the loads. Then, we simply convert these values into per-unit values using a base\n",
    "value of ($400 / \\sqrt{3}$) to compare to the OpenDSS results which are given in per-unit\n",
    "by default. Again, we see that the results are the same with that of OpenDSS.\n"
   ]
  },
  {
   "cell_type": "code",
   "execution_count": null,
   "metadata": {},
   "outputs": [],
   "source": [
    "for load in (load1, load2, load3):\n",
    "    voltages_pu = abs(load.res_voltages.m[0]) / (un_lv / np.sqrt(3))\n",
    "    print(f\"The voltage [in p.u.] of the bus connected to {load.id} = {round(voltages_pu, 3)} pu\")"
   ]
  },
  {
   "cell_type": "markdown",
   "metadata": {},
   "source": [
    "Similarly, we can obtain the bus voltage at bus A using the `res_voltages` property of the bus\n",
    "and converting the values into per-unit values in the same manner. It can be seen that the\n",
    "results are once again the same.\n"
   ]
  },
  {
   "cell_type": "code",
   "execution_count": null,
   "metadata": {},
   "outputs": [],
   "source": [
    "print(\"Voltage magnitudes at bus A:  \")\n",
    "bus_a_voltages_pu = abs(bus_a.res_voltages.m) / (un_lv / np.sqrt(3))\n",
    "print(f\"Voltage magnitude - phase 1 = {round(bus_a_voltages_pu[0], 3)} pu\")\n",
    "print(f\"Voltage magnitude - phase 2 = {round(bus_a_voltages_pu[1], 3)} pu\")\n",
    "print(f\"Voltage magnitude - phase 3 = {round(bus_a_voltages_pu[2], 3)} pu\")"
   ]
  },
  {
   "cell_type": "markdown",
   "metadata": {},
   "source": [
    "Then we extract the power supplied to the transformer as well as the power losses using the\n",
    "`res_powers` and `res_power_losses` properties respectively. The active and reactive power in\n",
    "each phase as well as the power lost are derived as shown below. Here we see a bit of difference\n",
    "with the OpenDSS results in some parameters. This is due to imperfections in converting an\n",
    "OpenDSS transformer specification into an RLF one. However, these differences in results are\n",
    "very small, on the order of $10^{-3}$ and are not significant.\n"
   ]
  },
  {
   "cell_type": "code",
   "execution_count": null,
   "metadata": {},
   "outputs": [],
   "source": [
    "transformer_powers = transformer.res_powers[1].m_as(\"kVA\")\n",
    "transformer_power_losses = transformer.res_power_losses.m_as(\"kVA\")\n",
    "print(\"Results of the transformer LVTR: \")\n",
    "print(f\"Active power (P) supplied to phase 1 = {round(abs(transformer_powers[0].real), 5)} kW\")\n",
    "print(f\"Active power (P) supplied to phase 2 = {round(abs(transformer_powers[1].real), 5)} kW\")\n",
    "print(f\"Active power (P) supplied to phase 3 = {round(abs(transformer_powers[2].real), 5)} kW\")\n",
    "print(f\"Reactive power (Q) supplied to phase 1 = {round(abs(transformer_powers[0].imag), 5)} kvar\")\n",
    "print(f\"Reactive power (Q) supplied to phase 2 = {round(abs(transformer_powers[1].imag), 5)} kvar\")\n",
    "print(f\"Reactive power (Q) supplied to phase 3 = {round(abs(transformer_powers[2].imag), 5)} kvar\")\n",
    "print(f\"Total active power (P) losses = {round(transformer_power_losses.real, 5)} kW\")\n",
    "print(f\"Total reactive power (P) losses = {round(transformer_power_losses.imag, 5)} kvar\")"
   ]
  },
  {
   "cell_type": "markdown",
   "metadata": {},
   "source": [
    "Finally, we investigate the line losses calculated during the _RLF_ simulation. We can access\n",
    "the line losses using the `res_lines` property of the network itself. This returns a dataframe\n",
    "where we can extract the series losses of the lines. When compared to OpenDSS results, it can be\n",
    "seen that both are the exact same values.\n"
   ]
  },
  {
   "cell_type": "code",
   "execution_count": null,
   "metadata": {},
   "outputs": [],
   "source": [
    "total_line_loss = en.res_lines[\"series_losses\"].sum() * 1e-3  # Convert to kVA\n",
    "print(\"Results of the Power Losses: \")\n",
    "print(f\"Active power (P) losses = {round(abs(total_line_loss.real), 3)} kW\")\n",
    "print(f\"Reactive power (Q) losses = {round(abs(total_line_loss.imag), 3)} kvar\")"
   ]
  },
  {
   "cell_type": "markdown",
   "metadata": {},
   "source": [
    "## Conclusion\n",
    "\n",
    "This tutorial has demonstrated the modelling flexibility and interoperability of the\n",
    "_Roseau Load Flow_ solver. We've been able to model an unbalanced LV network with an earth-return\n",
    "system using parameters specified in OpenDSS format. The results calculated by _RLF_ have also\n",
    "been shown to be the same as that of OpenDSS showing the effectiveness of our solver.\n"
   ]
  }
 ],
 "metadata": {
  "kernelspec": {
   "display_name": "venv",
   "language": "python",
   "name": "python3"
  },
  "language_info": {
   "codemirror_mode": {
    "name": "ipython",
    "version": 3
   },
   "file_extension": ".py",
   "mimetype": "text/x-python",
   "name": "python",
   "nbconvert_exporter": "python",
   "pygments_lexer": "ipython3",
   "version": "3.12.4"
  }
 },
 "nbformat": 4,
 "nbformat_minor": 2
}
