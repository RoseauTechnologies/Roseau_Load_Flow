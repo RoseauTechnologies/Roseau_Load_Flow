{
 "cells": [
  {
   "cell_type": "markdown",
   "metadata": {},
   "source": [
    "# Modelling and analyzing a simple unbalanced network with Roseau Load Flow solver\n",
    "\n",
    "### Introduction\n",
    "\n",
    "This tutorial is meant to introduce the procedure for modelling components of a given low voltage\n",
    "(LV) network using the _Roseau Load Flow (RLF)_ solver. It will also cover the process of running\n",
    "a power flow, accessing results, and analysis such as voltage regulation and energy losses.\n",
    "\n",
    "Consider the simple LV network shown in the figure below containing a MV/LV, $\\Delta$-Y transformer\n",
    "(20kV/0.4kV, 250 kVA) between the source bus and bus A, a 240 mm², 3-phase line connecting buses A\n",
    "and B, and three 16 mm² single-phase lines connecting bus B with buses C, D and E each of which\n",
    "serves as a connection point for a house.\n",
    "\n",
    "<center> <img style=\"float: middle;\" \n",
    "          src=\"../images/LV_Network_With_Neutral.png\" \n",
    "          alt=\"Simple LV network\"\n",
    "          width=\"40%\"> \n",
    "</center>\n",
    "\n",
    "**<center> Figure 1. Simple LV Network</center>**\n"
   ]
  },
  {
   "cell_type": "markdown",
   "metadata": {},
   "source": [
    "### Import the required modules and functions\n",
    "\n",
    "First we need to import the modules and functions needed for this tutorial. The purpose of the\n",
    "following code are explained as follows:\n",
    "\n",
    "- `import roseau.load_flow as rlf`: imports the _Roseau Load Flow_ package. This package is used\n",
    "  to model the various components of the network such as buses, lines, transformers, etc.\n",
    "\n",
    "- `import numpy as np`: imports the _numpy_ package which will be used for manipulating parameter\n",
    "  arrays, calculating exponents, and for retrieving the pi constant.\n"
   ]
  },
  {
   "cell_type": "code",
   "execution_count": null,
   "metadata": {},
   "outputs": [],
   "source": [
    "import numpy as np\n",
    "import roseau.load_flow as rlf"
   ]
  },
  {
   "cell_type": "markdown",
   "metadata": {},
   "source": [
    "### Creating the buses\n",
    "\n",
    "After importing all the necessary modules, we can move on to the modelling of the given LV network.\n",
    "We start with the buses which are the nodes of the network. To create a bus in _Roseau Load Flow_,\n",
    "we use the [`rlf.Bus`](https://roseau-load-flow.roseautechnologies.com/models/Bus.html) class and\n",
    "pass the constructor an identifier and the number of phases that the bus has.\n",
    "\n",
    "The identifier is used internally by the solver to identify network elements and is also used to\n",
    "name the element when displaying results. Almost all elements in _RLF_ require an id when\n",
    "instantiating. Also, a bus in _RLF_ can either be a three-phase bus (with or without neutral i.e.\n",
    "`abcn` or `abc`) or any combination of one/two phases with or without the neutral. More information\n",
    "on buses and possible phase combinations in _RLF_ can be found\n",
    "[here](https://roseau-load-flow.roseautechnologies.com/models/Bus.html).\n",
    "\n",
    "For this tutorial, the network's buses are created as follows:\n",
    "\n",
    "- `source_bus = rlf.Bus(id=\"source_bus\", phases=\"abc\")`: this creates a 3-phase source bus with no\n",
    "  neutral since it's typically not needed in a transmission network.\n",
    "\n",
    "- `bus_a = rlf.Bus(id=\"bus_A\", phases=\"abcn\")`: this creates bus A as a 3-phase bus with a neutral\n",
    "  (since it's a distribution network bus). Bus B is created in a similar manner.\n",
    "\n",
    "- `bus_c = rlf.Bus(id=\"bus_C\", phases=\"an\")`: this creates bus C as a single phase bus with a\n",
    "  neutral. Buses D and E are created in a similar manner but with different phases.\n"
   ]
  },
  {
   "cell_type": "code",
   "execution_count": null,
   "metadata": {},
   "outputs": [],
   "source": [
    "source_bus = rlf.Bus(id=\"source_bus\", phases=\"abc\")\n",
    "bus_a = rlf.Bus(id=\"bus_A\", phases=\"abcn\")\n",
    "bus_b = rlf.Bus(id=\"bus_B\", phases=\"abcn\")\n",
    "bus_c = rlf.Bus(id=\"bus_C\", phases=\"an\")\n",
    "bus_d = rlf.Bus(id=\"bus_D\", phases=\"bn\")\n",
    "bus_e = rlf.Bus(id=\"bus_E\", phases=\"cn\")"
   ]
  },
  {
   "cell_type": "markdown",
   "metadata": {},
   "source": [
    "### Adding a voltage source to the source bus\n",
    "\n",
    "Because the source bus is responsible for powering the network, we need to add a voltage source at\n",
    "the bus to reflect this.\n",
    "\n",
    "A voltage source can either be Y-connected (has a neutral) or $\\Delta$-connected (no neutral) as\n",
    "described [here](https://roseau-load-flow.roseautechnologies.com/models/VoltageSource.html#connections).\n",
    "The phases of the source are copied from its bus by default. Here the source bus has no neutral, so the\n",
    "voltage source is a $\\Delta$-connected voltage source. We create the voltage source using the\n",
    "[`rlf.VoltageSource`](https://roseau-load-flow.roseautechnologies.com/models/VoltageSource.html)\n",
    "class and specify an id, the bus it is connected to and its voltages:\n",
    "\n",
    "- `vs = VoltageSource(id=\"vs\", bus=source_bus, voltages=20_000)`\n"
   ]
  },
  {
   "cell_type": "code",
   "execution_count": null,
   "metadata": {},
   "outputs": [],
   "source": [
    "vs = rlf.VoltageSource(id=\"vs\", bus=source_bus, voltages=20_000)"
   ]
  },
  {
   "cell_type": "markdown",
   "metadata": {},
   "source": [
    "### Adding the transformer\n",
    "\n",
    "Next, we will add the MV/LV transformer. To add a transformer in _RLF_, first we need to define the\n",
    "transformer's parameters using the\n",
    "[`rlf.TransformerParameters`](https://roseau-load-flow.roseautechnologies.com/models/Transformer/index.html)\n",
    "class. This can be done in multiple ways in _RLF_ as described\n",
    "[here](https://roseau-load-flow.roseautechnologies.com/models/Transformer/index.html)\n",
    "\n",
    "For the purpose of this tutorial, we will be using predefined transformer parameters from the\n",
    "catalogue of transformers included in _RLF_. To do this, we use the `from_catalogue` method of the\n",
    "[`rlf.TransformerParameters`](https://roseau-load-flow.roseautechnologies.com/models/Transformer/index.html)\n",
    "class. In this case, we use the parameters of a 250 kVA Schneider Electric Minera transformer with\n",
    "the highest efficiency (AA0Ak) as shown in the code cell below. More information on retrieving\n",
    "transformer parameters from the catalogue can be seen\n",
    "[here](https://roseau-load-flow.roseautechnologies.com/usage/Catalogues.html#transformers)\n"
   ]
  },
  {
   "cell_type": "code",
   "execution_count": null,
   "metadata": {},
   "outputs": [],
   "source": [
    "tp = rlf.TransformerParameters.from_catalogue(\"SE_Minera_AA0Ak_250kVA\")"
   ]
  },
  {
   "cell_type": "markdown",
   "metadata": {},
   "source": [
    "Once the transformer's parameters have been defined, a transformer can then be created using the\n",
    "[`rlf.Transformer`](https://roseau-load-flow.roseautechnologies.com/models/Transformer/index.html)\n",
    "class. We pass in the id of the transformer as well as the buses and phases on its primary side\n",
    "(1) and secondary side (2). Finally, we pass in the transformer's parameters created above.\n"
   ]
  },
  {
   "cell_type": "code",
   "execution_count": null,
   "metadata": {},
   "outputs": [],
   "source": [
    "transformer = rlf.Transformer(id=\"transf\", bus1=source_bus, bus2=bus_a, phases1=\"abc\", phases2=\"abcn\", parameters=tp)"
   ]
  },
  {
   "cell_type": "markdown",
   "metadata": {},
   "source": [
    "### Adding potential references and grounds\n",
    "\n",
    "To run power flow calculations in _RLF_, a potential reference must be added to an element in each\n",
    "galvanically isolated section of the network. For this tutorial, the isolated sections are the\n",
    "primary and secondary sides of the transformer.\n",
    "\n",
    "For the primary side of the transformer, we use a\n",
    "[`rlf.PotentialRef`](https://roseau-load-flow.roseautechnologies.com/models/PotentialRef.html)\n",
    "connected to the `source_bus`. We pass in its identifier, the target `element` (which can be a\n",
    "`Bus` or a `Ground`) whose potential will be set to 0 V and an optional `phase` argument which\n",
    "is set to `None` by default. In this case, as the target bus `source_bus` has three potentials\n",
    "(`a`, `b` and `c`) and as the `phase` argument is not defined, the sum of these potentials is\n",
    "set to 0 V by `pref_mv`.\n"
   ]
  },
  {
   "cell_type": "code",
   "execution_count": null,
   "metadata": {},
   "outputs": [],
   "source": [
    "pref_mv = rlf.PotentialRef(id=\"pref_mv\", element=source_bus)"
   ]
  },
  {
   "cell_type": "markdown",
   "metadata": {},
   "source": [
    "For the LV part of the network, we will be using lines with shunt connections. These lines will\n",
    "require a [`rlf.Ground`](https://roseau-load-flow.roseautechnologies.com/models/Ground.html)\n",
    "element which can be created as shown below. The constructor of this element only takes an id.\n"
   ]
  },
  {
   "cell_type": "code",
   "execution_count": null,
   "metadata": {},
   "outputs": [],
   "source": [
    "ground = rlf.Ground(id=\"ground\")"
   ]
  },
  {
   "cell_type": "markdown",
   "metadata": {},
   "source": [
    "Now, we can connect this ground to the neutral of the secondary side of the transformer using\n",
    "its `connect` method.\n"
   ]
  },
  {
   "cell_type": "code",
   "execution_count": null,
   "metadata": {},
   "outputs": [],
   "source": [
    "ground.connect(bus=bus_a, phase=\"n\")"
   ]
  },
  {
   "cell_type": "markdown",
   "metadata": {},
   "source": [
    "For now, the potential of the element `ground` has not been set to 0 V. In _RLF_, the ability\n",
    "to define `Ground` elements has been separated from the ability to set potentials to zero. This\n",
    "is a unique feature of _RLF_ and will become more familiar with subsequent tutorials.\n",
    "\n",
    "In order to set the potential of the element `ground` to 0 V, we just create another\n",
    "[`rlf.PotentialRef`](https://roseau-load-flow.roseautechnologies.com/models/PotentialRef.html).\n"
   ]
  },
  {
   "cell_type": "code",
   "execution_count": null,
   "metadata": {},
   "outputs": [],
   "source": [
    "pref_lv = rlf.PotentialRef(id=\"pref_lv\", element=ground)"
   ]
  },
  {
   "cell_type": "markdown",
   "metadata": {},
   "source": [
    "Here, the element provided to the constructor is a `Ground` element. As a `Ground` has a single\n",
    "potential, the `phase` argument of the constructor must be ignored.\n"
   ]
  },
  {
   "cell_type": "markdown",
   "metadata": {},
   "source": [
    "### Adding Lines\n",
    "\n",
    "Next, we'll add in all the lines present in the network. Similar to the transformer, to add lines in\n",
    "_RLF_, we first need to specify the parameters for the line and this can be done manually using the\n",
    "[`rlf.LineParameters`](https://roseau-load-flow.roseautechnologies.com/models/Line/Parameters.html)\n",
    "or with the catalogue. For manual entry, we will need to specify the series impedance matrix\n",
    "(`z_line`) and optionally, the shunt admittance matrix (`y_shunt`). The dimensions of these matrices\n",
    "must be equal to the number of conductors.\n",
    "\n",
    "Just as we did previously, we will use the _RLF_ catalogue to retrieve predefined parameters for\n",
    "lines. To do this we pass in the name of the desired line parameter as well as the number of\n",
    "phases (conductors) required which can range from 1 to 4. For the three-phase line (with neutral)\n",
    "between buses A and B, we will use parameters from an overhead aluminium cable with a\n",
    "cross-sectional area of 240 mm². The single phase lines will be modelled using parameters from\n",
    "an underground aluminium cable with a cross-sectional area of 19 mm² as shown below. Using line\n",
    "parameters make it easy to create multiple lines with the same characteristics.\n",
    "\n",
    "- `lp_240 = rlf.LineParameters.from_catalogue(\"O_AL_240\", nb_phases=4)`\n",
    "- `lp_19 = rlf.LineParameters.from_catalogue(\"U_AL_19\", nb_phases=2)`\n",
    "\n",
    "Next, we create the actual lines using the\n",
    "[`rlf.Line`](https://roseau-load-flow.roseautechnologies.com/models/Line/index.html) class. To\n",
    "do this, we pass the constructor the line's identifier, the buses it's connected to (bus 1 and\n",
    "bus 2), length of the line, number of phases, and the line's parameters as shown below. In _RLF_,\n",
    "when the `y_shunt` matrix is given in the line parameters, we must define a ground to be used for\n",
    "shunt connections. Here, we reuse the same ground for the LV part of the network.\n",
    "\n",
    "- `line_ab = rlf.Line(id=\"lineA_B\", bus1=bus_a, bus2=bus_b, parameters=lp_240, phases=\"abcn\", length=rlf.Q_(1.0, \"km\"), ground=ground)`\n",
    "\n",
    "**Note**: To demonstrate the flexibility of _RLF_, the length of the line may be specified in\n",
    "multiple units of distance such as kilometer, miles, meters, etc using the `rlf.Q_` (Quantity)\n",
    "class. This class takes in the numerical value of the length and its unit.\n",
    "\n",
    "However, it should also be noted that most arguments in _RLF_ functions, methods or classes can\n",
    "also be given without using the `rlf.Q_` constructor. In this case the default unit used by that\n",
    "function, class or method will be assumed.\n"
   ]
  },
  {
   "cell_type": "code",
   "execution_count": null,
   "metadata": {},
   "outputs": [],
   "source": [
    "# Getting line parameters from the catalogue\n",
    "lp_240 = rlf.LineParameters.from_catalogue(\"O_AL_240\", nb_phases=4)\n",
    "lp_19 = rlf.LineParameters.from_catalogue(\"U_AL_19\", nb_phases=2)\n",
    "\n",
    "\n",
    "# Creating the actual lines\n",
    "line_ab = rlf.Line(\n",
    "    id=\"lineA_B\", bus1=bus_a, bus2=bus_b, parameters=lp_240, phases=\"abcn\", length=rlf.Q_(1.0, \"km\"), ground=ground\n",
    ")\n",
    "line_bc = rlf.Line(\n",
    "    id=\"lineB_C\", bus1=bus_b, bus2=bus_c, phases=\"an\", parameters=lp_19, length=rlf.Q_(10, \"m\"), ground=ground\n",
    ")\n",
    "line_bd = rlf.Line(\n",
    "    id=\"lineB_D\", bus1=bus_b, bus2=bus_d, phases=\"bn\", parameters=lp_19, length=rlf.Q_(10, \"m\"), ground=ground\n",
    ")\n",
    "line_be = rlf.Line(\n",
    "    id=\"lineB_E\", bus1=bus_b, bus2=bus_e, phases=\"cn\", parameters=lp_19, length=rlf.Q_(10, \"m\"), ground=ground\n",
    ")"
   ]
  },
  {
   "cell_type": "markdown",
   "metadata": {},
   "source": [
    "### Adding loads\n",
    "\n",
    "In the final modelling step, we will add the loads at buses C, D and E. The description of the\n",
    "loads are given in the table below. _RLF_ can model different types of loads as described\n",
    "[here](https://roseau-load-flow.roseautechnologies.com/models/Load/index.html).\n",
    "\n",
    "| Load Name | Phases | Connected bus | Peak Demand (kW) | PF   |\n",
    "| :-------- | :----- | :------------ | :--------------- | :--- |\n",
    "| Load_1    | 1      | C             | 7                | 0.95 |\n",
    "| Load_2    | 1      | D             | 6                | 0.95 |\n",
    "| Load_3    | 1      | E             | 8                | 0.95 |\n",
    "\n",
    "For this tutorial, the loads are assumed to be drawing constant power irrespective of the voltage.\n",
    "This means we can model them using a\n",
    "[`rlf.PowerLoad`](https://roseau-load-flow.roseautechnologies.com/models/Load/PowerLoad.html)\n",
    "class. This class takes in the id of the load, the bus it is connected to, which phase of that bus\n",
    "it is attached to, and the apparent power of the load in complex number notation. The power must\n",
    "be given as an array of one or three values for single and 3-phase loads respectively.\n",
    "\n",
    "Since we are given active power and power factor instead of apparent power, then we need to carry\n",
    "out a conversion. For this we have written a small function, `convert_power` that takes in the\n",
    "peak demand and the power factor to carry out the calculation below.\n",
    "\n",
    "$$\\underline{S} = P \\left[1 + j\\tan\\left(\\cos^{-1}(pf)\\right)\\right]$$\n"
   ]
  },
  {
   "cell_type": "code",
   "execution_count": null,
   "metadata": {},
   "outputs": [],
   "source": [
    "def convert_power(power: float, pf: float) -> complex:\n",
    "    return power * (1 + np.tan(np.arccos(pf)) * 1j)"
   ]
  },
  {
   "cell_type": "markdown",
   "metadata": {},
   "source": [
    "Then, we can finally create the load as follows:\n"
   ]
  },
  {
   "cell_type": "code",
   "execution_count": null,
   "metadata": {},
   "outputs": [],
   "source": [
    "load1 = rlf.PowerLoad(id=\"load1\", bus=bus_c, phases=\"an\", powers=[convert_power(7e3, 0.95)])\n",
    "load2 = rlf.PowerLoad(id=\"load2\", bus=bus_d, phases=\"bn\", powers=[convert_power(6e3, 0.95)])\n",
    "load3 = rlf.PowerLoad(id=\"load3\", bus=bus_e, phases=\"cn\", powers=[convert_power(8e3, 0.95)])"
   ]
  },
  {
   "cell_type": "markdown",
   "metadata": {},
   "source": [
    "Note that these three loads are connected between a phase and the neutral of their bus which is\n",
    "defined using the same phases. In cases like this where the phases of the bus and the load are\n",
    "the same specifying the phases in the `PowerLoad` constructor is a bit redundant as the phases\n",
    "of the buses are taken by default. Furthermore, the `powers` argument must be an array of length\n",
    "equal to the number of bus phases.\n"
   ]
  },
  {
   "cell_type": "markdown",
   "metadata": {},
   "source": [
    "### Building the network\n",
    "\n",
    "Following the modelling of all network components, the next step is to build the actual network.\n",
    "Currently, components only exist in isolation and they do not belong to any network. This can be\n",
    "verified by running the code below which returns nothing.\n"
   ]
  },
  {
   "cell_type": "code",
   "execution_count": null,
   "metadata": {},
   "outputs": [],
   "source": [
    "load1.network is None"
   ]
  },
  {
   "cell_type": "markdown",
   "metadata": {},
   "source": [
    "To build the network in _RLF_, we use the `rlf.ElectricalNetwork` class. This class provides\n",
    "several methods for constructing the network and perhaps the easiest one is the `from_element`\n",
    "method. This method allows you to create the entire network from a single bus and adds all the\n",
    "other elements automatically. So, we pass in the source bus to create the entire network as shown\n",
    "below.\n"
   ]
  },
  {
   "cell_type": "code",
   "execution_count": null,
   "metadata": {},
   "outputs": [],
   "source": [
    "en = rlf.ElectricalNetwork.from_element(initial_bus=source_bus)"
   ]
  },
  {
   "cell_type": "markdown",
   "metadata": {},
   "source": [
    "To verify if the network has been successfully created, we can just print `en` to see the number\n",
    "of elements in the built network.\n"
   ]
  },
  {
   "cell_type": "code",
   "execution_count": null,
   "metadata": {},
   "outputs": [],
   "source": [
    "en"
   ]
  },
  {
   "cell_type": "markdown",
   "metadata": {},
   "source": [
    "### Running a load flow\n",
    "\n",
    "To execute load flow calculations in _RLF_, a license is required. However, a free, limited\n",
    "license key is available\n",
    "[`here`](https://roseau-load-flow.roseautechnologies.com/License.html#license-types) and can be\n",
    "used for the purpose of this tutorial.\n",
    "\n",
    "Once the license is properly installed, we can simply run a load flow as shown below:\n"
   ]
  },
  {
   "cell_type": "code",
   "execution_count": null,
   "metadata": {},
   "outputs": [],
   "source": [
    "en.solve_load_flow()"
   ]
  },
  {
   "cell_type": "markdown",
   "metadata": {},
   "source": [
    "This function returns the number of iterations performed by the solver and the residual error\n",
    "after convergence.\n"
   ]
  },
  {
   "cell_type": "markdown",
   "metadata": {},
   "source": [
    "### Accessing results\n",
    "\n",
    "After running the load flow calculations, we can extract the value of several quantities from\n",
    "different network elements. Each quantity can be accessed through the name of the quantity\n",
    "prefixed with the phrase `res_`. A complete breakdown of possible results for each network element\n",
    "is given below.\n",
    "\n",
    "| Element type                                | Available results                                                                                                                                       |\n",
    "| ------------------------------------------- | ------------------------------------------------------------------------------------------------------------------------------------------------------- |\n",
    "| `Bus`                                       | `res_potentials`, `res_voltages`, `res_violated`                                                                                                        |\n",
    "| `Line`                                      | `res_currents`, `res_powers`, `res_potentials`, `res_voltages`, `res_series_power_losses`, `res_shunt_power_losses`, `res_power_losses`, `res_violated` |\n",
    "| `Transformer`                               | `res_currents`, `res_powers`, `res_potentials`, `res_voltages`, `res_power_losses`, `res_violated`                                                      |\n",
    "| `Switch`                                    | `res_currents`, `res_powers`, `res_potentials`, `res_voltages`                                                                                          |\n",
    "| `ImpedanceLoad`, `CurrentLoad`, `PowerLoad` | `res_currents`, `res_powers`, `res_potentials`, `res_voltages`, `res_flexible_powers`&#8270;                                                            |\n",
    "| `VoltageSource`                             | `res_currents`, `res_powers`, `res_potentials`, `res_voltages`                                                                                          |\n",
    "| `Ground`                                    | `res_potential`                                                                                                                                         |\n",
    "| `PotentialRef`                              | `res_current` _(Always zero for a successful load flow)_                                                                                                |\n",
    "\n",
    "&#8270;: `res_flexible_powers` is only available for flexible loads (`PowerLoad`s with `flexible_params`).\n",
    "\n",
    "To access results for different elements in _RLF_, there are two main methods. The first method\n",
    "involves calling the `res_` method for the desired quantity for that element e.g.\n"
   ]
  },
  {
   "cell_type": "code",
   "execution_count": null,
   "metadata": {},
   "outputs": [],
   "source": [
    "load1.res_voltages"
   ]
  },
  {
   "cell_type": "markdown",
   "metadata": {},
   "source": [
    "Note that the return type is a Quantity (`rlf.Q_`) class. To retrieve the actual numerical value\n",
    "(magnitude) of the quantity, we can just use the `.m` attribute of the `rlf.Q_` object as shown\n",
    "below.\n"
   ]
  },
  {
   "cell_type": "code",
   "execution_count": null,
   "metadata": {},
   "outputs": [],
   "source": [
    "load1.res_voltages.m"
   ]
  },
  {
   "cell_type": "markdown",
   "metadata": {},
   "source": [
    "However, this method of accessing results can only be used for one element at a time. To extract\n",
    "results for multiple similar elements, we can call the `res_` method of the electrical network\n",
    "instead e.g.\n"
   ]
  },
  {
   "cell_type": "code",
   "execution_count": null,
   "metadata": {},
   "outputs": [],
   "source": [
    "en.res_loads"
   ]
  },
  {
   "cell_type": "markdown",
   "metadata": {},
   "source": [
    "We get a `DataFrame` (from the `Pandas` library) of results. In a data frame, the units are not\n",
    "included thus the values are always displayed in SI units of V, A and W.\n"
   ]
  },
  {
   "cell_type": "markdown",
   "metadata": {},
   "source": [
    "##### Accessing active and reactive power of loads\n",
    "\n",
    "Although, these were explicitly specified, we can still verify the results. We will apply both\n",
    "methods described above to retrieve the active (P) and reactive (Q) powers of the three loads\n",
    "present in the network. Note the `res_power` method in _RLF_ returns the powers in the live and\n",
    "neutral conductors. Therefore, the total power dissipated by the load can be determined by taking\n",
    "a sum of these values as shown below.\n"
   ]
  },
  {
   "cell_type": "code",
   "execution_count": null,
   "metadata": {},
   "outputs": [],
   "source": [
    "# Method 1\n",
    "load_power = load1.res_powers.m_as(\"kVA\").sum()\n",
    "print(f\"Active power of Load 1: {round(load_power.real, 3)} kW\")\n",
    "print(f\"Reactive power of Load 1: {round(load_power.imag, 3)} kVar\")"
   ]
  },
  {
   "cell_type": "markdown",
   "metadata": {},
   "source": [
    "Here, the result is converted to kVA using the `m_as` method of the quantities (`Q_`) class.\n"
   ]
  },
  {
   "cell_type": "code",
   "execution_count": null,
   "metadata": {},
   "outputs": [],
   "source": [
    "# Method 2\n",
    "# We extract the DataFrame of results\n",
    "load_powers = en.res_loads[\"power\"].sort_index()\n",
    "\n",
    "# We extract the active and reactive power of each load\n",
    "for index in load_powers.index.get_level_values(0).unique():\n",
    "    load = load_powers.loc[index].sum()\n",
    "    print(f\"Active power of Load 1: {round(load.real/1e3, 3)} kW\")\n",
    "    print(f\"Reactive power of Load 1: {round(load.imag/1e3, 3)} kVar\")"
   ]
  },
  {
   "cell_type": "markdown",
   "metadata": {},
   "source": [
    "##### Voltage magnitude of the load and 3-phase buses\n",
    "\n",
    "Similar to the loads, we can extract the voltage magnitude of a certain bus using its `res_voltages`\n",
    "property. This returns the voltage in complex form which can be converted into polar form to extract\n",
    "the magnitude and phase angle.\n",
    "\n",
    "To extract the results for multiple or all buses simultaneously, we can use the `res_buses` property\n",
    "of the electrical network. This returns a dataframe which can be filtered to get the results for the\n",
    "desired buses. By default, the results are also in rectangular format. To convert to polar form, we\n",
    "use the transform method of dataframes and apply two functions to get the magnitude and phase angle\n",
    "(in degrees) of the voltage.\n",
    "\n",
    "Both methods are shown below.\n"
   ]
  },
  {
   "cell_type": "code",
   "execution_count": null,
   "metadata": {},
   "outputs": [],
   "source": [
    "# Method 1\n",
    "\n",
    "# Voltage magnitude at bus C\n",
    "np.abs(bus_c.res_voltages)"
   ]
  },
  {
   "cell_type": "code",
   "execution_count": null,
   "metadata": {},
   "outputs": [],
   "source": [
    "# Voltage angle at bus C (in degrees)\n",
    "np.angle(bus_c.res_voltages.m, deg=True)"
   ]
  },
  {
   "cell_type": "code",
   "execution_count": null,
   "metadata": {},
   "outputs": [],
   "source": [
    "# Method 2\n",
    "import functools as ft\n",
    "\n",
    "en.res_buses_voltages[\"voltage\"].transform([np.abs, ft.partial(np.angle, deg=True)])"
   ]
  },
  {
   "cell_type": "markdown",
   "metadata": {},
   "source": [
    "#### Active and Reactive powers of the transformer\n",
    "\n",
    "Similarly, to extract the active and reactive powers for the transformer, we can use the two methods\n",
    "of accessing results as shown below. It can be observed that the powers in the secondary side of the\n",
    "transformer are negative. This indicates that the power is leaving the transformer as opposed to the\n",
    "positive powers on the primary side entering the transformer. Also, there is no power flowing\n",
    "thorough the neutral phase as expected.\n"
   ]
  },
  {
   "cell_type": "code",
   "execution_count": null,
   "metadata": {},
   "outputs": [],
   "source": [
    "# Method 1\n",
    "\n",
    "# Primary Side Powers (in kVA and rounded)\n",
    "np.round(transformer.res_powers[0].to(\"kVA\"), 3)"
   ]
  },
  {
   "cell_type": "code",
   "execution_count": null,
   "metadata": {},
   "outputs": [],
   "source": [
    "# Secondary Side Powers (in kVA and rounded)\n",
    "np.round(transformer.res_powers[1].to(\"kVA\"), 3)"
   ]
  },
  {
   "cell_type": "code",
   "execution_count": null,
   "metadata": {},
   "outputs": [],
   "source": [
    "# Method 2 (in kVA and rounded)\n",
    "np.round(en.res_transformers[[\"power1\", \"power2\"]] * 1e-3, 3)"
   ]
  },
  {
   "cell_type": "markdown",
   "metadata": {},
   "source": [
    "In addition, we can also retrieve the power lost in the transformer using the `res_power_losses`\n",
    "property of the\n",
    "[`rlf.Transformer`](https://roseau-load-flow.roseautechnologies.com/models/Transformer/index.html)\n",
    "object as shown below.\n"
   ]
  },
  {
   "cell_type": "code",
   "execution_count": null,
   "metadata": {},
   "outputs": [],
   "source": [
    "transformer.res_power_losses.m"
   ]
  },
  {
   "cell_type": "markdown",
   "metadata": {},
   "source": [
    "#### Line Losses\n",
    "\n",
    "Finally, the line losses on the network can also be conveniently accessed using the described\n",
    "methods. The first method uses the `res_series_power_losses` of each line and returns the line\n",
    "losses for each phase. The second method uses the `res_lines` property of the electrical network\n",
    "and the column `series_losses` in the resulting dataframe contains the power losses on each phase.\n",
    "Conventionally, when talking about line losses, we are typically interested in the active power\n",
    "losses in the lines which can be obtained as shown below.\n"
   ]
  },
  {
   "cell_type": "code",
   "execution_count": null,
   "metadata": {},
   "outputs": [],
   "source": [
    "# Method 1 (unit: W)\n",
    "line_ab.res_series_power_losses.m.real"
   ]
  },
  {
   "cell_type": "code",
   "execution_count": null,
   "metadata": {},
   "outputs": [],
   "source": [
    "# Method 2 (unit: W)\n",
    "en.res_lines[\"series_losses\"].transform([np.real])"
   ]
  }
 ],
 "metadata": {
  "kernelspec": {
   "display_name": "venv",
   "language": "python",
   "name": "python3"
  },
  "language_info": {
   "codemirror_mode": {
    "name": "ipython",
    "version": 3
   },
   "file_extension": ".py",
   "mimetype": "text/x-python",
   "name": "python",
   "nbconvert_exporter": "python",
   "pygments_lexer": "ipython3",
   "version": "3.12.4"
  }
 },
 "nbformat": 4,
 "nbformat_minor": 2
}
