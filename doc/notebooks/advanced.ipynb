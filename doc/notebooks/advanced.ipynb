{
 "cells": [
  {
   "cell_type": "markdown",
   "source": [
    "# Advanced"
   ],
   "metadata": {
    "collapsed": false,
    "pycharm": {
     "name": "#%% md\n"
    }
   }
  },
  {
   "cell_type": "code",
   "execution_count": 14,
   "outputs": [],
   "source": [
    "import numpy as np\n",
    "from roseau.load_flow import *"
   ],
   "metadata": {
    "collapsed": false,
    "pycharm": {
     "name": "#%%\n"
    }
   }
  },
  {
   "cell_type": "markdown",
   "source": [
    "Network creation"
   ],
   "metadata": {
    "collapsed": false,
    "pycharm": {
     "name": "#%% md\n"
    }
   }
  },
  {
   "cell_type": "code",
   "execution_count": 15,
   "outputs": [],
   "source": [
    "ground = Ground()\n",
    "pref = PotentialRef(ground)  # Set the ground to 0\n",
    "\n",
    "# Create a MV voltage source\n",
    "un = 20e3 / np.sqrt(3)\n",
    "voltages = [un, un * np.exp(-2j * np.pi / 3), un * np.exp(2j * np.pi / 3)]\n",
    "vs = VoltageSource(id=\"vs\", n=4, ground=ground, voltages=voltages)\n",
    "\n",
    "# Add a transformer\n",
    "bus0 = Bus(id=\"bus0\", n=4)\n",
    "tc = TransformerCharacteristics(\"160_kVA\", \"Dyn11\", sn=160.0 * 1e3, uhv=20e3, ulv=400.0, i0=2.3 / 100, p0=460.0, psc=2350.0, vsc=4.0 / 100)\n",
    "transformer = DeltaWyeTransformer(id=\"transfo\", bus1=vs, bus2=bus0, transformer_characteristics=tc, tap=1.025)\n",
    "ground.connect(bus0)\n",
    "\n",
    "# Add a LV network\n",
    "lc = LineCharacteristics.from_name_lv(\"S_AL_150\")\n",
    "bus1 = Bus(id=\"bus1\", n=4)\n",
    "bus2 = Bus(id=\"bus2\", n=4)\n",
    "load_bus1 = Bus(id=\"load_bus1\", n=4)\n",
    "load_bus2 = Bus(id=\"load_bus2\", n=4)\n",
    "load_bus3 = Bus(id=\"load_bus3\", n=4)\n",
    "line1 = ShuntLine(id=\"line1\", n=4, bus1=bus0, bus2=bus1, ground=ground, line_characteristics=lc, length=0.5)\n",
    "line2 = ShuntLine(id=\"line2\", n=4, bus1=bus1, bus2=bus2, ground=ground, line_characteristics=lc, length=0.4)\n",
    "line3 = ShuntLine(id=\"line3\", n=4, bus1=bus1, bus2=load_bus1, ground=ground, line_characteristics=lc, length=0.3)\n",
    "line4 = ShuntLine(id=\"line4\", n=4, bus1=bus2, bus2=load_bus2, ground=ground, line_characteristics=lc, length=0.3)\n",
    "line5 = ShuntLine(id=\"line5\", n=4, bus1=load_bus2, bus2=load_bus3, ground=ground, line_characteristics=lc, length=0.4)\n",
    "si = -3e10\n",
    "load1 = PowerLoad(id=\"load1\", n=4, bus=load_bus1, s=[si, si, si])\n",
    "load2 = PowerLoad(id=\"load2\", n=4, bus=load_bus2, s=[si, si, si])\n",
    "load3 = PowerLoad(id=\"load3\", n=4, bus=load_bus3, s=[si, 0, 0])\n",
    "\n",
    "# Create the network\n",
    "en = ElectricalNetwork.from_element(vs)"
   ],
   "metadata": {
    "collapsed": false,
    "pycharm": {
     "name": "#%%\n"
    }
   }
  },
  {
   "cell_type": "code",
   "execution_count": 16,
   "outputs": [
    {
     "data": {
      "text/plain": "array([249.1609503 , 237.94587247, 239.2552125 ]) <Unit('volt')>",
      "text/html": "<table><tbody><tr><th>Magnitude</th><td style='text-align:left;'><pre>[249.16095029692727 237.94587246515812 239.2552125033545]</pre></td></tr><tr><th>Units</th><td style='text-align:left;'>volt</td></tr></tbody></table>",
      "text/latex": "$\\begin{pmatrix}249.16095029692727 & 237.94587246515812 & 239.2552125033545\\end{pmatrix}\\ \\mathrm{volt}$"
     },
     "execution_count": 16,
     "metadata": {},
     "output_type": "execute_result"
    }
   ],
   "source": [
    "en.solve_load_flow(auth=(\"username\", \"dev password\"))\n",
    "np.abs(load_bus3.potentials[0:3] - load_bus3.potentials[3])"
   ],
   "metadata": {
    "collapsed": false,
    "pycharm": {
     "name": "#%%\n"
    }
   }
  },
  {
   "cell_type": "markdown",
   "source": [
    "Flexible loads usage"
   ],
   "metadata": {
    "collapsed": false,
    "pycharm": {
     "name": "#%% md\n"
    }
   }
  },
  {
   "cell_type": "code",
   "execution_count": 17,
   "outputs": [],
   "source": [
    "# Let's make the load 3 flexible with a p(u) control to reduce the voltages constraints\n",
    "en.remove_element(\"load3\")\n",
    "parameter = FlexibleParameter.p_max_u_production(u_up=240, u_max=250, s_max=4000)\n",
    "flexible_load = FlexibleLoad(\n",
    "    id=\"load3\", n=4, bus=load_bus3, s=[si, 0, 0], parameters=[parameter, FlexibleParameter.constant(), FlexibleParameter.constant()]\n",
    ")\n",
    "en.add_element(flexible_load)"
   ],
   "metadata": {
    "collapsed": false,
    "pycharm": {
     "name": "#%%\n"
    }
   }
  },
  {
   "cell_type": "code",
   "execution_count": 18,
   "outputs": [
    {
     "data": {
      "text/plain": "array([245.89349656, 239.36821846, 239.7046492 ]) <Unit('volt')>",
      "text/html": "<table><tbody><tr><th>Magnitude</th><td style='text-align:left;'><pre>[245.89349655674107 239.36821845653907 239.70464920201982]</pre></td></tr><tr><th>Units</th><td style='text-align:left;'>volt</td></tr></tbody></table>",
      "text/latex": "$\\begin{pmatrix}245.89349655674107 & 239.36821845653907 & 239.70464920201982\\end{pmatrix}\\ \\mathrm{volt}$"
     },
     "execution_count": 18,
     "metadata": {},
     "output_type": "execute_result"
    }
   ],
   "source": [
    "en.solve_load_flow(auth=(\"username\", \"dev password\"))\n",
    "np.abs(load_bus3.potentials[0:3] - load_bus3.potentials[3])"
   ],
   "metadata": {
    "collapsed": false,
    "pycharm": {
     "name": "#%%\n"
    }
   }
  },
  {
   "cell_type": "code",
   "execution_count": 19,
   "outputs": [
    {
     "data": {
      "text/plain": "array([-1628.91699011+0.j,     0.        +0.j,     0.        +0.j]) <Unit('volt_ampere')>",
      "text/html": "<table><tbody><tr><th>Magnitude</th><td style='text-align:left;'><pre>[-1628.91699011+0.j     0.        +0.j     0.        +0.j]</pre></td></tr><tr><th>Units</th><td style='text-align:left;'>volt_ampere</td></tr></tbody></table>",
      "text/latex": "$\\begin{pmatrix}(-1628.9169901096436+0j) & 0j & 0j\\end{pmatrix}\\ \\mathrm{volt\\_ampere}$"
     },
     "execution_count": 19,
     "metadata": {},
     "output_type": "execute_result"
    }
   ],
   "source": [
    "flexible_load.powers"
   ],
   "metadata": {
    "collapsed": false,
    "pycharm": {
     "name": "#%%\n"
    }
   }
  },
  {
   "cell_type": "code",
   "execution_count": 20,
   "outputs": [],
   "source": [
    "# Let's try with pq(u) control, by injecting reactive power before reducing active power\n",
    "en.remove_element(\"load3\")\n",
    "parameter = FlexibleParameter.pq_u_production(up_up=240, up_max=250, uq_min=200, uq_down=210, uq_up=235, uq_max=240, s_max=4000)\n",
    "flexible_load = FlexibleLoad(\n",
    "    id=\"load3\", n=4, bus=load_bus3, s=[si, 0, 0], parameters=[parameter, FlexibleParameter.constant(), FlexibleParameter.constant()]\n",
    ")\n",
    "en.add_element(flexible_load)"
   ],
   "metadata": {
    "collapsed": false,
    "pycharm": {
     "name": "#%%\n"
    }
   }
  },
  {
   "cell_type": "code",
   "execution_count": 21,
   "outputs": [
    {
     "data": {
      "text/plain": "array([243.55876278, 236.24816265, 243.80142803]) <Unit('volt')>",
      "text/html": "<table><tbody><tr><th>Magnitude</th><td style='text-align:left;'><pre>[243.5587627848849 236.24816264943718 243.8014280349357]</pre></td></tr><tr><th>Units</th><td style='text-align:left;'>volt</td></tr></tbody></table>",
      "text/latex": "$\\begin{pmatrix}243.5587627848849 & 236.24816264943718 & 243.8014280349357\\end{pmatrix}\\ \\mathrm{volt}$"
     },
     "execution_count": 21,
     "metadata": {},
     "output_type": "execute_result"
    }
   ],
   "source": [
    "en.solve_load_flow(auth=(\"username\", \"dev password\"))\n",
    "np.abs(load_bus3.potentials[0:3] - load_bus3.potentials[3])"
   ],
   "metadata": {
    "collapsed": false,
    "pycharm": {
     "name": "#%%\n"
    }
   }
  },
  {
   "cell_type": "code",
   "execution_count": 22,
   "outputs": [
    {
     "data": {
      "text/plain": "array([-2076.69942528+3418.67217664j,     0.           +0.j        ,\n           0.           +0.j        ]) <Unit('volt_ampere')>",
      "text/html": "<table><tbody><tr><th>Magnitude</th><td style='text-align:left;'><pre>[-2076.69942528+3418.67217664j     0.           +0.j<br>     0.           +0.j        ]</pre></td></tr><tr><th>Units</th><td style='text-align:left;'>volt_ampere</td></tr></tbody></table>",
      "text/latex": "$\\begin{pmatrix}(-2076.6994252761233+3418.6721766395576j) & 0j & 0j\\end{pmatrix}\\ \\mathrm{volt\\_ampere}$"
     },
     "execution_count": 22,
     "metadata": {},
     "output_type": "execute_result"
    }
   ],
   "source": [
    "flexible_load.powers"
   ],
   "metadata": {
    "collapsed": false,
    "pycharm": {
     "name": "#%%\n"
    }
   }
  }
 ],
 "metadata": {
  "kernelspec": {
   "display_name": "Python 3",
   "language": "python",
   "name": "python3"
  },
  "language_info": {
   "codemirror_mode": {
    "name": "ipython",
    "version": 2
   },
   "file_extension": ".py",
   "mimetype": "text/x-python",
   "name": "python",
   "nbconvert_exporter": "python",
   "pygments_lexer": "ipython2",
   "version": "2.7.6"
  }
 },
 "nbformat": 4,
 "nbformat_minor": 0
}