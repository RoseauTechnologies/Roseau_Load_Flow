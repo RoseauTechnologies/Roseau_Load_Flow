{
 "cells": [
  {
   "cell_type": "markdown",
   "source": [
    "# Advanced"
   ],
   "metadata": {
    "collapsed": false,
    "pycharm": {
     "name": "#%% md\n"
    }
   }
  },
  {
   "cell_type": "code",
   "execution_count": 1,
   "outputs": [],
   "source": [
    "import numpy as np\n",
    "from roseau.load_flow import *"
   ],
   "metadata": {
    "collapsed": false,
    "pycharm": {
     "name": "#%%\n"
    }
   }
  },
  {
   "cell_type": "code",
   "execution_count": 2,
   "outputs": [],
   "source": [
    "ground = Ground()\n",
    "pref = PotentialRef(ground)  # Set the ground to 0\n",
    "\n",
    "# Create a MV voltage source\n",
    "un = 20e3\n",
    "voltages = [un, un * np.exp(-2j * np.pi / 3), un * np.exp(2j * np.pi / 3)]\n",
    "vs = VoltageSource(id=\"vs\", n=4, ground=ground, voltages=voltages)\n",
    "\n",
    "# Add a transformer\n",
    "bus0 = Bus(id=\"bus0\", n=4)\n",
    "tc = TransformerCharacteristics(\"160_kVA\", \"Dyn11\", sn=160.0 * 1e3, uhv=un, ulv=400.0, i0=0.023, p0=460.0, psc=2350.0, vsc=0.04)\n",
    "transformer = DeltaWyeTransformer(id=\"transfo\", bus1=vs, bus2=bus0, transformer_characteristics=tc, tap=1.025)\n",
    "\n",
    "# Add a LV network\n",
    "lc = LineCharacteristics.from_name_lv(\"S_AL_150\")\n",
    "bus1 = Bus(id=\"bus1\", n=4)\n",
    "bus2 = Bus(id=\"bus2\", n=4)\n",
    "load_bus1 = Bus(id=\"load_bus1\", n=4)\n",
    "load_bus2 = Bus(id=\"load_bus2\", n=4)\n",
    "load_bus3 = Bus(id=\"load_bus3\", n=4)\n",
    "line1 = ShuntLine(id=\"line1\", n=4, bus1=bus0, bus2=bus1, ground=ground, line_characteristics=lc, length=0.5)\n",
    "line2 = ShuntLine(id=\"line2\", n=4, bus1=bus1, bus2=bus2, ground=ground, line_characteristics=lc, length=0.4)\n",
    "line3 = ShuntLine(id=\"line3\", n=4, bus1=bus1, bus2=load_bus1, ground=ground, line_characteristics=lc, length=0.3)\n",
    "line4 = ShuntLine(id=\"line4\", n=4, bus1=bus2, bus2=load_bus2, ground=ground, line_characteristics=lc, length=0.3)\n",
    "line5 = ShuntLine(id=\"line5\", n=4, bus1=bus2, bus2=load_bus3, ground=ground, line_characteristics=lc, length=0.4)\n",
    "load1 = PowerLoad(id=\"load1\", n=4, bus=load_bus1, s=[-1000, -1000, -1000])\n",
    "load2 = PowerLoad(id=\"load2\", n=4, bus=load_bus1, s=[-1000, -1000, -1000])\n",
    "load3 = PowerLoad(id=\"load3\", n=4, bus=load_bus1, s=[-100000, 0, 0])\n",
    "\n",
    "# Create the network\n",
    "en = ElectricalNetwork.from_element(vs)"
   ],
   "metadata": {
    "collapsed": false,
    "pycharm": {
     "name": "#%%\n"
    }
   }
  },
  {
   "cell_type": "code",
   "execution_count": 3,
   "outputs": [
    {
     "data": {
      "text/plain": "array([ 366.46183422+230.00065992j,   -1.02883488-408.71961195j,\n       -354.3764284 +203.21914104j,  -12.86345571 -16.29434761j]) <Unit('volt')>",
      "text/html": "<table><tbody><tr><th>Magnitude</th><td style='text-align:left;'><pre>[ 366.46183422+230.00065992j   -1.02883488-408.71961195j<br> -354.3764284 +203.21914104j  -12.86345571 -16.29434761j]</pre></td></tr><tr><th>Units</th><td style='text-align:left;'>volt</td></tr></tbody></table>",
      "text/latex": "$\\begin{pmatrix}(366.4618342202125+230.0006599177803j) & (-1.0288348803069591-408.719611954429j) & (-354.37642840458204+203.21914103811497j) & (-12.86345571423043-16.294347608987906j)\\end{pmatrix}\\ \\mathrm{volt}$"
     },
     "execution_count": 3,
     "metadata": {},
     "output_type": "execute_result"
    }
   ],
   "source": [
    "en.solve_load_flow(auth=(\"username\", \"dev password\"))\n",
    "load_bus3.potentials"
   ],
   "metadata": {
    "collapsed": false,
    "pycharm": {
     "name": "#%%\n"
    }
   }
  },
  {
   "cell_type": "code",
   "execution_count": 4,
   "outputs": [],
   "source": [
    "# Let's make the load 3 flexible to eliminate the voltages constraints\n",
    "en.remove_element(\"load3\")\n",
    "parameter = FlexibleParameter.p_max_u_production(u_up=240, u_max=250, s_max=10000)\n",
    "flexible_load = FlexibleLoad(\n",
    "    id=\"fl\", n=4, bus=load_bus3, s = [-10000, 0, 0], parameters=[parameter, FlexibleParameter.constant(), FlexibleParameter.constant()]\n",
    ")\n",
    "en.add_element(flexible_load)"
   ],
   "metadata": {
    "collapsed": false,
    "pycharm": {
     "name": "#%%\n"
    }
   }
  },
  {
   "cell_type": "code",
   "execution_count": 5,
   "outputs": [
    {
     "data": {
      "text/plain": "array([ 3.55523821e+02+2.05535718e+02j,  1.97778107e-01-4.10593456e+02j,\n       -3.55643809e+02+2.05058389e+02j, -7.51442653e-02+6.04855159e-03j]) <Unit('volt')>",
      "text/html": "<table><tbody><tr><th>Magnitude</th><td style='text-align:left;'><pre>[ 3.55523821e+02+2.05535718e+02j  1.97778107e-01-4.10593456e+02j<br> -3.55643809e+02+2.05058389e+02j -7.51442653e-02+6.04855159e-03j]</pre></td></tr><tr><th>Units</th><td style='text-align:left;'>volt</td></tr></tbody></table>",
      "text/latex": "$\\begin{pmatrix}(355.52382125908014+205.53571771300585j) & (0.19777810714063457-410.59345556900956j) & (-355.6438089125044+205.0583887757338j) & (-0.07514426529566443+0.0060485515932618234j)\\end{pmatrix}\\ \\mathrm{volt}$"
     },
     "execution_count": 5,
     "metadata": {},
     "output_type": "execute_result"
    }
   ],
   "source": [
    "en.solve_load_flow(auth=(\"username\", \"dev password\"))\n",
    "load_bus3.potentials"
   ],
   "metadata": {
    "collapsed": false,
    "pycharm": {
     "name": "#%%\n"
    }
   }
  }
 ],
 "metadata": {
  "kernelspec": {
   "display_name": "Python 3",
   "language": "python",
   "name": "python3"
  },
  "language_info": {
   "codemirror_mode": {
    "name": "ipython",
    "version": 2
   },
   "file_extension": ".py",
   "mimetype": "text/x-python",
   "name": "python",
   "nbconvert_exporter": "python",
   "pygments_lexer": "ipython2",
   "version": "2.7.6"
  }
 },
 "nbformat": 4,
 "nbformat_minor": 0
}