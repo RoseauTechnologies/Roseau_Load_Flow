{
 "cells": [
  {
   "cell_type": "markdown",
   "source": [
    "# Basic exemple"
   ],
   "metadata": {
    "collapsed": false,
    "pycharm": {
     "name": "#%% md\n"
    }
   }
  },
  {
   "cell_type": "code",
   "execution_count": 1,
   "outputs": [],
   "source": [
    "import numpy as np\n",
    "from roseau.load_flow import *"
   ],
   "metadata": {
    "collapsed": false,
    "pycharm": {
     "name": "#%%\n"
    }
   }
  },
  {
   "cell_type": "code",
   "execution_count": 2,
   "outputs": [],
   "source": [
    "ground = Ground()\n",
    "pref = PotentialRef(ground)  # Set the ground to 0\n",
    "\n",
    "# Create a voltage source\n",
    "un = 400 / np.sqrt(3)\n",
    "voltages = [un, un * np.exp(-2j * np.pi / 3), un * np.exp(2j * np.pi / 3)]\n",
    "vs = VoltageSource(id=\"vs\", n=4, ground=ground, voltages=voltages)\n",
    "\n",
    "# Add a new LV bus and a load\n",
    "load_bus = Bus(id=\"bus\", n=4)\n",
    "load = DeltaPowerLoad(\"load\", load_bus, [100, 100, 100])\n",
    "\n",
    "# Add a LV line between the voltage source and the bus\n",
    "lc = LineCharacteristics(\"z\", z_line=0.1 * np.eye(4, dtype=complex))\n",
    "line = SimplifiedLine(id=\"line\", n=4, bus1=vs, bus2=load_bus, line_characteristics=lc, length=2.0)"
   ],
   "metadata": {
    "collapsed": false,
    "pycharm": {
     "name": "#%%\n"
    }
   }
  },
  {
   "cell_type": "code",
   "execution_count": 3,
   "outputs": [],
   "source": [
    "# Create the electrical network\n",
    "en = ElectricalNetwork.from_element(vs)"
   ],
   "metadata": {
    "collapsed": false,
    "pycharm": {
     "name": "#%%\n"
    }
   }
  },
  {
   "cell_type": "code",
   "execution_count": 4,
   "outputs": [
    {
     "data": {
      "text/plain": "1"
     },
     "execution_count": 4,
     "metadata": {},
     "output_type": "execute_result"
    }
   ],
   "source": [
    "# Solve the load flow\n",
    "en.solve_load_flow(auth=(\"username\", \"dev password\"))"
   ],
   "metadata": {
    "collapsed": false,
    "pycharm": {
     "name": "#%%\n"
    }
   }
  },
  {
   "cell_type": "code",
   "execution_count": 5,
   "outputs": [
    {
     "name": "stdout",
     "output_type": "stream",
     "text": [
      "[ 230.85347265+6.77541676e-22j -115.42673632-1.99924972e+02j -115.42673632+1.99924972e+02j    0.        +0.00000000e+00j] volt\n"
     ]
    }
   ],
   "source": [
    "print(load_bus.potentials)"
   ],
   "metadata": {
    "collapsed": false,
    "pycharm": {
     "name": "#%%\n"
    }
   }
  },
  {
   "cell_type": "code",
   "execution_count": 6,
   "outputs": [
    {
     "data": {
      "text/plain": "(array([ 0.43317514-3.38770838e-21j, -0.21658757-3.75140678e-01j,\n        -0.21658757+3.75140678e-01j,  0.        +0.00000000e+00j]) <Unit('ampere')>,\n array([-0.43317514+3.38770838e-21j,  0.21658757+3.75140678e-01j,\n         0.21658757-3.75140678e-01j, -0.        +0.00000000e+00j]) <Unit('ampere')>)"
     },
     "execution_count": 6,
     "metadata": {},
     "output_type": "execute_result"
    }
   ],
   "source": [
    "line.currents"
   ],
   "metadata": {
    "collapsed": false,
    "pycharm": {
     "name": "#%%\n"
    }
   }
  },
  {
   "cell_type": "code",
   "execution_count": 7,
   "outputs": [
    {
     "data": {
      "text/plain": "                           potential\nbus_id phase                        \nvs     a      230.9401008+0.0000000j\n       b     -115.470054-200.000000j\n       c     -115.470054+200.000000j\n       n      0.00000000+0.00000000j\nbus    a      230.8534703+0.0000000j",
      "text/html": "<div>\n<style scoped>\n    .dataframe tbody tr th:only-of-type {\n        vertical-align: middle;\n    }\n\n    .dataframe tbody tr th {\n        vertical-align: top;\n    }\n\n    .dataframe thead th {\n        text-align: right;\n    }\n</style>\n<table border=\"1\" class=\"dataframe\">\n  <thead>\n    <tr style=\"text-align: right;\">\n      <th></th>\n      <th></th>\n      <th>potential</th>\n    </tr>\n    <tr>\n      <th>bus_id</th>\n      <th>phase</th>\n      <th></th>\n    </tr>\n  </thead>\n  <tbody>\n    <tr>\n      <th rowspan=\"4\" valign=\"top\">vs</th>\n      <th>a</th>\n      <td>230.9401008+0.0000000j</td>\n    </tr>\n    <tr>\n      <th>b</th>\n      <td>-115.470054-200.000000j</td>\n    </tr>\n    <tr>\n      <th>c</th>\n      <td>-115.470054+200.000000j</td>\n    </tr>\n    <tr>\n      <th>n</th>\n      <td>0.00000000+0.00000000j</td>\n    </tr>\n    <tr>\n      <th>bus</th>\n      <th>a</th>\n      <td>230.8534703+0.0000000j</td>\n    </tr>\n  </tbody>\n</table>\n</div>"
     },
     "execution_count": 7,
     "metadata": {},
     "output_type": "execute_result"
    }
   ],
   "source": [
    "buses_results, branches_results, loads_results = en.results\n",
    "buses_results.head()"
   ],
   "metadata": {
    "collapsed": false,
    "pycharm": {
     "name": "#%%\n"
    }
   }
  },
  {
   "cell_type": "code",
   "execution_count": 8,
   "outputs": [
    {
     "data": {
      "text/plain": "                           current1            current2\nbranch_id phase                                        \nline      a      0.433175-0.000000j -0.433175+0.000000j\n          b     -0.216588-0.375141j  0.216588+0.375141j\n          c     -0.216588+0.375141j  0.216588-0.375141j\n          n      0.000000+0.000000j -0.000000+0.000000j",
      "text/html": "<div>\n<style scoped>\n    .dataframe tbody tr th:only-of-type {\n        vertical-align: middle;\n    }\n\n    .dataframe tbody tr th {\n        vertical-align: top;\n    }\n\n    .dataframe thead th {\n        text-align: right;\n    }\n</style>\n<table border=\"1\" class=\"dataframe\">\n  <thead>\n    <tr style=\"text-align: right;\">\n      <th></th>\n      <th></th>\n      <th>current1</th>\n      <th>current2</th>\n    </tr>\n    <tr>\n      <th>branch_id</th>\n      <th>phase</th>\n      <th></th>\n      <th></th>\n    </tr>\n  </thead>\n  <tbody>\n    <tr>\n      <th rowspan=\"4\" valign=\"top\">line</th>\n      <th>a</th>\n      <td>0.433175-0.000000j</td>\n      <td>-0.433175+0.000000j</td>\n    </tr>\n    <tr>\n      <th>b</th>\n      <td>-0.216588-0.375141j</td>\n      <td>0.216588+0.375141j</td>\n    </tr>\n    <tr>\n      <th>c</th>\n      <td>-0.216588+0.375141j</td>\n      <td>0.216588-0.375141j</td>\n    </tr>\n    <tr>\n      <th>n</th>\n      <td>0.000000+0.000000j</td>\n      <td>-0.000000+0.000000j</td>\n    </tr>\n  </tbody>\n</table>\n</div>"
     },
     "execution_count": 8,
     "metadata": {},
     "output_type": "execute_result"
    }
   ],
   "source": [
    "branches_results.head()"
   ],
   "metadata": {
    "collapsed": false,
    "pycharm": {
     "name": "#%%\n"
    }
   }
  },
  {
   "cell_type": "code",
   "execution_count": 9,
   "outputs": [
    {
     "name": "stdout",
     "output_type": "stream",
     "text": [
      "[ 230.85346181-5.00250125e-02j -115.38340797-1.99949975e+02j -115.47005384+2.00000000e+02j    0.        +0.00000000e+00j] volt\n"
     ]
    }
   ],
   "source": [
    "# Change the load to an unbalanced one and rerun the load flow\n",
    "load.update_powers([200, 0, 0])\n",
    "en.solve_load_flow(auth=(\"username\", \"dev password\"))\n",
    "print(load_bus.potentials)"
   ],
   "metadata": {
    "collapsed": false,
    "pycharm": {
     "name": "#%%\n"
    }
   }
  }
 ],
 "metadata": {
  "kernelspec": {
   "display_name": "Python 3",
   "language": "python",
   "name": "python3"
  },
  "language_info": {
   "codemirror_mode": {
    "name": "ipython",
    "version": 2
   },
   "file_extension": ".py",
   "mimetype": "text/x-python",
   "name": "python",
   "nbconvert_exporter": "python",
   "pygments_lexer": "ipython2",
   "version": "2.7.6"
  }
 },
 "nbformat": 4,
 "nbformat_minor": 0
}