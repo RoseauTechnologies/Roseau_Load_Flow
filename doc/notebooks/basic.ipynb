{
 "cells": [
  {
   "cell_type": "markdown",
   "source": [
    "# Basic exemple"
   ],
   "metadata": {
    "collapsed": false,
    "pycharm": {
     "name": "#%% md\n"
    }
   }
  },
  {
   "cell_type": "code",
   "execution_count": 70,
   "outputs": [],
   "source": [
    "import numpy as np\n",
    "from roseau.load_flow import *"
   ],
   "metadata": {
    "collapsed": false,
    "pycharm": {
     "name": "#%%\n"
    }
   }
  },
  {
   "cell_type": "markdown",
   "source": [
    "Network creation"
   ],
   "metadata": {
    "collapsed": false,
    "pycharm": {
     "name": "#%% md\n"
    }
   }
  },
  {
   "cell_type": "code",
   "execution_count": 71,
   "outputs": [],
   "source": [
    "ground = Ground()\n",
    "pref = PotentialRef(ground)  # Set the ground to 0\n",
    "\n",
    "# Create a voltage source\n",
    "un = 400 / np.sqrt(3)\n",
    "voltages = [un, un * np.exp(-2j * np.pi / 3), un * np.exp(2j * np.pi / 3)]\n",
    "vs = VoltageSource(id=\"vs\", n=4, ground=ground, voltages=voltages)\n",
    "\n",
    "# Add a new LV bus and a load\n",
    "load_bus = Bus(id=\"bus\", n=4)\n",
    "load = PowerLoad(id=\"load\", n=4, bus=load_bus, s=[10e3, 10e3, 10e3])\n",
    "\n",
    "# Add a LV line between the voltage source and the bus\n",
    "lc = LineCharacteristics(\"z\", z_line=0.1 * np.eye(4, dtype=complex))\n",
    "line = SimplifiedLine(id=\"line\", n=4, bus1=vs, bus2=load_bus, line_characteristics=lc, length=2.0)"
   ],
   "metadata": {
    "collapsed": false,
    "pycharm": {
     "name": "#%%\n"
    }
   }
  },
  {
   "cell_type": "code",
   "execution_count": 72,
   "outputs": [],
   "source": [
    "# Create the electrical network\n",
    "en = ElectricalNetwork.from_element(vs)"
   ],
   "metadata": {
    "collapsed": false,
    "pycharm": {
     "name": "#%%\n"
    }
   }
  },
  {
   "cell_type": "markdown",
   "source": [
    "Load flow solving"
   ],
   "metadata": {
    "collapsed": false,
    "pycharm": {
     "name": "#%% md\n"
    }
   }
  },
  {
   "cell_type": "code",
   "execution_count": 73,
   "outputs": [
    {
     "data": {
      "text/plain": "2"
     },
     "execution_count": 73,
     "metadata": {},
     "output_type": "execute_result"
    }
   ],
   "source": [
    "# Solve the load flow\n",
    "en.solve_load_flow(auth=(\"username\", \"dev password\"))"
   ],
   "metadata": {
    "collapsed": false,
    "pycharm": {
     "name": "#%%\n"
    }
   }
  },
  {
   "cell_type": "markdown",
   "source": [
    "Results"
   ],
   "metadata": {
    "collapsed": false,
    "pycharm": {
     "name": "#%% md\n"
    }
   }
  },
  {
   "cell_type": "code",
   "execution_count": 74,
   "outputs": [
    {
     "data": {
      "text/plain": "array([ 2.21928183e+02+5.44506370e-21j, -1.10964092e+02-1.92195445e+02j,\n       -1.10964092e+02+1.92195445e+02j,  2.35450397e-15+1.64993039e-19j]) <Unit('volt')>",
      "text/html": "<table><tbody><tr><th>Magnitude</th><td style='text-align:left;'><pre>[ 2.21928183e+02+5.44506370e-21j -1.10964092e+02-1.92195445e+02j<br> -1.10964092e+02+1.92195445e+02j  2.35450397e-15+1.64993039e-19j]</pre></td></tr><tr><th>Units</th><td style='text-align:left;'>volt</td></tr></tbody></table>",
      "text/latex": "$\\begin{pmatrix}(221.928183361166+5.445063704579086\\times 10^{-21}j) & (-110.96409168058294-192.19544460650073j) & (-110.96409168058294+192.19544460650073j) & (2.3545039664051447\\times 10^{-15}+1.6499303917271002\\times 10^{-19}j)\\end{pmatrix}\\ \\mathrm{volt}$"
     },
     "execution_count": 74,
     "metadata": {},
     "output_type": "execute_result"
    }
   ],
   "source": [
    "load_bus.potentials"
   ],
   "metadata": {
    "collapsed": false,
    "pycharm": {
     "name": "#%%\n"
    }
   }
  },
  {
   "cell_type": "code",
   "execution_count": 75,
   "outputs": [
    {
     "data": {
      "text/plain": "(array([ 4.50596216e+01-2.72253185e-20j, -2.25298108e+01-3.90227770e+01j,\n        -2.25298108e+01+3.90227770e+01j, -1.17725198e-14-8.24965196e-19j]) <Unit('ampere')>,\n array([-4.50596216e+01+2.72253185e-20j,  2.25298108e+01+3.90227770e+01j,\n         2.25298108e+01-3.90227770e+01j,  1.17725198e-14+8.24965196e-19j]) <Unit('ampere')>)"
     },
     "execution_count": 75,
     "metadata": {},
     "output_type": "execute_result"
    }
   ],
   "source": [
    "line.currents"
   ],
   "metadata": {
    "collapsed": false,
    "pycharm": {
     "name": "#%%\n"
    }
   }
  },
  {
   "cell_type": "code",
   "execution_count": 76,
   "outputs": [
    {
     "data": {
      "text/plain": "                               potential\nbus_id phase                            \nvs     a      2.309401e+02+0.000000e+00j\n       b     -1.154701e+02-2.000000e+02j\n       c     -1.154701e+02+2.000000e+02j\n       n      0.000000e+00+0.000000e+00j\nbus    a      2.219282e+02+5.445064e-21j\n       b     -1.109641e+02-1.921954e+02j\n       c     -1.109641e+02+1.921954e+02j\n       n      2.354504e-15+1.649930e-19j",
      "text/html": "<div>\n<style scoped>\n    .dataframe tbody tr th:only-of-type {\n        vertical-align: middle;\n    }\n\n    .dataframe tbody tr th {\n        vertical-align: top;\n    }\n\n    .dataframe thead th {\n        text-align: right;\n    }\n</style>\n<table border=\"1\" class=\"dataframe\">\n  <thead>\n    <tr style=\"text-align: right;\">\n      <th></th>\n      <th></th>\n      <th>potential</th>\n    </tr>\n    <tr>\n      <th>bus_id</th>\n      <th>phase</th>\n      <th></th>\n    </tr>\n  </thead>\n  <tbody>\n    <tr>\n      <th rowspan=\"4\" valign=\"top\">vs</th>\n      <th>a</th>\n      <td>2.309401e+02+0.000000e+00j</td>\n    </tr>\n    <tr>\n      <th>b</th>\n      <td>-1.154701e+02-2.000000e+02j</td>\n    </tr>\n    <tr>\n      <th>c</th>\n      <td>-1.154701e+02+2.000000e+02j</td>\n    </tr>\n    <tr>\n      <th>n</th>\n      <td>0.000000e+00+0.000000e+00j</td>\n    </tr>\n    <tr>\n      <th rowspan=\"4\" valign=\"top\">bus</th>\n      <th>a</th>\n      <td>2.219282e+02+5.445064e-21j</td>\n    </tr>\n    <tr>\n      <th>b</th>\n      <td>-1.109641e+02-1.921954e+02j</td>\n    </tr>\n    <tr>\n      <th>c</th>\n      <td>-1.109641e+02+1.921954e+02j</td>\n    </tr>\n    <tr>\n      <th>n</th>\n      <td>2.354504e-15+1.649930e-19j</td>\n    </tr>\n  </tbody>\n</table>\n</div>"
     },
     "execution_count": 76,
     "metadata": {},
     "output_type": "execute_result"
    }
   ],
   "source": [
    "buses_results, branches_results, loads_results = en.results\n",
    "buses_results"
   ],
   "metadata": {
    "collapsed": false,
    "pycharm": {
     "name": "#%%\n"
    }
   }
  },
  {
   "cell_type": "code",
   "execution_count": 77,
   "outputs": [
    {
     "data": {
      "text/plain": "                                   current1                    current2\nbranch_id phase                                                        \nline      a      4.505962e+01-2.722532e-20j -4.505962e+01+2.722532e-20j\n          b     -2.252981e+01-3.902278e+01j  2.252981e+01+3.902278e+01j\n          c     -2.252981e+01+3.902278e+01j  2.252981e+01-3.902278e+01j\n          n     -1.177252e-14-8.249652e-19j  1.177252e-14+8.249652e-19j",
      "text/html": "<div>\n<style scoped>\n    .dataframe tbody tr th:only-of-type {\n        vertical-align: middle;\n    }\n\n    .dataframe tbody tr th {\n        vertical-align: top;\n    }\n\n    .dataframe thead th {\n        text-align: right;\n    }\n</style>\n<table border=\"1\" class=\"dataframe\">\n  <thead>\n    <tr style=\"text-align: right;\">\n      <th></th>\n      <th></th>\n      <th>current1</th>\n      <th>current2</th>\n    </tr>\n    <tr>\n      <th>branch_id</th>\n      <th>phase</th>\n      <th></th>\n      <th></th>\n    </tr>\n  </thead>\n  <tbody>\n    <tr>\n      <th rowspan=\"4\" valign=\"top\">line</th>\n      <th>a</th>\n      <td>4.505962e+01-2.722532e-20j</td>\n      <td>-4.505962e+01+2.722532e-20j</td>\n    </tr>\n    <tr>\n      <th>b</th>\n      <td>-2.252981e+01-3.902278e+01j</td>\n      <td>2.252981e+01+3.902278e+01j</td>\n    </tr>\n    <tr>\n      <th>c</th>\n      <td>-2.252981e+01+3.902278e+01j</td>\n      <td>2.252981e+01-3.902278e+01j</td>\n    </tr>\n    <tr>\n      <th>n</th>\n      <td>-1.177252e-14-8.249652e-19j</td>\n      <td>1.177252e-14+8.249652e-19j</td>\n    </tr>\n  </tbody>\n</table>\n</div>"
     },
     "execution_count": 77,
     "metadata": {},
     "output_type": "execute_result"
    }
   ],
   "source": [
    "branches_results"
   ],
   "metadata": {
    "collapsed": false,
    "pycharm": {
     "name": "#%%\n"
    }
   }
  },
  {
   "cell_type": "markdown",
   "source": [
    "Network update"
   ],
   "metadata": {
    "collapsed": false,
    "pycharm": {
     "name": "#%% md\n"
    }
   }
  },
  {
   "cell_type": "code",
   "execution_count": 78,
   "outputs": [
    {
     "data": {
      "text/plain": "array([ 216.02252269  +0.j, -115.47005384-200.j, -115.47005384+200.j,\n         14.91758499  +0.j]) <Unit('volt')>",
      "text/html": "<table><tbody><tr><th>Magnitude</th><td style='text-align:left;'><pre>[ 216.02252269  +0.j -115.47005384-200.j -115.47005384+200.j<br>   14.91758499  +0.j]</pre></td></tr><tr><th>Units</th><td style='text-align:left;'>volt</td></tr></tbody></table>",
      "text/latex": "$\\begin{pmatrix}(216.0225226858033+0j) & (-115.47005383792511-200.00000000000003j) & (-115.47005383792511+200.00000000000003j) & (14.917584990047025+0j)\\end{pmatrix}\\ \\mathrm{volt}$"
     },
     "execution_count": 78,
     "metadata": {},
     "output_type": "execute_result"
    }
   ],
   "source": [
    "# Change the load to an unbalanced one and rerun the load flow\n",
    "load.update_powers([15e3, 0, 0])\n",
    "en.solve_load_flow(auth=(\"username\", \"dev password\"))\n",
    "load_bus.potentials"
   ],
   "metadata": {
    "collapsed": false,
    "pycharm": {
     "name": "#%%\n"
    }
   }
  }
 ],
 "metadata": {
  "kernelspec": {
   "display_name": "Python 3",
   "language": "python",
   "name": "python3"
  },
  "language_info": {
   "codemirror_mode": {
    "name": "ipython",
    "version": 2
   },
   "file_extension": ".py",
   "mimetype": "text/x-python",
   "name": "python",
   "nbconvert_exporter": "python",
   "pygments_lexer": "ipython2",
   "version": "2.7.6"
  }
 },
 "nbformat": 4,
 "nbformat_minor": 0
}