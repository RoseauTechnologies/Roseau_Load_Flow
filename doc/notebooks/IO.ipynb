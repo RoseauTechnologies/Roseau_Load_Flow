{
 "cells": [
  {
   "cell_type": "markdown",
   "source": [
    "# Creating a network from a file"
   ],
   "metadata": {
    "collapsed": false
   }
  },
  {
   "cell_type": "code",
   "execution_count": 1,
   "outputs": [],
   "source": [
    "from roseau.load_flow import *"
   ],
   "metadata": {
    "collapsed": false
   }
  },
  {
   "cell_type": "markdown",
   "source": [
    "## From JSON\n",
    "\n",
    "The first format that can be read is the JSON format. The `from_json` class-method of `ElectricalNetwork` can be used\n",
    "for that."
   ],
   "metadata": {
    "collapsed": false
   }
  },
  {
   "cell_type": "code",
   "execution_count": 2,
   "outputs": [],
   "source": [
    "en = ElectricalNetwork.from_json(\"data/LVFeeder00939_summer.json\")"
   ],
   "metadata": {
    "collapsed": false
   }
  },
  {
   "cell_type": "markdown",
   "source": [
    "Note that you can save an `ElectricalNetwork` instance using the method `to_json` if you want.\n",
    "\n",
    "An authentification is required. Please contact us at [contact@roseautechnologies.com](mailto:contact@roseautechnologies.com) to get identification."
   ],
   "metadata": {
    "collapsed": false
   }
  },
  {
   "cell_type": "code",
   "execution_count": 3,
   "outputs": [],
   "source": [
    "# Authentication\n",
    "auth = (\"username\", \"password\")"
   ],
   "metadata": {
    "collapsed": false
   }
  },
  {
   "cell_type": "markdown",
   "source": [
    "Then, a load flow can be directly solved"
   ],
   "metadata": {
    "collapsed": false
   }
  },
  {
   "cell_type": "code",
   "execution_count": 5,
   "outputs": [
    {
     "data": {
      "text/plain": "2"
     },
     "execution_count": 5,
     "metadata": {},
     "output_type": "execute_result"
    }
   ],
   "source": [
    "en.solve_load_flow(auth=auth)"
   ],
   "metadata": {
    "collapsed": false
   }
  },
  {
   "cell_type": "markdown",
   "source": [
    "The results are accessible the same way as explained in the [Getting Started](Getting_Started.ipynb) page"
   ],
   "metadata": {
    "collapsed": false
   }
  },
  {
   "cell_type": "code",
   "execution_count": 6,
   "outputs": [
    {
     "data": {
      "text/plain": "                                     potential\nbus_id        phase                           \nVoltageSource a       11547.0053084+0.0000000j\n              b     -5773.502692-10000.000000j\n              c     -5773.502692+10000.000000j\n              n       0.000000000+0.000000000j\nMVLV03045     a       199.9256500+115.1715310j\n              b      -0.222627-00230.72633100j\n              c      -199.7033210+115.5561070j\n              n       0.000000000+0.000000000j",
      "text/html": "<div>\n<style scoped>\n    .dataframe tbody tr th:only-of-type {\n        vertical-align: middle;\n    }\n\n    .dataframe tbody tr th {\n        vertical-align: top;\n    }\n\n    .dataframe thead th {\n        text-align: right;\n    }\n</style>\n<table border=\"1\" class=\"dataframe\">\n  <thead>\n    <tr style=\"text-align: right;\">\n      <th></th>\n      <th></th>\n      <th>potential</th>\n    </tr>\n    <tr>\n      <th>bus_id</th>\n      <th>phase</th>\n      <th></th>\n    </tr>\n  </thead>\n  <tbody>\n    <tr>\n      <th rowspan=\"4\" valign=\"top\">VoltageSource</th>\n      <th>a</th>\n      <td>11547.0053084+0.0000000j</td>\n    </tr>\n    <tr>\n      <th>b</th>\n      <td>-5773.502692-10000.000000j</td>\n    </tr>\n    <tr>\n      <th>c</th>\n      <td>-5773.502692+10000.000000j</td>\n    </tr>\n    <tr>\n      <th>n</th>\n      <td>0.000000000+0.000000000j</td>\n    </tr>\n    <tr>\n      <th rowspan=\"4\" valign=\"top\">MVLV03045</th>\n      <th>a</th>\n      <td>199.9256500+115.1715310j</td>\n    </tr>\n    <tr>\n      <th>b</th>\n      <td>-0.222627-00230.72633100j</td>\n    </tr>\n    <tr>\n      <th>c</th>\n      <td>-199.7033210+115.5561070j</td>\n    </tr>\n    <tr>\n      <th>n</th>\n      <td>0.000000000+0.000000000j</td>\n    </tr>\n  </tbody>\n</table>\n</div>"
     },
     "execution_count": 6,
     "metadata": {},
     "output_type": "execute_result"
    }
   ],
   "source": [
    "en.buses_potentials.head(n=8)"
   ],
   "metadata": {
    "collapsed": false
   }
  },
  {
   "cell_type": "code",
   "execution_count": 7,
   "outputs": [
    {
     "data": {
      "text/plain": "                                current1            current2\nbranch_id      phase                                        \nTransformer    a      0.182428-0.375059j -7.624267-1.011447j\n               b     -0.415595+0.029482j  2.927451+7.139288j\n               c      0.233166+0.345576j  4.724479-6.108946j\n               n     N00000000a00000000N -0.027663-0.018894j\nLVBranch128683 a      7.624267+1.011447j -7.652458-0.976094j\n               b     -2.927451-7.139288j  2.977054+7.137541j\n               c     -4.724479+6.108946j  4.693273-6.142546j\n               n      0.027663+0.018891j -0.017870-0.018897j",
      "text/html": "<div>\n<style scoped>\n    .dataframe tbody tr th:only-of-type {\n        vertical-align: middle;\n    }\n\n    .dataframe tbody tr th {\n        vertical-align: top;\n    }\n\n    .dataframe thead th {\n        text-align: right;\n    }\n</style>\n<table border=\"1\" class=\"dataframe\">\n  <thead>\n    <tr style=\"text-align: right;\">\n      <th></th>\n      <th></th>\n      <th>current1</th>\n      <th>current2</th>\n    </tr>\n    <tr>\n      <th>branch_id</th>\n      <th>phase</th>\n      <th></th>\n      <th></th>\n    </tr>\n  </thead>\n  <tbody>\n    <tr>\n      <th rowspan=\"4\" valign=\"top\">Transformer</th>\n      <th>a</th>\n      <td>0.182428-0.375059j</td>\n      <td>-7.624267-1.011447j</td>\n    </tr>\n    <tr>\n      <th>b</th>\n      <td>-0.415595+0.029482j</td>\n      <td>2.927451+7.139288j</td>\n    </tr>\n    <tr>\n      <th>c</th>\n      <td>0.233166+0.345576j</td>\n      <td>4.724479-6.108946j</td>\n    </tr>\n    <tr>\n      <th>n</th>\n      <td>N00000000a00000000N</td>\n      <td>-0.027663-0.018894j</td>\n    </tr>\n    <tr>\n      <th rowspan=\"4\" valign=\"top\">LVBranch128683</th>\n      <th>a</th>\n      <td>7.624267+1.011447j</td>\n      <td>-7.652458-0.976094j</td>\n    </tr>\n    <tr>\n      <th>b</th>\n      <td>-2.927451-7.139288j</td>\n      <td>2.977054+7.137541j</td>\n    </tr>\n    <tr>\n      <th>c</th>\n      <td>-4.724479+6.108946j</td>\n      <td>4.693273-6.142546j</td>\n    </tr>\n    <tr>\n      <th>n</th>\n      <td>0.027663+0.018891j</td>\n      <td>-0.017870-0.018897j</td>\n    </tr>\n  </tbody>\n</table>\n</div>"
     },
     "execution_count": 7,
     "metadata": {},
     "output_type": "execute_result"
    }
   ],
   "source": [
    "en.branches_currents.head(n=8)"
   ],
   "metadata": {
    "collapsed": false
   }
  },
  {
   "cell_type": "markdown",
   "source": [
    "Note that the buses, branches (lines, transformers and switches), and loads can be accessed from the electrical network\n",
    "using the `buses`, `branches` and `loads` fields."
   ],
   "metadata": {
    "collapsed": false
   }
  },
  {
   "cell_type": "code",
   "execution_count": 8,
   "outputs": [
    {
     "data": {
      "text/plain": "{'VoltageSource': <roseau.load_flow.models.buses.VoltageSource at 0x7f85704df790>,\n 'MVLV03045': <roseau.load_flow.models.buses.Bus at 0x7f85a85bff40>,\n 'LVBus004111': <roseau.load_flow.models.buses.Bus at 0x7f856ef7d330>,\n 'LVBus004112': <roseau.load_flow.models.buses.Bus at 0x7f856ef7ca60>,\n 'LVBus004113': <roseau.load_flow.models.buses.Bus at 0x7f856ef7d2a0>,\n 'LVBus004114': <roseau.load_flow.models.buses.Bus at 0x7f856ef7d450>,\n 'LVBus004115': <roseau.load_flow.models.buses.Bus at 0x7f856ef7d540>,\n 'LVBus004116': <roseau.load_flow.models.buses.Bus at 0x7f856ef7d630>}"
     },
     "execution_count": 8,
     "metadata": {},
     "output_type": "execute_result"
    }
   ],
   "source": [
    "en.buses"
   ],
   "metadata": {
    "collapsed": false
   }
  },
  {
   "cell_type": "markdown",
   "source": [
    "## Adding elements\n",
    "\n",
    "It is possible to add new buses, loads, lines, switches, transformers to an existing network using the `add_element`\n",
    "method of the class `ElectricalNetwork`. For instance, the code below adds a new line and constant power load."
   ],
   "metadata": {
    "collapsed": false
   }
  },
  {
   "cell_type": "code",
   "execution_count": 9,
   "outputs": [],
   "source": [
    "# Connect a new bus to the network\n",
    "ground = en.special_elements[0]\n",
    "bus = Bus(id=\"new_bus\", n=4)\n",
    "load = PowerLoad(id=\"new_load\", n=4, bus=bus, s=[100, 0, 0])\n",
    "lc = LineCharacteristics.from_name_lv(\"S_AL_240\")\n",
    "line = ShuntLine(\n",
    "    id=\"new_line\", n=4, bus1=en.buses[\"LVBus004111\"], bus2=bus, ground=ground, line_characteristics=lc, length=0.5\n",
    ")\n",
    "en.add_element(bus)\n",
    "en.add_element(load)\n",
    "en.add_element(line)"
   ],
   "metadata": {
    "collapsed": false
   }
  },
  {
   "cell_type": "markdown",
   "source": [
    "Then, the load flow can be solved again, and the new results are available."
   ],
   "metadata": {
    "collapsed": false
   }
  },
  {
   "cell_type": "code",
   "execution_count": 11,
   "outputs": [
    {
     "data": {
      "text/plain": "                                     potential\nbus_id        phase                           \nVoltageSource a       11547.0053084+0.0000000j\n              b     -5773.502692-10000.000000j\n              c     -5773.502692+10000.000000j\n              n       0.000000000+0.000000000j\nMVLV03045     a       199.9308510+115.1503680j\n              b      -0.222526-00230.72600400j\n              c      -199.7079440+115.5551830j\n              n       0.000000000+0.000000000j",
      "text/html": "<div>\n<style scoped>\n    .dataframe tbody tr th:only-of-type {\n        vertical-align: middle;\n    }\n\n    .dataframe tbody tr th {\n        vertical-align: top;\n    }\n\n    .dataframe thead th {\n        text-align: right;\n    }\n</style>\n<table border=\"1\" class=\"dataframe\">\n  <thead>\n    <tr style=\"text-align: right;\">\n      <th></th>\n      <th></th>\n      <th>potential</th>\n    </tr>\n    <tr>\n      <th>bus_id</th>\n      <th>phase</th>\n      <th></th>\n    </tr>\n  </thead>\n  <tbody>\n    <tr>\n      <th rowspan=\"4\" valign=\"top\">VoltageSource</th>\n      <th>a</th>\n      <td>11547.0053084+0.0000000j</td>\n    </tr>\n    <tr>\n      <th>b</th>\n      <td>-5773.502692-10000.000000j</td>\n    </tr>\n    <tr>\n      <th>c</th>\n      <td>-5773.502692+10000.000000j</td>\n    </tr>\n    <tr>\n      <th>n</th>\n      <td>0.000000000+0.000000000j</td>\n    </tr>\n    <tr>\n      <th rowspan=\"4\" valign=\"top\">MVLV03045</th>\n      <th>a</th>\n      <td>199.9308510+115.1503680j</td>\n    </tr>\n    <tr>\n      <th>b</th>\n      <td>-0.222526-00230.72600400j</td>\n    </tr>\n    <tr>\n      <th>c</th>\n      <td>-199.7079440+115.5551830j</td>\n    </tr>\n    <tr>\n      <th>n</th>\n      <td>0.000000000+0.000000000j</td>\n    </tr>\n  </tbody>\n</table>\n</div>"
     },
     "execution_count": 11,
     "metadata": {},
     "output_type": "execute_result"
    }
   ],
   "source": [
    "# Rerun the results\n",
    "en.solve_load_flow(auth=auth)\n",
    "en.buses_potentials.head(n=8)"
   ],
   "metadata": {
    "collapsed": false
   }
  },
  {
   "cell_type": "code",
   "execution_count": 12,
   "outputs": [
    {
     "data": {
      "text/plain": "                                current1            current2\nbranch_id      phase                                        \nTransformer    a      0.186821-0.370275j -8.068645-1.326657j\n               b     -0.420824+0.025835j  2.935977+7.139953j\n               c      0.234003+0.344440j  4.660553-6.009908j\n               n     N00000000a00000000N  0.472115+0.196612j\nLVBranch128683 a      8.068645+1.326657j -8.096830-1.291304j\n               b     -2.935977-7.139953j  2.985580+7.138206j\n               c     -4.660553+6.009908j  4.629347-6.043510j\n               n     -0.472109-0.196615j  0.481900+0.196611j",
      "text/html": "<div>\n<style scoped>\n    .dataframe tbody tr th:only-of-type {\n        vertical-align: middle;\n    }\n\n    .dataframe tbody tr th {\n        vertical-align: top;\n    }\n\n    .dataframe thead th {\n        text-align: right;\n    }\n</style>\n<table border=\"1\" class=\"dataframe\">\n  <thead>\n    <tr style=\"text-align: right;\">\n      <th></th>\n      <th></th>\n      <th>current1</th>\n      <th>current2</th>\n    </tr>\n    <tr>\n      <th>branch_id</th>\n      <th>phase</th>\n      <th></th>\n      <th></th>\n    </tr>\n  </thead>\n  <tbody>\n    <tr>\n      <th rowspan=\"4\" valign=\"top\">Transformer</th>\n      <th>a</th>\n      <td>0.186821-0.370275j</td>\n      <td>-8.068645-1.326657j</td>\n    </tr>\n    <tr>\n      <th>b</th>\n      <td>-0.420824+0.025835j</td>\n      <td>2.935977+7.139953j</td>\n    </tr>\n    <tr>\n      <th>c</th>\n      <td>0.234003+0.344440j</td>\n      <td>4.660553-6.009908j</td>\n    </tr>\n    <tr>\n      <th>n</th>\n      <td>N00000000a00000000N</td>\n      <td>0.472115+0.196612j</td>\n    </tr>\n    <tr>\n      <th rowspan=\"4\" valign=\"top\">LVBranch128683</th>\n      <th>a</th>\n      <td>8.068645+1.326657j</td>\n      <td>-8.096830-1.291304j</td>\n    </tr>\n    <tr>\n      <th>b</th>\n      <td>-2.935977-7.139953j</td>\n      <td>2.985580+7.138206j</td>\n    </tr>\n    <tr>\n      <th>c</th>\n      <td>-4.660553+6.009908j</td>\n      <td>4.629347-6.043510j</td>\n    </tr>\n    <tr>\n      <th>n</th>\n      <td>-0.472109-0.196615j</td>\n      <td>0.481900+0.196611j</td>\n    </tr>\n  </tbody>\n</table>\n</div>"
     },
     "execution_count": 12,
     "metadata": {},
     "output_type": "execute_result"
    }
   ],
   "source": [
    "en.branches_currents.head(n=8)"
   ],
   "metadata": {
    "collapsed": false
   }
  },
  {
   "cell_type": "markdown",
   "source": [
    "# Plotting a network\n",
    "\n",
    "A basic plot method has been implemented in the `ElectricalNetwork` class.\n"
   ],
   "metadata": {
    "collapsed": false
   }
  },
  {
   "cell_type": "code",
   "execution_count": 13,
   "outputs": [
    {
     "ename": "AttributeError",
     "evalue": "'dict' object has no attribute 'to_crs'",
     "output_type": "error",
     "traceback": [
      "\u001B[0;31m---------------------------------------------------------------------------\u001B[0m",
      "\u001B[0;31mAttributeError\u001B[0m                            Traceback (most recent call last)",
      "Cell \u001B[0;32mIn [13], line 1\u001B[0m\n\u001B[0;32m----> 1\u001B[0m \u001B[43men\u001B[49m\u001B[38;5;241;43m.\u001B[39;49m\u001B[43mplot\u001B[49m\u001B[43m(\u001B[49m\u001B[43m)\u001B[49m\n",
      "File \u001B[0;32m~/GitHub/Roseau_Load_Flow/roseau/load_flow/network/electrical_network.py:865\u001B[0m, in \u001B[0;36mElectricalNetwork.plot\u001B[0;34m(self, ax, crs, zoom, source, min_size, margin, loads_plot_kwargs, slacks_plot_kwargs, junctions_plot_kwargs, branches_plot_kwargs)\u001B[0m\n\u001B[1;32m    807\u001B[0m \u001B[38;5;28;01mdef\u001B[39;00m \u001B[38;5;21mplot\u001B[39m(\n\u001B[1;32m    808\u001B[0m     \u001B[38;5;28mself\u001B[39m,\n\u001B[1;32m    809\u001B[0m     ax: Optional[\u001B[38;5;124m\"\u001B[39m\u001B[38;5;124mAxes\u001B[39m\u001B[38;5;124m\"\u001B[39m] \u001B[38;5;241m=\u001B[39m \u001B[38;5;28;01mNone\u001B[39;00m,\n\u001B[0;32m   (...)\u001B[0m\n\u001B[1;32m    818\u001B[0m     branches_plot_kwargs: Optional[\u001B[38;5;28mdict\u001B[39m[\u001B[38;5;28mstr\u001B[39m, Any]] \u001B[38;5;241m=\u001B[39m \u001B[38;5;28;01mNone\u001B[39;00m,\n\u001B[1;32m    819\u001B[0m ) \u001B[38;5;241m-\u001B[39m\u001B[38;5;241m>\u001B[39m \u001B[38;5;28mtuple\u001B[39m[\u001B[38;5;124m\"\u001B[39m\u001B[38;5;124mAxes\u001B[39m\u001B[38;5;124m\"\u001B[39m, gpd\u001B[38;5;241m.\u001B[39mGeoDataFrame, gpd\u001B[38;5;241m.\u001B[39mGeoDataFrame]:\n\u001B[1;32m    820\u001B[0m     \u001B[38;5;124;03m\"\"\"A basic plot function. It plots the network described by the two `geopandas.GeoDataFrame` `buses` and\u001B[39;00m\n\u001B[1;32m    821\u001B[0m \u001B[38;5;124;03m    `branches`. It also adds a base map which can come from Maptiler or OSM.\u001B[39;00m\n\u001B[1;32m    822\u001B[0m \n\u001B[0;32m   (...)\u001B[0m\n\u001B[1;32m    863\u001B[0m \u001B[38;5;124;03m        new CRS.\u001B[39;00m\n\u001B[1;32m    864\u001B[0m \u001B[38;5;124;03m    \"\"\"\u001B[39;00m\n\u001B[0;32m--> 865\u001B[0m     ax, buses, branches, crs \u001B[38;5;241m=\u001B[39m \u001B[38;5;28;43mself\u001B[39;49m\u001B[38;5;241;43m.\u001B[39;49m\u001B[43mplot_without_basemap\u001B[49m\u001B[43m(\u001B[49m\n\u001B[1;32m    866\u001B[0m \u001B[43m        \u001B[49m\u001B[43max\u001B[49m\u001B[38;5;241;43m=\u001B[39;49m\u001B[43max\u001B[49m\u001B[43m,\u001B[49m\n\u001B[1;32m    867\u001B[0m \u001B[43m        \u001B[49m\u001B[43mcrs\u001B[49m\u001B[38;5;241;43m=\u001B[39;49m\u001B[43mcrs\u001B[49m\u001B[43m,\u001B[49m\n\u001B[1;32m    868\u001B[0m \u001B[43m        \u001B[49m\u001B[43mloads_plot_kwargs\u001B[49m\u001B[38;5;241;43m=\u001B[39;49m\u001B[43mloads_plot_kwargs\u001B[49m\u001B[43m,\u001B[49m\n\u001B[1;32m    869\u001B[0m \u001B[43m        \u001B[49m\u001B[43mslacks_plot_kwargs\u001B[49m\u001B[38;5;241;43m=\u001B[39;49m\u001B[43mslacks_plot_kwargs\u001B[49m\u001B[43m,\u001B[49m\n\u001B[1;32m    870\u001B[0m \u001B[43m        \u001B[49m\u001B[43mjunctions_plot_kwargs\u001B[49m\u001B[38;5;241;43m=\u001B[39;49m\u001B[43mjunctions_plot_kwargs\u001B[49m\u001B[43m,\u001B[49m\n\u001B[1;32m    871\u001B[0m \u001B[43m        \u001B[49m\u001B[43mbranches_plot_kwargs\u001B[49m\u001B[38;5;241;43m=\u001B[39;49m\u001B[43mbranches_plot_kwargs\u001B[49m\u001B[43m,\u001B[49m\n\u001B[1;32m    872\u001B[0m \u001B[43m    \u001B[49m\u001B[43m)\u001B[49m\n\u001B[1;32m    874\u001B[0m     \u001B[38;5;66;03m# Resize axes according to the provided minimum size and margin\u001B[39;00m\n\u001B[1;32m    875\u001B[0m     \u001B[38;5;66;03m# self.resize_axis(ax=ax, min_size=min_size, margin=margin)\u001B[39;00m\n\u001B[1;32m    876\u001B[0m \n\u001B[1;32m    877\u001B[0m     \u001B[38;5;66;03m# Add the base map\u001B[39;00m\n\u001B[1;32m    878\u001B[0m     \u001B[38;5;28mself\u001B[39m\u001B[38;5;241m.\u001B[39madd_basemap(ax\u001B[38;5;241m=\u001B[39max, crs\u001B[38;5;241m=\u001B[39mcrs, zoom\u001B[38;5;241m=\u001B[39mzoom, source\u001B[38;5;241m=\u001B[39msource)\n",
      "File \u001B[0;32m~/GitHub/Roseau_Load_Flow/roseau/load_flow/network/electrical_network.py:936\u001B[0m, in \u001B[0;36mElectricalNetwork.plot_without_basemap\u001B[0;34m(self, ax, crs, loads_plot_kwargs, slacks_plot_kwargs, junctions_plot_kwargs, branches_plot_kwargs)\u001B[0m\n\u001B[1;32m    933\u001B[0m     crs \u001B[38;5;241m=\u001B[39m CRS\u001B[38;5;241m.\u001B[39mfrom_epsg(\u001B[38;5;241m3857\u001B[39m)\n\u001B[1;32m    935\u001B[0m \u001B[38;5;66;03m# Get the data and convert them to the provided CRS\u001B[39;00m\n\u001B[0;32m--> 936\u001B[0m buses \u001B[38;5;241m=\u001B[39m \u001B[38;5;28;43mself\u001B[39;49m\u001B[38;5;241;43m.\u001B[39;49m\u001B[43mbuses\u001B[49m\u001B[38;5;241;43m.\u001B[39;49m\u001B[43mto_crs\u001B[49m(crs\u001B[38;5;241m=\u001B[39mcrs)\n\u001B[1;32m    937\u001B[0m branches \u001B[38;5;241m=\u001B[39m \u001B[38;5;28mself\u001B[39m\u001B[38;5;241m.\u001B[39mbranches\u001B[38;5;241m.\u001B[39mto_crs(crs\u001B[38;5;241m=\u001B[39mcrs)\n\u001B[1;32m    939\u001B[0m \u001B[38;5;66;03m# Get the axes\u001B[39;00m\n",
      "\u001B[0;31mAttributeError\u001B[0m: 'dict' object has no attribute 'to_crs'"
     ]
    }
   ],
   "source": [
    "en.plot()"
   ],
   "metadata": {
    "collapsed": false
   }
  }
 ],
 "metadata": {
  "kernelspec": {
   "display_name": "Python 3",
   "language": "python",
   "name": "python3"
  },
  "language_info": {
   "codemirror_mode": {
    "name": "ipython",
    "version": 2
   },
   "file_extension": ".py",
   "mimetype": "text/x-python",
   "name": "python",
   "nbconvert_exporter": "python",
   "pygments_lexer": "ipython2",
   "version": "2.7.6"
  }
 },
 "nbformat": 4,
 "nbformat_minor": 0
}
