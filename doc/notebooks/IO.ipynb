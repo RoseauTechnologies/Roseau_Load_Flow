{
 "cells": [
  {
   "cell_type": "markdown",
   "source": [
    "# Creating a network from a file"
   ],
   "metadata": {
    "collapsed": false
   }
  },
  {
   "cell_type": "code",
   "execution_count": 1,
   "outputs": [],
   "source": [
    "from roseau.load_flow import *"
   ],
   "metadata": {
    "collapsed": false
   }
  },
  {
   "cell_type": "markdown",
   "source": [
    "## From JSON\n",
    "\n",
    "The first format that can be read is the JSON format. The `from_json` class-method of `ElectricalNetwork` can be used\n",
    "for that."
   ],
   "metadata": {
    "collapsed": false
   }
  },
  {
   "cell_type": "code",
   "execution_count": 2,
   "outputs": [],
   "source": [
    "en = ElectricalNetwork.from_json(\"./test.json\")"
   ],
   "metadata": {
    "collapsed": false
   }
  },
  {
   "cell_type": "markdown",
   "source": [
    "Note that you can save an `ElectricalNetwork` instance using the method `to_json` if you want.\n",
    "\n",
    "Then, a load flow can be directly solved"
   ],
   "metadata": {
    "collapsed": false
   }
  },
  {
   "cell_type": "code",
   "execution_count": 3,
   "outputs": [
    {
     "data": {
      "text/plain": "2"
     },
     "execution_count": 3,
     "metadata": {},
     "output_type": "execute_result"
    }
   ],
   "source": [
    "en.solve_load_flow(auth=(\"username\", \"dev password\"))"
   ],
   "metadata": {
    "collapsed": false
   }
  },
  {
   "cell_type": "markdown",
   "source": [
    "The results are accessible the same way as explained in the [Getting Started](Getting_Started.ipynb) page"
   ],
   "metadata": {
    "collapsed": false
   }
  },
  {
   "cell_type": "code",
   "execution_count": 4,
   "outputs": [
    {
     "data": {
      "text/plain": "                                potential\nbus_id      phase                        \nMVLV08729   a      345.688349+196.010353j\n            b     -4.326850-0396.2229050j\n            c     -343.079200+201.149697j\n            n      0.00000000+0.00000000j\nLVBus079601 a      344.152441+194.816794j",
      "text/html": "<div>\n<style scoped>\n    .dataframe tbody tr th:only-of-type {\n        vertical-align: middle;\n    }\n\n    .dataframe tbody tr th {\n        vertical-align: top;\n    }\n\n    .dataframe thead th {\n        text-align: right;\n    }\n</style>\n<table border=\"1\" class=\"dataframe\">\n  <thead>\n    <tr style=\"text-align: right;\">\n      <th></th>\n      <th></th>\n      <th>potential</th>\n    </tr>\n    <tr>\n      <th>bus_id</th>\n      <th>phase</th>\n      <th></th>\n    </tr>\n  </thead>\n  <tbody>\n    <tr>\n      <th rowspan=\"4\" valign=\"top\">MVLV08729</th>\n      <th>a</th>\n      <td>345.688349+196.010353j</td>\n    </tr>\n    <tr>\n      <th>b</th>\n      <td>-4.326850-0396.2229050j</td>\n    </tr>\n    <tr>\n      <th>c</th>\n      <td>-343.079200+201.149697j</td>\n    </tr>\n    <tr>\n      <th>n</th>\n      <td>0.00000000+0.00000000j</td>\n    </tr>\n    <tr>\n      <th>LVBus079601</th>\n      <th>a</th>\n      <td>344.152441+194.816794j</td>\n    </tr>\n  </tbody>\n</table>\n</div>"
     },
     "execution_count": 4,
     "metadata": {},
     "output_type": "execute_result"
    }
   ],
   "source": [
    "buses_results, branches_results, loads_results = en.results\n",
    "buses_results.head()"
   ],
   "metadata": {
    "collapsed": false
   }
  },
  {
   "cell_type": "code",
   "execution_count": 5,
   "outputs": [
    {
     "data": {
      "text/plain": "                                   current1               current2\nbranch_id      phase                                              \nLVBranch085260 a       99.399958+19.838907j  -99.402324-19.834732j\n               b     -48.112206-135.287714j  48.116986+135.287660j\n               c      -57.311872+66.903227j   57.309441-66.907371j\n               n      6.023850+048.5450850j -6.023844-048.5450830j\nLVBranch159361 a       62.126379+12.614438j  -62.128237-12.611154j",
      "text/html": "<div>\n<style scoped>\n    .dataframe tbody tr th:only-of-type {\n        vertical-align: middle;\n    }\n\n    .dataframe tbody tr th {\n        vertical-align: top;\n    }\n\n    .dataframe thead th {\n        text-align: right;\n    }\n</style>\n<table border=\"1\" class=\"dataframe\">\n  <thead>\n    <tr style=\"text-align: right;\">\n      <th></th>\n      <th></th>\n      <th>current1</th>\n      <th>current2</th>\n    </tr>\n    <tr>\n      <th>branch_id</th>\n      <th>phase</th>\n      <th></th>\n      <th></th>\n    </tr>\n  </thead>\n  <tbody>\n    <tr>\n      <th rowspan=\"4\" valign=\"top\">LVBranch085260</th>\n      <th>a</th>\n      <td>99.399958+19.838907j</td>\n      <td>-99.402324-19.834732j</td>\n    </tr>\n    <tr>\n      <th>b</th>\n      <td>-48.112206-135.287714j</td>\n      <td>48.116986+135.287660j</td>\n    </tr>\n    <tr>\n      <th>c</th>\n      <td>-57.311872+66.903227j</td>\n      <td>57.309441-66.907371j</td>\n    </tr>\n    <tr>\n      <th>n</th>\n      <td>6.023850+048.5450850j</td>\n      <td>-6.023844-048.5450830j</td>\n    </tr>\n    <tr>\n      <th>LVBranch159361</th>\n      <th>a</th>\n      <td>62.126379+12.614438j</td>\n      <td>-62.128237-12.611154j</td>\n    </tr>\n  </tbody>\n</table>\n</div>"
     },
     "execution_count": 5,
     "metadata": {},
     "output_type": "execute_result"
    }
   ],
   "source": [
    "branches_results.head()"
   ],
   "metadata": {
    "collapsed": false
   }
  },
  {
   "cell_type": "markdown",
   "source": [
    "Note that the buses, branches (lines, transformers and switches), and loads can be accessed from the electrical network\n",
    "using the `buses`, `branches` and `loads` fields."
   ],
   "metadata": {
    "collapsed": false
   }
  },
  {
   "cell_type": "code",
   "execution_count": 6,
   "outputs": [
    {
     "data": {
      "text/plain": "{'MVLV08729': <roseau.load_flow.models.buses.Bus at 0x7f2afc459430>,\n 'LVBus079601': <roseau.load_flow.models.buses.Bus at 0x7f2afc459400>,\n 'LVBus079605': <roseau.load_flow.models.buses.Bus at 0x7f2afc3e0df0>,\n 'LVBus079606': <roseau.load_flow.models.buses.Bus at 0x7f2afc3e0af0>,\n 'LVBus079602': <roseau.load_flow.models.buses.Bus at 0x7f2abc68ec40>,\n 'LVBus079604': <roseau.load_flow.models.buses.Bus at 0x7f2abc68ed60>,\n 'LVBus079607': <roseau.load_flow.models.buses.Bus at 0x7f2abc68ef40>,\n 'LVBus079615': <roseau.load_flow.models.buses.Bus at 0x7f2abc673070>,\n 'LVBus079603': <roseau.load_flow.models.buses.Bus at 0x7f2abc673160>,\n 'LVBus183333': <roseau.load_flow.models.buses.Bus at 0x7f2abc673250>,\n 'LVBus183322': <roseau.load_flow.models.buses.Bus at 0x7f2abc673340>,\n 'LVBus183352': <roseau.load_flow.models.buses.Bus at 0x7f2abc673430>,\n 'LVBus183334': <roseau.load_flow.models.buses.Bus at 0x7f2abc673520>,\n 'LVBus183323': <roseau.load_flow.models.buses.Bus at 0x7f2abc673610>,\n 'LVBus188774': <roseau.load_flow.models.buses.Bus at 0x7f2abc673700>,\n 'LVBus079608': <roseau.load_flow.models.buses.Bus at 0x7f2abc6737f0>,\n 'LVBus079610': <roseau.load_flow.models.buses.Bus at 0x7f2abc6738e0>,\n 'LVBus079609': <roseau.load_flow.models.buses.Bus at 0x7f2abc6739d0>,\n 'LVBus188775': <roseau.load_flow.models.buses.Bus at 0x7f2abc673ac0>,\n 'LVBus079614': <roseau.load_flow.models.buses.Bus at 0x7f2abc673bb0>,\n 'LVBus079611': <roseau.load_flow.models.buses.Bus at 0x7f2abc673ca0>,\n 'LVBus185989': <roseau.load_flow.models.buses.Bus at 0x7f2abc673d90>,\n 'LVBus183324': <roseau.load_flow.models.buses.Bus at 0x7f2abc673e80>,\n 'LVBus079612': <roseau.load_flow.models.buses.Bus at 0x7f2abc678040>,\n 'LVBus079613': <roseau.load_flow.models.buses.Bus at 0x7f2abc6780a0>,\n 'LVBus183329': <roseau.load_flow.models.buses.Bus at 0x7f2abc678190>,\n 'LVBus185990': <roseau.load_flow.models.buses.Bus at 0x7f2abc678280>,\n 'LVBus185638': <roseau.load_flow.models.buses.Bus at 0x7f2abc678370>,\n 'LVBus183325': <roseau.load_flow.models.buses.Bus at 0x7f2abc678460>,\n 'LVBus185991': <roseau.load_flow.models.buses.Bus at 0x7f2abc678550>,\n 'LVBus186133': <roseau.load_flow.models.buses.Bus at 0x7f2abc678640>,\n 'LVBus186134': <roseau.load_flow.models.buses.Bus at 0x7f2abc678730>,\n 'LVBus186680': <roseau.load_flow.models.buses.Bus at 0x7f2abc678820>,\n 'LVBus183328': <roseau.load_flow.models.buses.Bus at 0x7f2abc678910>,\n 'LVBus186135': <roseau.load_flow.models.buses.Bus at 0x7f2abc678a00>,\n 'LVBus183326': <roseau.load_flow.models.buses.Bus at 0x7f2abc678af0>,\n 'LVBus183331': <roseau.load_flow.models.buses.Bus at 0x7f2abc678be0>,\n 'LVBus183327': <roseau.load_flow.models.buses.Bus at 0x7f2abc678cd0>,\n 'LVBus186681': <roseau.load_flow.models.buses.Bus at 0x7f2abc678dc0>,\n 'LVBus186687': <roseau.load_flow.models.buses.Bus at 0x7f2abc678eb0>,\n 'LVBus183330': <roseau.load_flow.models.buses.Bus at 0x7f2abc680070>,\n 'LVBus186688': <roseau.load_flow.models.buses.Bus at 0x7f2abc6800d0>,\n 'LVBus186682': <roseau.load_flow.models.buses.Bus at 0x7f2abc6801c0>,\n 'LVBus183332': <roseau.load_flow.models.buses.Bus at 0x7f2abc6802b0>,\n 'LVBus186683': <roseau.load_flow.models.buses.Bus at 0x7f2abc6803a0>,\n 'LVBus186684': <roseau.load_flow.models.buses.Bus at 0x7f2abc680490>,\n 'LVBus186697': <roseau.load_flow.models.buses.Bus at 0x7f2abc680580>,\n 'LVBus186701': <roseau.load_flow.models.buses.Bus at 0x7f2abc680670>,\n 'LVBus186685': <roseau.load_flow.models.buses.Bus at 0x7f2abc680760>,\n 'LVBus186703': <roseau.load_flow.models.buses.Bus at 0x7f2abc680850>,\n 'LVBus186686': <roseau.load_flow.models.buses.Bus at 0x7f2abc680940>,\n 'LVBus195121': <roseau.load_flow.models.buses.Bus at 0x7f2abc680a30>,\n 'LVBus186698': <roseau.load_flow.models.buses.Bus at 0x7f2abc680b20>,\n 'LVBus186700': <roseau.load_flow.models.buses.Bus at 0x7f2abc680c10>,\n 'LVBus186704': <roseau.load_flow.models.buses.Bus at 0x7f2abc680d00>,\n 'LVBus186702': <roseau.load_flow.models.buses.Bus at 0x7f2abc680df0>,\n 'LVBus186699': <roseau.load_flow.models.buses.Bus at 0x7f2abc680ee0>,\n 'VoltageSource': <roseau.load_flow.models.buses.VoltageSource at 0x7f2abc6850a0>}"
     },
     "execution_count": 6,
     "metadata": {},
     "output_type": "execute_result"
    }
   ],
   "source": [
    "en.buses"
   ],
   "metadata": {
    "collapsed": false
   }
  },
  {
   "cell_type": "markdown",
   "source": [
    "## Adding elements\n",
    "\n",
    "It is possible to add new buses, loads, lines, switches, transformers to an existing network using the `add_element`\n",
    "method of the class `ElectricalNetwork`. For instance, the code below adds a new line and constant power load."
   ],
   "metadata": {
    "collapsed": false
   }
  },
  {
   "cell_type": "code",
   "execution_count": 7,
   "outputs": [],
   "source": [
    "# Connect a new bus to the network\n",
    "ground = en.special_elements[0]\n",
    "bus = Bus(id=\"new_bus\", n=4)\n",
    "load = PowerLoad(id=\"new_load\", n=4, bus=bus, s=[100, 0, 0])\n",
    "lc = LineCharacteristics.from_name_lv(\"S_AL_240\")\n",
    "line = ShuntLine(\n",
    "    id=\"new_line\", n=4, bus1=en.buses[\"LVBus079605\"], bus2=bus, ground=ground, line_characteristics=lc, length=0.5\n",
    ")\n",
    "en.add_element(bus)\n",
    "en.add_element(load)\n",
    "en.add_element(line)"
   ],
   "metadata": {
    "collapsed": false
   }
  },
  {
   "cell_type": "markdown",
   "source": [
    "Then, the load flow can be solved again, and the new results are available."
   ],
   "metadata": {
    "collapsed": false
   }
  },
  {
   "cell_type": "code",
   "execution_count": 8,
   "outputs": [
    {
     "data": {
      "text/plain": "                                potential\nbus_id      phase                        \nMVLV08729   a      345.694097+195.993383j\n            b     -4.326607-0396.2223020j\n            c     -343.087259+201.148230j\n            n      0.00000000+0.00000000j\nLVBus079601 a      344.154807+194.791921j",
      "text/html": "<div>\n<style scoped>\n    .dataframe tbody tr th:only-of-type {\n        vertical-align: middle;\n    }\n\n    .dataframe tbody tr th {\n        vertical-align: top;\n    }\n\n    .dataframe thead th {\n        text-align: right;\n    }\n</style>\n<table border=\"1\" class=\"dataframe\">\n  <thead>\n    <tr style=\"text-align: right;\">\n      <th></th>\n      <th></th>\n      <th>potential</th>\n    </tr>\n    <tr>\n      <th>bus_id</th>\n      <th>phase</th>\n      <th></th>\n    </tr>\n  </thead>\n  <tbody>\n    <tr>\n      <th rowspan=\"4\" valign=\"top\">MVLV08729</th>\n      <th>a</th>\n      <td>345.694097+195.993383j</td>\n    </tr>\n    <tr>\n      <th>b</th>\n      <td>-4.326607-0396.2223020j</td>\n    </tr>\n    <tr>\n      <th>c</th>\n      <td>-343.087259+201.148230j</td>\n    </tr>\n    <tr>\n      <th>n</th>\n      <td>0.00000000+0.00000000j</td>\n    </tr>\n    <tr>\n      <th>LVBus079601</th>\n      <th>a</th>\n      <td>344.154807+194.791921j</td>\n    </tr>\n  </tbody>\n</table>\n</div>"
     },
     "execution_count": 8,
     "metadata": {},
     "output_type": "execute_result"
    }
   ],
   "source": [
    "# Rerun the results\n",
    "en.solve_load_flow(auth=(\"username\", \"dev password\"))\n",
    "buses_results, branches_results, loads_results = en.results\n",
    "buses_results.head()"
   ],
   "metadata": {
    "collapsed": false
   }
  },
  {
   "cell_type": "code",
   "execution_count": 9,
   "outputs": [
    {
     "data": {
      "text/plain": "                                   current1               current2\nbranch_id      phase                                              \nLVBranch085260 a       99.741804+20.128371j  -99.744170-20.124195j\n               b     -48.128450-135.287579j  48.133230+135.287525j\n               c      -57.203770+66.729289j   57.201339-66.733432j\n               n      5.590058+048.4292720j -5.590052-048.4292700j\nLVBranch159361 a       62.130195+12.611259j  -62.132053-12.607975j",
      "text/html": "<div>\n<style scoped>\n    .dataframe tbody tr th:only-of-type {\n        vertical-align: middle;\n    }\n\n    .dataframe tbody tr th {\n        vertical-align: top;\n    }\n\n    .dataframe thead th {\n        text-align: right;\n    }\n</style>\n<table border=\"1\" class=\"dataframe\">\n  <thead>\n    <tr style=\"text-align: right;\">\n      <th></th>\n      <th></th>\n      <th>current1</th>\n      <th>current2</th>\n    </tr>\n    <tr>\n      <th>branch_id</th>\n      <th>phase</th>\n      <th></th>\n      <th></th>\n    </tr>\n  </thead>\n  <tbody>\n    <tr>\n      <th rowspan=\"4\" valign=\"top\">LVBranch085260</th>\n      <th>a</th>\n      <td>99.741804+20.128371j</td>\n      <td>-99.744170-20.124195j</td>\n    </tr>\n    <tr>\n      <th>b</th>\n      <td>-48.128450-135.287579j</td>\n      <td>48.133230+135.287525j</td>\n    </tr>\n    <tr>\n      <th>c</th>\n      <td>-57.203770+66.729289j</td>\n      <td>57.201339-66.733432j</td>\n    </tr>\n    <tr>\n      <th>n</th>\n      <td>5.590058+048.4292720j</td>\n      <td>-5.590052-048.4292700j</td>\n    </tr>\n    <tr>\n      <th>LVBranch159361</th>\n      <th>a</th>\n      <td>62.130195+12.611259j</td>\n      <td>-62.132053-12.607975j</td>\n    </tr>\n  </tbody>\n</table>\n</div>"
     },
     "execution_count": 9,
     "metadata": {},
     "output_type": "execute_result"
    }
   ],
   "source": [
    "branches_results.head()"
   ],
   "metadata": {
    "collapsed": false
   }
  }
 ],
 "metadata": {
  "kernelspec": {
   "display_name": "Python 3",
   "language": "python",
   "name": "python3"
  },
  "language_info": {
   "codemirror_mode": {
    "name": "ipython",
    "version": 2
   },
   "file_extension": ".py",
   "mimetype": "text/x-python",
   "name": "python",
   "nbconvert_exporter": "python",
   "pygments_lexer": "ipython2",
   "version": "2.7.6"
  }
 },
 "nbformat": 4,
 "nbformat_minor": 0
}
