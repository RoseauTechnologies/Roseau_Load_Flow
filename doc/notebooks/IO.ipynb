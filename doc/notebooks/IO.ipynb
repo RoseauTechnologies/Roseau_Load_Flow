{
 "cells": [
  {
   "cell_type": "markdown",
   "source": [
    "# Creating a network from a file"
   ],
   "metadata": {
    "collapsed": false
   }
  },
  {
   "cell_type": "code",
   "execution_count": 1,
   "outputs": [],
   "source": [
    "import getpass\n",
    "\n",
    "from roseau.load_flow import *"
   ],
   "metadata": {
    "collapsed": false
   }
  },
  {
   "cell_type": "markdown",
   "source": [
    "## From JSON\n",
    "\n",
    "The first format that can be read is the JSON format. The `from_json` class-method of `ElectricalNetwork` can be used\n",
    "for that."
   ],
   "metadata": {
    "collapsed": false
   }
  },
  {
   "cell_type": "code",
   "execution_count": 2,
   "outputs": [],
   "source": [
    "en = ElectricalNetwork.from_json(\"data/LVFeeder00939_summer.json\")"
   ],
   "metadata": {
    "collapsed": false
   }
  },
  {
   "cell_type": "markdown",
   "source": [
    "Note that you can save an `ElectricalNetwork` instance using the method `to_json` if you want.\n",
    "\n",
    "An authentification is required. Please contact us at [contact@roseautechnologies.com](mailto:contact@roseautechnologies.com) to get identification."
   ],
   "metadata": {
    "collapsed": false
   }
  },
  {
   "cell_type": "code",
   "execution_count": 3,
   "outputs": [],
   "source": [
    "# Authentication\n",
    "auth = (input(\"Please enter your username:\"), getpass.getpass(\"Please enter your password:\"))"
   ],
   "metadata": {
    "collapsed": false
   }
  },
  {
   "cell_type": "markdown",
   "source": [
    "Then, a load flow can be directly solved.\n",
    "\n",
    "NB: The server takes time to start so the first call is longer than the others."
   ],
   "metadata": {
    "collapsed": false
   }
  },
  {
   "cell_type": "code",
   "execution_count": 4,
   "outputs": [
    {
     "data": {
      "text/plain": "2"
     },
     "execution_count": 4,
     "metadata": {},
     "output_type": "execute_result"
    }
   ],
   "source": [
    "en.solve_load_flow(auth=auth)"
   ],
   "metadata": {
    "collapsed": false
   }
  },
  {
   "cell_type": "markdown",
   "source": [
    "The results are accessible the same way as explained in the [Getting Started](Getting_Started.ipynb) page"
   ],
   "metadata": {
    "collapsed": false
   }
  },
  {
   "cell_type": "code",
   "execution_count": 5,
   "outputs": [
    {
     "data": {
      "text/plain": "                                     potential\nbus_id        phase                           \nVoltageSource a       11547.0053084+0.0000000j\n              b     -5773.502692-10000.000000j\n              c     -5773.502692+10000.000000j\n              n       0.000000000+0.000000000j\nMVLV03045     a       199.9256500+115.1715310j\n              b      -0.222627-00230.72633100j\n              c      -199.7033210+115.5561070j\n              n       0.000000000+0.000000000j",
      "text/html": "<div>\n<style scoped>\n    .dataframe tbody tr th:only-of-type {\n        vertical-align: middle;\n    }\n\n    .dataframe tbody tr th {\n        vertical-align: top;\n    }\n\n    .dataframe thead th {\n        text-align: right;\n    }\n</style>\n<table border=\"1\" class=\"dataframe\">\n  <thead>\n    <tr style=\"text-align: right;\">\n      <th></th>\n      <th></th>\n      <th>potential</th>\n    </tr>\n    <tr>\n      <th>bus_id</th>\n      <th>phase</th>\n      <th></th>\n    </tr>\n  </thead>\n  <tbody>\n    <tr>\n      <th rowspan=\"4\" valign=\"top\">VoltageSource</th>\n      <th>a</th>\n      <td>11547.0053084+0.0000000j</td>\n    </tr>\n    <tr>\n      <th>b</th>\n      <td>-5773.502692-10000.000000j</td>\n    </tr>\n    <tr>\n      <th>c</th>\n      <td>-5773.502692+10000.000000j</td>\n    </tr>\n    <tr>\n      <th>n</th>\n      <td>0.000000000+0.000000000j</td>\n    </tr>\n    <tr>\n      <th rowspan=\"4\" valign=\"top\">MVLV03045</th>\n      <th>a</th>\n      <td>199.9256500+115.1715310j</td>\n    </tr>\n    <tr>\n      <th>b</th>\n      <td>-0.222627-00230.72633100j</td>\n    </tr>\n    <tr>\n      <th>c</th>\n      <td>-199.7033210+115.5561070j</td>\n    </tr>\n    <tr>\n      <th>n</th>\n      <td>0.000000000+0.000000000j</td>\n    </tr>\n  </tbody>\n</table>\n</div>"
     },
     "execution_count": 5,
     "metadata": {},
     "output_type": "execute_result"
    }
   ],
   "source": [
    "en.buses_potentials.head(n=8)"
   ],
   "metadata": {
    "collapsed": false
   }
  },
  {
   "cell_type": "code",
   "execution_count": 6,
   "outputs": [
    {
     "data": {
      "text/plain": "                                current1            current2\nbranch_id      phase                                        \nTransformer    a      0.182428-0.375059j -7.624267-1.011447j\n               b     -0.415595+0.029482j  2.927451+7.139288j\n               c      0.233166+0.345576j  4.724479-6.108946j\n               n     N00000000a00000000N -0.027663-0.018894j\nLVBranch128683 a      7.624267+1.011447j -7.652458-0.976094j\n               b     -2.927451-7.139288j  2.977054+7.137541j\n               c     -4.724479+6.108946j  4.693273-6.142546j\n               n      0.027663+0.018891j -0.017870-0.018897j",
      "text/html": "<div>\n<style scoped>\n    .dataframe tbody tr th:only-of-type {\n        vertical-align: middle;\n    }\n\n    .dataframe tbody tr th {\n        vertical-align: top;\n    }\n\n    .dataframe thead th {\n        text-align: right;\n    }\n</style>\n<table border=\"1\" class=\"dataframe\">\n  <thead>\n    <tr style=\"text-align: right;\">\n      <th></th>\n      <th></th>\n      <th>current1</th>\n      <th>current2</th>\n    </tr>\n    <tr>\n      <th>branch_id</th>\n      <th>phase</th>\n      <th></th>\n      <th></th>\n    </tr>\n  </thead>\n  <tbody>\n    <tr>\n      <th rowspan=\"4\" valign=\"top\">Transformer</th>\n      <th>a</th>\n      <td>0.182428-0.375059j</td>\n      <td>-7.624267-1.011447j</td>\n    </tr>\n    <tr>\n      <th>b</th>\n      <td>-0.415595+0.029482j</td>\n      <td>2.927451+7.139288j</td>\n    </tr>\n    <tr>\n      <th>c</th>\n      <td>0.233166+0.345576j</td>\n      <td>4.724479-6.108946j</td>\n    </tr>\n    <tr>\n      <th>n</th>\n      <td>N00000000a00000000N</td>\n      <td>-0.027663-0.018894j</td>\n    </tr>\n    <tr>\n      <th rowspan=\"4\" valign=\"top\">LVBranch128683</th>\n      <th>a</th>\n      <td>7.624267+1.011447j</td>\n      <td>-7.652458-0.976094j</td>\n    </tr>\n    <tr>\n      <th>b</th>\n      <td>-2.927451-7.139288j</td>\n      <td>2.977054+7.137541j</td>\n    </tr>\n    <tr>\n      <th>c</th>\n      <td>-4.724479+6.108946j</td>\n      <td>4.693273-6.142546j</td>\n    </tr>\n    <tr>\n      <th>n</th>\n      <td>0.027663+0.018891j</td>\n      <td>-0.017870-0.018897j</td>\n    </tr>\n  </tbody>\n</table>\n</div>"
     },
     "execution_count": 6,
     "metadata": {},
     "output_type": "execute_result"
    }
   ],
   "source": [
    "en.branches_currents.head(n=8)"
   ],
   "metadata": {
    "collapsed": false
   }
  },
  {
   "cell_type": "markdown",
   "source": [
    "Note that the buses, branches (lines, transformers and switches), and loads can be accessed from the electrical network\n",
    "using the `buses`, `branches` and `loads` fields."
   ],
   "metadata": {
    "collapsed": false
   }
  },
  {
   "cell_type": "code",
   "execution_count": 7,
   "outputs": [
    {
     "data": {
      "text/plain": "{'VoltageSource': <roseau.load_flow.models.buses.VoltageSource at 0x7fb45415a050>,\n 'MVLV03045': <roseau.load_flow.models.buses.Bus at 0x7fb45415beb0>,\n 'LVBus004111': <roseau.load_flow.models.buses.Bus at 0x7fb45415b8e0>,\n 'LVBus004112': <roseau.load_flow.models.buses.Bus at 0x7fb45415b7f0>,\n 'LVBus004113': <roseau.load_flow.models.buses.Bus at 0x7fb411bfed70>,\n 'LVBus004114': <roseau.load_flow.models.buses.Bus at 0x7fb411bff130>,\n 'LVBus004115': <roseau.load_flow.models.buses.Bus at 0x7fb411bff220>,\n 'LVBus004116': <roseau.load_flow.models.buses.Bus at 0x7fb411bff310>}"
     },
     "execution_count": 7,
     "metadata": {},
     "output_type": "execute_result"
    }
   ],
   "source": [
    "en.buses"
   ],
   "metadata": {
    "collapsed": false
   }
  },
  {
   "cell_type": "markdown",
   "source": [
    "## Adding elements\n",
    "\n",
    "It is possible to add new buses, loads, lines, switches, transformers to an existing network using the `add_element`\n",
    "method of the class `ElectricalNetwork`. For instance, the code below adds a new line and constant power load."
   ],
   "metadata": {
    "collapsed": false
   }
  },
  {
   "cell_type": "code",
   "execution_count": 8,
   "outputs": [],
   "source": [
    "# Connect a new bus to the network\n",
    "ground = en.special_elements[0]\n",
    "bus = Bus(id=\"new_bus\", n=4)\n",
    "load = PowerLoad(id=\"new_load\", n=4, bus=bus, s=[100, 0, 0])\n",
    "lc = LineCharacteristics.from_name_lv(\"S_AL_240\")\n",
    "line = ShuntLine(\n",
    "    id=\"new_line\", n=4, bus1=en.buses[\"LVBus004111\"], bus2=bus, ground=ground, line_characteristics=lc, length=0.5\n",
    ")\n",
    "en.add_element(bus)\n",
    "en.add_element(load)\n",
    "en.add_element(line)"
   ],
   "metadata": {
    "collapsed": false
   }
  },
  {
   "cell_type": "markdown",
   "source": [
    "Then, the load flow can be solved again, and the new results are available."
   ],
   "metadata": {
    "collapsed": false
   }
  },
  {
   "cell_type": "code",
   "execution_count": 9,
   "outputs": [
    {
     "data": {
      "text/plain": "                                     potential\nbus_id        phase                           \nVoltageSource a       11547.0053084+0.0000000j\n              b     -5773.502692-10000.000000j\n              c     -5773.502692+10000.000000j\n              n       0.000000000+0.000000000j\nMVLV03045     a       199.9308510+115.1503680j\n              b      -0.222526-00230.72600400j\n              c      -199.7079440+115.5551830j\n              n       0.000000000+0.000000000j",
      "text/html": "<div>\n<style scoped>\n    .dataframe tbody tr th:only-of-type {\n        vertical-align: middle;\n    }\n\n    .dataframe tbody tr th {\n        vertical-align: top;\n    }\n\n    .dataframe thead th {\n        text-align: right;\n    }\n</style>\n<table border=\"1\" class=\"dataframe\">\n  <thead>\n    <tr style=\"text-align: right;\">\n      <th></th>\n      <th></th>\n      <th>potential</th>\n    </tr>\n    <tr>\n      <th>bus_id</th>\n      <th>phase</th>\n      <th></th>\n    </tr>\n  </thead>\n  <tbody>\n    <tr>\n      <th rowspan=\"4\" valign=\"top\">VoltageSource</th>\n      <th>a</th>\n      <td>11547.0053084+0.0000000j</td>\n    </tr>\n    <tr>\n      <th>b</th>\n      <td>-5773.502692-10000.000000j</td>\n    </tr>\n    <tr>\n      <th>c</th>\n      <td>-5773.502692+10000.000000j</td>\n    </tr>\n    <tr>\n      <th>n</th>\n      <td>0.000000000+0.000000000j</td>\n    </tr>\n    <tr>\n      <th rowspan=\"4\" valign=\"top\">MVLV03045</th>\n      <th>a</th>\n      <td>199.9308510+115.1503680j</td>\n    </tr>\n    <tr>\n      <th>b</th>\n      <td>-0.222526-00230.72600400j</td>\n    </tr>\n    <tr>\n      <th>c</th>\n      <td>-199.7079440+115.5551830j</td>\n    </tr>\n    <tr>\n      <th>n</th>\n      <td>0.000000000+0.000000000j</td>\n    </tr>\n  </tbody>\n</table>\n</div>"
     },
     "execution_count": 9,
     "metadata": {},
     "output_type": "execute_result"
    }
   ],
   "source": [
    "# Rerun the results\n",
    "en.solve_load_flow(auth=auth)\n",
    "en.buses_potentials.head(n=8)"
   ],
   "metadata": {
    "collapsed": false
   }
  },
  {
   "cell_type": "code",
   "execution_count": 10,
   "outputs": [
    {
     "data": {
      "text/plain": "                                current1            current2\nbranch_id      phase                                        \nTransformer    a      0.186821-0.370275j -8.068645-1.326657j\n               b     -0.420824+0.025835j  2.935977+7.139953j\n               c      0.234003+0.344440j  4.660553-6.009908j\n               n     N00000000a00000000N  0.472115+0.196612j\nLVBranch128683 a      8.068645+1.326657j -8.096830-1.291304j\n               b     -2.935977-7.139953j  2.985580+7.138206j\n               c     -4.660553+6.009908j  4.629347-6.043510j\n               n     -0.472109-0.196615j  0.481900+0.196611j",
      "text/html": "<div>\n<style scoped>\n    .dataframe tbody tr th:only-of-type {\n        vertical-align: middle;\n    }\n\n    .dataframe tbody tr th {\n        vertical-align: top;\n    }\n\n    .dataframe thead th {\n        text-align: right;\n    }\n</style>\n<table border=\"1\" class=\"dataframe\">\n  <thead>\n    <tr style=\"text-align: right;\">\n      <th></th>\n      <th></th>\n      <th>current1</th>\n      <th>current2</th>\n    </tr>\n    <tr>\n      <th>branch_id</th>\n      <th>phase</th>\n      <th></th>\n      <th></th>\n    </tr>\n  </thead>\n  <tbody>\n    <tr>\n      <th rowspan=\"4\" valign=\"top\">Transformer</th>\n      <th>a</th>\n      <td>0.186821-0.370275j</td>\n      <td>-8.068645-1.326657j</td>\n    </tr>\n    <tr>\n      <th>b</th>\n      <td>-0.420824+0.025835j</td>\n      <td>2.935977+7.139953j</td>\n    </tr>\n    <tr>\n      <th>c</th>\n      <td>0.234003+0.344440j</td>\n      <td>4.660553-6.009908j</td>\n    </tr>\n    <tr>\n      <th>n</th>\n      <td>N00000000a00000000N</td>\n      <td>0.472115+0.196612j</td>\n    </tr>\n    <tr>\n      <th rowspan=\"4\" valign=\"top\">LVBranch128683</th>\n      <th>a</th>\n      <td>8.068645+1.326657j</td>\n      <td>-8.096830-1.291304j</td>\n    </tr>\n    <tr>\n      <th>b</th>\n      <td>-2.935977-7.139953j</td>\n      <td>2.985580+7.138206j</td>\n    </tr>\n    <tr>\n      <th>c</th>\n      <td>-4.660553+6.009908j</td>\n      <td>4.629347-6.043510j</td>\n    </tr>\n    <tr>\n      <th>n</th>\n      <td>-0.472109-0.196615j</td>\n      <td>0.481900+0.196611j</td>\n    </tr>\n  </tbody>\n</table>\n</div>"
     },
     "execution_count": 10,
     "metadata": {},
     "output_type": "execute_result"
    }
   ],
   "source": [
    "en.branches_currents.head(n=8)"
   ],
   "metadata": {
    "collapsed": false
   }
  }
 ],
 "metadata": {
  "kernelspec": {
   "display_name": "Python 3",
   "language": "python",
   "name": "python3"
  },
  "language_info": {
   "codemirror_mode": {
    "name": "ipython",
    "version": 2
   },
   "file_extension": ".py",
   "mimetype": "text/x-python",
   "name": "python",
   "nbconvert_exporter": "python",
   "pygments_lexer": "ipython2",
   "version": "2.7.6"
  }
 },
 "nbformat": 4,
 "nbformat_minor": 0
}
