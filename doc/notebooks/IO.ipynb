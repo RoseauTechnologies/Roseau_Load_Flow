{
 "cells": [
  {
   "cell_type": "markdown",
   "metadata": {
    "collapsed": false
   },
   "source": [
    "# Creating a network from a file"
   ]
  },
  {
   "cell_type": "code",
   "execution_count": null,
   "metadata": {
    "collapsed": false
   },
   "outputs": [],
   "source": [
    "import getpass\n",
    "\n",
    "from roseau.load_flow import *"
   ]
  },
  {
   "cell_type": "markdown",
   "metadata": {
    "collapsed": false
   },
   "source": [
    "## From JSON\n",
    "\n",
    "The first format that can be read is the JSON format. The `from_json` class-method of `ElectricalNetwork` can be used\n",
    "for that."
   ]
  },
  {
   "cell_type": "code",
   "execution_count": null,
   "metadata": {
    "collapsed": false
   },
   "outputs": [],
   "source": [
    "en = ElectricalNetwork.from_json(\"data/LVFeeder00939_summer.json\")"
   ]
  },
  {
   "cell_type": "code",
   "execution_count": null,
   "metadata": {
    "collapsed": false
   },
   "outputs": [],
   "source": [
    "# Authentication\n",
    "auth = (input(\"Please enter your username:\"), getpass.getpass(\"Please enter your password:\"))"
   ]
  },
  {
   "attachments": {},
   "cell_type": "markdown",
   "metadata": {
    "collapsed": false
   },
   "source": [
    "Then, a load flow can be directly solved."
   ]
  },
  {
   "cell_type": "code",
   "execution_count": null,
   "metadata": {
    "collapsed": false
   },
   "outputs": [],
   "source": [
    "en.solve_load_flow(auth=auth)"
   ]
  },
  {
   "cell_type": "markdown",
   "metadata": {
    "collapsed": false
   },
   "source": [
    "The results are accessible the same way as explained in the [Getting Started](Getting_Started.ipynb) page"
   ]
  },
  {
   "cell_type": "code",
   "execution_count": null,
   "metadata": {
    "collapsed": false
   },
   "outputs": [],
   "source": [
    "en.res_buses.head(n=8)"
   ]
  },
  {
   "cell_type": "code",
   "execution_count": null,
   "metadata": {
    "collapsed": false
   },
   "outputs": [],
   "source": [
    "en.res_branches.head(n=8)"
   ]
  },
  {
   "cell_type": "markdown",
   "metadata": {
    "collapsed": false
   },
   "source": [
    "Note that the buses, branches (lines, transformers and switches), and loads can be accessed from the electrical network\n",
    "using the `buses`, `branches` and `loads` fields."
   ]
  },
  {
   "cell_type": "code",
   "execution_count": null,
   "metadata": {
    "collapsed": false
   },
   "outputs": [],
   "source": [
    "en.buses"
   ]
  },
  {
   "attachments": {},
   "cell_type": "markdown",
   "metadata": {
    "collapsed": false
   },
   "source": [
    "## Adding elements\n",
    "\n",
    "It is possible to add new buses, loads, lines, switches, transformers to an existing network\n",
    "by simply creating the elements and linking them to an element already in the network. For\n",
    "example, the code below adds a new line and a constant power load."
   ]
  },
  {
   "cell_type": "code",
   "execution_count": null,
   "metadata": {
    "collapsed": false
   },
   "outputs": [],
   "source": [
    "# Connect a new bus to the network\n",
    "ground = en.grounds[\"ground\"]\n",
    "bus = Bus(id=\"new_bus\", phases=\"abcn\")\n",
    "load = PowerLoad(id=\"new_load\", bus=bus, phases=\"abcn\", powers=[100, 0, 0])\n",
    "lp = LineParameters.from_name_lv(\"S_AL_240\")\n",
    "line = Line(\n",
    "    id=\"new_line\",\n",
    "    bus1=en.buses[\"LVBus004111\"],\n",
    "    bus2=bus,\n",
    "    phases=\"abcn\",\n",
    "    ground=ground,\n",
    "    parameters=lp,\n",
    "    length=0.5,\n",
    ")"
   ]
  },
  {
   "cell_type": "markdown",
   "metadata": {
    "collapsed": false
   },
   "source": [
    "Then, the load flow can be solved again, and the new results are available."
   ]
  },
  {
   "cell_type": "code",
   "execution_count": null,
   "metadata": {
    "collapsed": false
   },
   "outputs": [],
   "source": [
    "# Rerun the results\n",
    "en.solve_load_flow(auth=auth)\n",
    "en.res_buses.head(n=8)"
   ]
  },
  {
   "cell_type": "code",
   "execution_count": null,
   "metadata": {
    "collapsed": false
   },
   "outputs": [],
   "source": [
    "en.res_branches.head(n=8)"
   ]
  },
  {
   "attachments": {},
   "cell_type": "markdown",
   "metadata": {},
   "source": [
    "## Saving the modified network\n",
    "\n",
    "The modified network can be saved using the `en.to_json` method.\n",
    "\n",
    "```python\n",
    "en.to_json('new_network.json')\n",
    "```"
   ]
  }
 ],
 "metadata": {
  "kernelspec": {
   "display_name": "venv",
   "language": "python",
   "name": "python3"
  },
  "language_info": {
   "codemirror_mode": {
    "name": "ipython",
    "version": 3
   },
   "file_extension": ".py",
   "mimetype": "text/x-python",
   "name": "python",
   "nbconvert_exporter": "python",
   "pygments_lexer": "ipython3",
   "version": "3.10.9"
  },
  "vscode": {
   "interpreter": {
    "hash": "99cbd331128cf218793744ba240286bb402c67078e32af81afdf76a86262575b"
   }
  }
 },
 "nbformat": 4,
 "nbformat_minor": 0
}
