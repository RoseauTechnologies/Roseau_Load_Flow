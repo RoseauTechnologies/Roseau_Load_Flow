{
 "cells": [
  {
   "cell_type": "markdown",
   "source": [
    "# Create network from file"
   ],
   "metadata": {
    "collapsed": false,
    "pycharm": {
     "name": "#%% md\n"
    }
   }
  },
  {
   "cell_type": "code",
   "execution_count": 1,
   "outputs": [],
   "source": [
    "from roseau.load_flow import *"
   ],
   "metadata": {
    "collapsed": false,
    "pycharm": {
     "name": "#%%\n"
    }
   }
  },
  {
   "cell_type": "code",
   "execution_count": 2,
   "outputs": [],
   "source": [
    "en = ElectricalNetwork.from_json(\"./test.json\")"
   ],
   "metadata": {
    "collapsed": false,
    "pycharm": {
     "name": "#%%\n"
    }
   }
  },
  {
   "cell_type": "code",
   "execution_count": 3,
   "outputs": [
    {
     "data": {
      "text/plain": "2"
     },
     "execution_count": 3,
     "metadata": {},
     "output_type": "execute_result"
    }
   ],
   "source": [
    "en.solve_load_flow(auth=(\"username\", \"dev password\"))"
   ],
   "metadata": {
    "collapsed": false,
    "pycharm": {
     "name": "#%%\n"
    }
   }
  },
  {
   "cell_type": "code",
   "execution_count": 4,
   "outputs": [
    {
     "data": {
      "text/plain": "                                potential\nbus_id      phase                        \nMVLV08729   a      345.688349+196.010353j\n            b     -4.326850-0396.2229050j\n            c     -343.079200+201.149697j\n            n      0.00000000+0.00000000j\nLVBus079601 a      344.152441+194.816794j",
      "text/html": "<div>\n<style scoped>\n    .dataframe tbody tr th:only-of-type {\n        vertical-align: middle;\n    }\n\n    .dataframe tbody tr th {\n        vertical-align: top;\n    }\n\n    .dataframe thead th {\n        text-align: right;\n    }\n</style>\n<table border=\"1\" class=\"dataframe\">\n  <thead>\n    <tr style=\"text-align: right;\">\n      <th></th>\n      <th></th>\n      <th>potential</th>\n    </tr>\n    <tr>\n      <th>bus_id</th>\n      <th>phase</th>\n      <th></th>\n    </tr>\n  </thead>\n  <tbody>\n    <tr>\n      <th rowspan=\"4\" valign=\"top\">MVLV08729</th>\n      <th>a</th>\n      <td>345.688349+196.010353j</td>\n    </tr>\n    <tr>\n      <th>b</th>\n      <td>-4.326850-0396.2229050j</td>\n    </tr>\n    <tr>\n      <th>c</th>\n      <td>-343.079200+201.149697j</td>\n    </tr>\n    <tr>\n      <th>n</th>\n      <td>0.00000000+0.00000000j</td>\n    </tr>\n    <tr>\n      <th>LVBus079601</th>\n      <th>a</th>\n      <td>344.152441+194.816794j</td>\n    </tr>\n  </tbody>\n</table>\n</div>"
     },
     "execution_count": 4,
     "metadata": {},
     "output_type": "execute_result"
    }
   ],
   "source": [
    "buses_results, branches_results, loads_results = en.results\n",
    "buses_results.head()"
   ],
   "metadata": {
    "collapsed": false,
    "pycharm": {
     "name": "#%%\n"
    }
   }
  },
  {
   "cell_type": "code",
   "execution_count": 5,
   "outputs": [
    {
     "data": {
      "text/plain": "                                   current1               current2\nbranch_id      phase                                              \nLVBranch085260 a       99.399958+19.838907j  -99.402324-19.834732j\n               b     -48.112206-135.287714j  48.116986+135.287660j\n               c      -57.311872+66.903227j   57.309441-66.907371j\n               n      6.023850+048.5450850j -6.023844-048.5450830j\nLVBranch159361 a       62.126379+12.614438j  -62.128237-12.611154j",
      "text/html": "<div>\n<style scoped>\n    .dataframe tbody tr th:only-of-type {\n        vertical-align: middle;\n    }\n\n    .dataframe tbody tr th {\n        vertical-align: top;\n    }\n\n    .dataframe thead th {\n        text-align: right;\n    }\n</style>\n<table border=\"1\" class=\"dataframe\">\n  <thead>\n    <tr style=\"text-align: right;\">\n      <th></th>\n      <th></th>\n      <th>current1</th>\n      <th>current2</th>\n    </tr>\n    <tr>\n      <th>branch_id</th>\n      <th>phase</th>\n      <th></th>\n      <th></th>\n    </tr>\n  </thead>\n  <tbody>\n    <tr>\n      <th rowspan=\"4\" valign=\"top\">LVBranch085260</th>\n      <th>a</th>\n      <td>99.399958+19.838907j</td>\n      <td>-99.402324-19.834732j</td>\n    </tr>\n    <tr>\n      <th>b</th>\n      <td>-48.112206-135.287714j</td>\n      <td>48.116986+135.287660j</td>\n    </tr>\n    <tr>\n      <th>c</th>\n      <td>-57.311872+66.903227j</td>\n      <td>57.309441-66.907371j</td>\n    </tr>\n    <tr>\n      <th>n</th>\n      <td>6.023850+048.5450850j</td>\n      <td>-6.023844-048.5450830j</td>\n    </tr>\n    <tr>\n      <th>LVBranch159361</th>\n      <th>a</th>\n      <td>62.126379+12.614438j</td>\n      <td>-62.128237-12.611154j</td>\n    </tr>\n  </tbody>\n</table>\n</div>"
     },
     "execution_count": 5,
     "metadata": {},
     "output_type": "execute_result"
    }
   ],
   "source": [
    "branches_results.head()"
   ],
   "metadata": {
    "collapsed": false,
    "pycharm": {
     "name": "#%%\n"
    }
   }
  },
  {
   "cell_type": "code",
   "execution_count": 6,
   "outputs": [
    {
     "data": {
      "text/plain": "{'MVLV08729': <roseau.load_flow.models.buses.Bus at 0x7f9e64411880>,\n 'LVBus079601': <roseau.load_flow.models.buses.Bus at 0x7f9e64417b80>,\n 'LVBus079605': <roseau.load_flow.models.buses.Bus at 0x7f9e64417bb0>,\n 'LVBus079606': <roseau.load_flow.models.buses.Bus at 0x7f9e2707f100>,\n 'LVBus079602': <roseau.load_flow.models.buses.Bus at 0x7f9e2707f070>,\n 'LVBus079604': <roseau.load_flow.models.buses.Bus at 0x7f9e2707f1c0>,\n 'LVBus079607': <roseau.load_flow.models.buses.Bus at 0x7f9e2707f2b0>,\n 'LVBus079615': <roseau.load_flow.models.buses.Bus at 0x7f9e2707f3a0>,\n 'LVBus079603': <roseau.load_flow.models.buses.Bus at 0x7f9e2707f490>,\n 'LVBus183333': <roseau.load_flow.models.buses.Bus at 0x7f9e2707f580>,\n 'LVBus183322': <roseau.load_flow.models.buses.Bus at 0x7f9e2707f670>,\n 'LVBus183352': <roseau.load_flow.models.buses.Bus at 0x7f9e2707f760>,\n 'LVBus183334': <roseau.load_flow.models.buses.Bus at 0x7f9e2707f850>,\n 'LVBus183323': <roseau.load_flow.models.buses.Bus at 0x7f9e2707f940>,\n 'LVBus188774': <roseau.load_flow.models.buses.Bus at 0x7f9e2707fa30>,\n 'LVBus079608': <roseau.load_flow.models.buses.Bus at 0x7f9e2707fb20>,\n 'LVBus079610': <roseau.load_flow.models.buses.Bus at 0x7f9e2707fc10>,\n 'LVBus079609': <roseau.load_flow.models.buses.Bus at 0x7f9e2707fd00>,\n 'LVBus188775': <roseau.load_flow.models.buses.Bus at 0x7f9e2707fdf0>,\n 'LVBus079614': <roseau.load_flow.models.buses.Bus at 0x7f9e2707fee0>,\n 'LVBus079611': <roseau.load_flow.models.buses.Bus at 0x7f9e26fd50a0>,\n 'LVBus185989': <roseau.load_flow.models.buses.Bus at 0x7f9e26fd5100>,\n 'LVBus183324': <roseau.load_flow.models.buses.Bus at 0x7f9e26fd51f0>,\n 'LVBus079612': <roseau.load_flow.models.buses.Bus at 0x7f9e26fd52e0>,\n 'LVBus079613': <roseau.load_flow.models.buses.Bus at 0x7f9e26fd53d0>,\n 'LVBus183329': <roseau.load_flow.models.buses.Bus at 0x7f9e26fd54c0>,\n 'LVBus185990': <roseau.load_flow.models.buses.Bus at 0x7f9e26fd55b0>,\n 'LVBus185638': <roseau.load_flow.models.buses.Bus at 0x7f9e26fd56a0>,\n 'LVBus183325': <roseau.load_flow.models.buses.Bus at 0x7f9e26fd5790>,\n 'LVBus185991': <roseau.load_flow.models.buses.Bus at 0x7f9e26fd5880>,\n 'LVBus186133': <roseau.load_flow.models.buses.Bus at 0x7f9e26fd5970>,\n 'LVBus186134': <roseau.load_flow.models.buses.Bus at 0x7f9e26fd5a60>,\n 'LVBus186680': <roseau.load_flow.models.buses.Bus at 0x7f9e26fd5b50>,\n 'LVBus183328': <roseau.load_flow.models.buses.Bus at 0x7f9e26fd5c40>,\n 'LVBus186135': <roseau.load_flow.models.buses.Bus at 0x7f9e26fd5d30>,\n 'LVBus183326': <roseau.load_flow.models.buses.Bus at 0x7f9e26fd5e20>,\n 'LVBus183331': <roseau.load_flow.models.buses.Bus at 0x7f9e26fd5f10>,\n 'LVBus183327': <roseau.load_flow.models.buses.Bus at 0x7f9e26fdb040>,\n 'LVBus186681': <roseau.load_flow.models.buses.Bus at 0x7f9e26fdb130>,\n 'LVBus186687': <roseau.load_flow.models.buses.Bus at 0x7f9e26fdb220>,\n 'LVBus183330': <roseau.load_flow.models.buses.Bus at 0x7f9e26fdb310>,\n 'LVBus186688': <roseau.load_flow.models.buses.Bus at 0x7f9e26fdb400>,\n 'LVBus186682': <roseau.load_flow.models.buses.Bus at 0x7f9e26fdb4f0>,\n 'LVBus183332': <roseau.load_flow.models.buses.Bus at 0x7f9e26fdb5e0>,\n 'LVBus186683': <roseau.load_flow.models.buses.Bus at 0x7f9e26fdb6d0>,\n 'LVBus186684': <roseau.load_flow.models.buses.Bus at 0x7f9e26fdb7c0>,\n 'LVBus186697': <roseau.load_flow.models.buses.Bus at 0x7f9e26fdb8b0>,\n 'LVBus186701': <roseau.load_flow.models.buses.Bus at 0x7f9e26fdb9a0>,\n 'LVBus186685': <roseau.load_flow.models.buses.Bus at 0x7f9e26fdba90>,\n 'LVBus186703': <roseau.load_flow.models.buses.Bus at 0x7f9e26fdbb80>,\n 'LVBus186686': <roseau.load_flow.models.buses.Bus at 0x7f9e26fdbc70>,\n 'LVBus195121': <roseau.load_flow.models.buses.Bus at 0x7f9e26fdbd60>,\n 'LVBus186698': <roseau.load_flow.models.buses.Bus at 0x7f9e26fdbe50>,\n 'LVBus186700': <roseau.load_flow.models.buses.Bus at 0x7f9e26fdbf40>,\n 'LVBus186704': <roseau.load_flow.models.buses.Bus at 0x7f9e26fe1070>,\n 'LVBus186702': <roseau.load_flow.models.buses.Bus at 0x7f9e26fe1160>,\n 'LVBus186699': <roseau.load_flow.models.buses.Bus at 0x7f9e26fe1250>,\n 'VoltageSource': <roseau.load_flow.models.buses.VoltageSource at 0x7f9e26fe1340>}"
     },
     "execution_count": 6,
     "metadata": {},
     "output_type": "execute_result"
    }
   ],
   "source": [
    "en.buses"
   ],
   "metadata": {
    "collapsed": false,
    "pycharm": {
     "name": "#%%\n"
    }
   }
  },
  {
   "cell_type": "code",
   "execution_count": 7,
   "outputs": [],
   "source": [
    "# Connect a new bus to the network\n",
    "ground = en.special_elements[0]\n",
    "bus = Bus(id=\"new_bus\", n=4)\n",
    "load = PowerLoad(id=\"new_load\", n=4, bus=bus, s = [100, 0, 0])\n",
    "lc = LineCharacteristics.from_name_lv(\"S_AL_240\")\n",
    "line = ShuntLine(id=\"new_line\", n=4, bus1=en.buses[\"LVBus079605\"], bus2=bus, ground=ground, line_characteristics=lc, length=0.5)\n",
    "en.add_element(bus)\n",
    "en.add_element(load)\n",
    "en.add_element(line)"
   ],
   "metadata": {
    "collapsed": false,
    "pycharm": {
     "name": "#%%\n"
    }
   }
  },
  {
   "cell_type": "code",
   "execution_count": 8,
   "outputs": [
    {
     "data": {
      "text/plain": "                                potential\nbus_id      phase                        \nMVLV08729   a      345.694097+195.993383j\n            b     -4.326607-0396.2223020j\n            c     -343.087259+201.148230j\n            n      0.00000000+0.00000000j\nLVBus079601 a      344.154807+194.791921j",
      "text/html": "<div>\n<style scoped>\n    .dataframe tbody tr th:only-of-type {\n        vertical-align: middle;\n    }\n\n    .dataframe tbody tr th {\n        vertical-align: top;\n    }\n\n    .dataframe thead th {\n        text-align: right;\n    }\n</style>\n<table border=\"1\" class=\"dataframe\">\n  <thead>\n    <tr style=\"text-align: right;\">\n      <th></th>\n      <th></th>\n      <th>potential</th>\n    </tr>\n    <tr>\n      <th>bus_id</th>\n      <th>phase</th>\n      <th></th>\n    </tr>\n  </thead>\n  <tbody>\n    <tr>\n      <th rowspan=\"4\" valign=\"top\">MVLV08729</th>\n      <th>a</th>\n      <td>345.694097+195.993383j</td>\n    </tr>\n    <tr>\n      <th>b</th>\n      <td>-4.326607-0396.2223020j</td>\n    </tr>\n    <tr>\n      <th>c</th>\n      <td>-343.087259+201.148230j</td>\n    </tr>\n    <tr>\n      <th>n</th>\n      <td>0.00000000+0.00000000j</td>\n    </tr>\n    <tr>\n      <th>LVBus079601</th>\n      <th>a</th>\n      <td>344.154807+194.791921j</td>\n    </tr>\n  </tbody>\n</table>\n</div>"
     },
     "execution_count": 8,
     "metadata": {},
     "output_type": "execute_result"
    }
   ],
   "source": [
    "# Rerun the results\n",
    "en.solve_load_flow(auth=(\"username\", \"dev password\"))\n",
    "buses_results, branches_results, loads_results = en.results\n",
    "buses_results.head()"
   ],
   "metadata": {
    "collapsed": false,
    "pycharm": {
     "name": "#%%\n"
    }
   }
  },
  {
   "cell_type": "code",
   "execution_count": 9,
   "outputs": [
    {
     "data": {
      "text/plain": "                                   current1               current2\nbranch_id      phase                                              \nLVBranch085260 a       99.741804+20.128371j  -99.744170-20.124195j\n               b     -48.128450-135.287579j  48.133230+135.287525j\n               c      -57.203770+66.729289j   57.201339-66.733432j\n               n      5.590058+048.4292720j -5.590052-048.4292700j\nLVBranch159361 a       62.130195+12.611259j  -62.132053-12.607975j",
      "text/html": "<div>\n<style scoped>\n    .dataframe tbody tr th:only-of-type {\n        vertical-align: middle;\n    }\n\n    .dataframe tbody tr th {\n        vertical-align: top;\n    }\n\n    .dataframe thead th {\n        text-align: right;\n    }\n</style>\n<table border=\"1\" class=\"dataframe\">\n  <thead>\n    <tr style=\"text-align: right;\">\n      <th></th>\n      <th></th>\n      <th>current1</th>\n      <th>current2</th>\n    </tr>\n    <tr>\n      <th>branch_id</th>\n      <th>phase</th>\n      <th></th>\n      <th></th>\n    </tr>\n  </thead>\n  <tbody>\n    <tr>\n      <th rowspan=\"4\" valign=\"top\">LVBranch085260</th>\n      <th>a</th>\n      <td>99.741804+20.128371j</td>\n      <td>-99.744170-20.124195j</td>\n    </tr>\n    <tr>\n      <th>b</th>\n      <td>-48.128450-135.287579j</td>\n      <td>48.133230+135.287525j</td>\n    </tr>\n    <tr>\n      <th>c</th>\n      <td>-57.203770+66.729289j</td>\n      <td>57.201339-66.733432j</td>\n    </tr>\n    <tr>\n      <th>n</th>\n      <td>5.590058+048.4292720j</td>\n      <td>-5.590052-048.4292700j</td>\n    </tr>\n    <tr>\n      <th>LVBranch159361</th>\n      <th>a</th>\n      <td>62.130195+12.611259j</td>\n      <td>-62.132053-12.607975j</td>\n    </tr>\n  </tbody>\n</table>\n</div>"
     },
     "execution_count": 9,
     "metadata": {},
     "output_type": "execute_result"
    }
   ],
   "source": [
    "branches_results.head()"
   ],
   "metadata": {
    "collapsed": false,
    "pycharm": {
     "name": "#%%\n"
    }
   }
  }
 ],
 "metadata": {
  "kernelspec": {
   "display_name": "Python 3",
   "language": "python",
   "name": "python3"
  },
  "language_info": {
   "codemirror_mode": {
    "name": "ipython",
    "version": 2
   },
   "file_extension": ".py",
   "mimetype": "text/x-python",
   "name": "python",
   "nbconvert_exporter": "python",
   "pygments_lexer": "ipython2",
   "version": "2.7.6"
  }
 },
 "nbformat": 4,
 "nbformat_minor": 0
}