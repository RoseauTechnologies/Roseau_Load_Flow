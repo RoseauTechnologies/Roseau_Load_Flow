{
 "cells": [
  {
   "attachments": {},
   "cell_type": "markdown",
   "metadata": {
    "collapsed": false
   },
   "source": [
    "# Getting started\n",
    "\n",
    "To get started please make sure you have followed the [installation instructions][installation].\n",
    "\n",
    "In this tutorial you will learn how to:\n",
    "\n",
    "1. Create a simple electrical network with one source and one load\n",
    "2. Run a load flow simulation\n",
    "3. Get the results\n",
    "4. Update the elements of the network\n",
    "5. Save the network and the results to the disk for later analysis\n",
    "6. Load the saved network and the results from the disk\n",
    "\n",
    "Let's start by importing everything we will need.\n",
    "\n",
    "[installation]: https://roseautechnologies.github.io/Roseau_Load_Flow/Installation"
   ]
  },
  {
   "cell_type": "code",
   "execution_count": null,
   "metadata": {
    "collapsed": false
   },
   "outputs": [],
   "source": [
    "import getpass\n",
    "\n",
    "import numpy as np\n",
    "\n",
    "from roseau.load_flow import *"
   ]
  },
  {
   "attachments": {},
   "cell_type": "markdown",
   "metadata": {
    "collapsed": false
   },
   "source": [
    "## Creating a network\n",
    "\n",
    "An electrical network can be built by assembling basic elements provided in\n",
    "[roseau.load_flow.models][api-models]. The following is a summary on the available elements:\n",
    "\n",
    "* Buses:\n",
    "  * `Bus`: An electrical bus.\n",
    "\n",
    "* Branches:\n",
    "  * `Line`: A line connects two buses. The parameters of the line are defined by a `LineParameters` object.\n",
    "  * `LineParameters`: This object defines the parameters of a line  (model, impedance, etc.)\n",
    "  * `Switch`: A basic switch element.\n",
    "  * `Transformer`: A generic transformer. The parameters of the transformer are defined by a `TransformerParameters` object.\n",
    "  * `TransformerParameters`: This object defines the parameters of a transformer (model, windings, etc.)\n",
    "* Loads:\n",
    "  The ZIP load model is available via the following classes:\n",
    "  * `ImpedanceLoad`: A constant impedance (Z) load: $S = |V|^2 \\times \\overline{Z}$, $|S|$ is proportional to $|V|^2$.\n",
    "  * `CurrentLoad` A constant impedance (I) load: $S = V \\times \\overline{I}$, $|S|$ is proportional to $|V|^1$.\n",
    "  * `PowerLoad`: A constant power (P) load: $S = \\mathrm{constant}$, $|S|$ is proportional to $|V|^0$.\n",
    "\n",
    "  A power load can be made flexible (controllable) by using the following class:\n",
    "  * `FlexibleParameter`: This object defines the parameters of the flexible load's control (Maximum power, projection, type, etc.)\n",
    "* Sources:\n",
    "  * `VoltageSource`: A voltage source has a constant voltage and an infinite power source.\n",
    "* Others:\n",
    "  * `Ground`: A ground acts as a perfect conductor. If two elements are connected to the ground, the potentials at the connection points are always equal.\n",
    "  * `PotentialRef`: A potential reference sets the reference of potentials in the network. It can be connected to buses or grounds.\n",
    "\n",
    "Let's use some of these elements to build a network with a voltage source, a simple line and a constant power load.\n",
    "This network is a low voltage network (three-phase +  neutral wire).\n",
    "\n",
    "[api-models]: https://roseautechnologies.github.io/Roseau_Load_Flow/autoapi/roseau/load_flow/models\n"
   ]
  },
  {
   "cell_type": "code",
   "execution_count": null,
   "metadata": {
    "collapsed": false
   },
   "outputs": [],
   "source": [
    "# Create two buses\n",
    "source_bus = Bus(id=\"sb\", phases=\"abcn\")\n",
    "load_bus = Bus(id=\"lb\", phases=\"abcn\")\n",
    "\n",
    "# Define the reference of potentials to be the neutral of the source bus\n",
    "ground = Ground(id=\"gnd\")\n",
    "pref = PotentialRef(id=\"pref\", element=ground)  # Set the potential of the ground element to 0\n",
    "ground.connect(source_bus, phase=\"n\")\n",
    "\n",
    "# Create a LV source at the first bus\n",
    "un = 400 / np.sqrt(3)  # Volts (phase-to-neutral because the source is connected to the neutral)\n",
    "source_voltages = [un, un * np.exp(-2j * np.pi / 3), un * np.exp(2j * np.pi / 3)]\n",
    "vs = VoltageSource(id=\"vs\", bus=source_bus, phases=\"abcn\", voltages=source_voltages)\n",
    "\n",
    "# Add a load at the second bus\n",
    "load = PowerLoad(id=\"load\", bus=load_bus, phases=\"abcn\", powers=[10e3 + 0j, 10e3, 10e3])  # VA\n",
    "\n",
    "# Add a LV line between the source bus and the load bus\n",
    "lp = LineParameters(\"lp\", z_line=0.1 * np.eye(4, dtype=complex))  # R = X = 0.1 Ohm/km\n",
    "line = Line(id=\"line\", bus1=source_bus, bus2=load_bus, phases=\"abcn\", parameters=lp, length=2.0)"
   ]
  },
  {
   "attachments": {},
   "cell_type": "markdown",
   "metadata": {
    "collapsed": false
   },
   "source": [
    "At this point, all the basic elements of the network have been defined and connected. Now,\n",
    "everything can be encapsulated in an `ElectricalNetwork` object, but first, some important\n",
    "notes on the `Ground` and `PotentialRef` elements:\n",
    "\n",
    "<div class=\"alert alert-info\">\n",
    "\n",
    "**Important:**\n",
    "\n",
    "The `Ground` element does not have a fixed potential as one would expect from a real ground\n",
    "connection. The potential reference (0 Volts) is defined by the `PotentialRef` element that\n",
    "itself can be connected to any bus or ground in the network. This is to give more flexibility\n",
    "for the user to define the potential reference of their network.\n",
    "\n",
    "The `PotentialRef` defines the potential reference for this network. This is a mandatory\n",
    "reference for the load flow resolution to be well defined. A network MUST have one and only\n",
    "one potential reference per a galvanically isolated section.\n",
    "</div>\n",
    "\n",
    "<div class=\"alert alert-info\">\n",
    "\n",
    "**Note:**\n",
    "\n",
    "The `Ground` element is not required in this simple network as it is connected to a single\n",
    "element. No current will flow through the ground and no two points in the network will be forced\n",
    "to have the same potential. In this scenario you are allowed to define the potential reference\n",
    "directly on the bus element: `pref = PotentialRef(id=\"pref\", element=source_bus, phase=\"n\")` and\n",
    "not bother with defining the ground element at all.\n",
    "</div>\n",
    "\n",
    "The `ElectricalNetwork` object can now be created using the `from_element` constructor. The\n",
    "source bus `source_bus` is given to this constructor. All the elements connected to this bus are\n",
    "automatically included into the network."
   ]
  },
  {
   "cell_type": "code",
   "execution_count": null,
   "metadata": {
    "collapsed": false
   },
   "outputs": [],
   "source": [
    "# Create the electrical network\n",
    "en = ElectricalNetwork.from_element(source_bus)"
   ]
  },
  {
   "attachments": {},
   "cell_type": "markdown",
   "metadata": {
    "collapsed": false
   },
   "source": [
    "## Solving a load flow\n",
    "\n",
    "An authentication is required. Please contact us at contact@roseautechnologies.com to get the necessary credentials.\n",
    "\n",
    "<div class=\"alert alert-warning\">\n",
    "\n",
    "**Warning:**\n",
    "\n",
    "`input` should never be used to read passwords and secret credentials as the terminal might save the password in\n",
    "plain text in its history. Use `getpass.getpass` that provides the necessary protections instead.\n",
    "</div>\n"
   ]
  },
  {
   "cell_type": "code",
   "execution_count": null,
   "metadata": {
    "collapsed": false
   },
   "outputs": [],
   "source": [
    "# Authentication\n",
    "auth = (input(\"Please enter your username:\"), getpass.getpass(\"Please enter your password:\"))"
   ]
  },
  {
   "attachments": {},
   "cell_type": "markdown",
   "metadata": {
    "collapsed": false
   },
   "source": [
    "Then, the load flow can be solved by requesting our server (requires Internet access).\n",
    "\n",
    "<div class=\"alert alert-info\">\n",
    "\n",
    "**Note:**\n",
    "\n",
    "The server takes some time to warm up the first time it is requested. Subsequent requests will\n",
    "execute faster.\n",
    "</div>\n"
   ]
  },
  {
   "cell_type": "code",
   "execution_count": null,
   "metadata": {
    "collapsed": false
   },
   "outputs": [],
   "source": [
    "# Solve the load flow\n",
    "en.solve_load_flow(auth=auth)"
   ]
  },
  {
   "attachments": {},
   "cell_type": "markdown",
   "metadata": {
    "collapsed": false
   },
   "source": [
    "It returns the number of iterations performed by the *Newton-Raphson* algorithm. Here, 2.\n",
    "\n",
    "## Getting the results\n",
    "\n",
    "The results are now available for every element of the network. Results can be accessed through\n",
    "special properties prefixed with `res_` on each element object. For instance, the potentials\n",
    "of the `load_bus` can be accessed using the property `load_bus.res_potentials`. It contains 4\n",
    "values which are the potentials of its phases `a`, `b`, `c` and `n` (neutral). This potentials\n",
    "returned are complex numbers. Calling `abs(load_bus.res_potentials)` gives you the magnitude of\n",
    "the load's potentials (in Volts) and `np.angle(load_bus.res_potentials)` gives their angle in\n",
    "radians.\n",
    "\n",
    "\n",
    "<div class=\"alert alert-info\">\n",
    "\n",
    "**Note:**\n",
    "\n",
    "Roseau Load Flow uses the [Pint](https://pint.readthedocs.io/en/stable/) `Quantity` objects to\n",
    "handle data in unit-agnostic way. All input data (load powers, source voltages, etc.) is\n",
    "expected to be either given in SI units or using the pint Quantity interface for non-SI units\n",
    "(example below). The `length` paramater of the `Line` class that is an exception where the\n",
    "default unit is Kilometers.\n",
    "\n",
    "Example, create a load with powers expressed in kVA:\n",
    "```python\n",
    "from roseau.load_flow import Q_\n",
    "\n",
    "load = PowerLoad(id=\"load\", bus=load_bus, phases=\"abcn\", powers=Q_([10, 10, 10], \"kVA\"))\n",
    "```\n",
    "</div>\n",
    "\n",
    "The results returned by the `res_` properties are also `Quantity` objects.\n",
    "\n",
    "### Available results\n",
    "\n",
    "The available results depend on the type of element. The following table summarizes the available\n",
    "results for each element type:\n",
    "\n",
    "| Element type | Available results |\n",
    "|--------------|-------------------|\n",
    "| `Bus` | `res_potentials`, `res_voltages` |\n",
    "| `Line` | `res_currents`, `res_powers`, `res_potentials`, `res_voltages`, `res_series_power_losses`, `res_shunt_power_losses`, `res_power_losses` |\n",
    "| `Transformer`, `Switch` | `res_currents`, `res_powers`, `res_potentials`, `res_voltages` |\n",
    "| `ImpedanceLoad`, `CurrentLoad`, `PowerLoad` | `res_currents`, `res_powers`, `res_potentials`, `res_voltages` |\n",
    "| `VoltageSource` | `res_currents`, `res_powers`, `res_potentials`, `res_voltages` |\n",
    "| `Ground` | `res_potential` |\n",
    "| `PotentialRef` | `res_current` *(Always zero for a successful load flow)* |\n",
    "\n",
    "\n",
    "### Getting results per object\n",
    "\n",
    "In order to get the potentials or voltages of a bus, use the `res_potentials` or `res_voltages`\n",
    "properties of buses as follows:"
   ]
  },
  {
   "cell_type": "code",
   "execution_count": null,
   "metadata": {
    "collapsed": false
   },
   "outputs": [],
   "source": [
    "load_bus.res_potentials"
   ]
  },
  {
   "attachments": {},
   "cell_type": "markdown",
   "metadata": {
    "collapsed": false
   },
   "source": [
    "The currents of the line are available using the `res_currents` property of the `line` object.\n",
    "It contains two arrays:\n",
    "\n",
    "* the first is the current flowing from the first bus of the line to the second bus of the line.\n",
    "  It contains 4 values: one per phase and the neutral current.\n",
    "* the second is the current flowing from the second bus of the line to the first bus of the line.\n",
    "\n",
    "Here, the sum of these currents is 0 as we have chosen a simple line model, i.e, a line with only\n",
    "series impedance elements without shunt. If a shunt was present, the sum would have been non-zero."
   ]
  },
  {
   "cell_type": "code",
   "execution_count": null,
   "metadata": {
    "collapsed": false
   },
   "outputs": [],
   "source": [
    "line.res_currents"
   ]
  },
  {
   "attachments": {},
   "cell_type": "markdown",
   "metadata": {
    "collapsed": false
   },
   "source": [
    "For a flexible load (a `PowerLoad` with `flexible_params`), the final power values can be\n",
    "retrieved using the property `res_flexible_powers`."
   ]
  },
  {
   "attachments": {},
   "cell_type": "markdown",
   "metadata": {
    "collapsed": false
   },
   "source": [
    "### Dataframe network results\n",
    "\n",
    "The results can also be retrieved for the entire network using `res_` properties of the\n",
    "`ElectricalNetwork` instance as [pandas DataFrames](https://pandas.pydata.org/docs/).\n",
    "\n",
    "Available results for the network are:\n",
    "\n",
    "* `res_buses`: Buses potentials indexed by *(bus id, phase)*\n",
    "* `res_buses_voltages`: Buses voltages indexed by *(bus id, voltage phase)*\n",
    "* `res_branches`: Branches currents, powers, and potentials indexed by *(branch id, phase)*\n",
    "* `res_lines_losses`: Lines series, shunt, and total losses indexed by *(line id, phase)*\n",
    "* `res_loads`: Loads currents, powers, and potentials indexed by *(load id, phase)*\n",
    "* `res_loads_voltages`: Loads voltages indexed by *(load id, voltage phase)*\n",
    "* `res_loads_flexible_powers`: Loads flexible powers (only for flexible loads) indexed by\n",
    "  (load id, phase)\n",
    "* `res_sources`: Sources currents, powers, and potentials indexed by *(source id, phase)*\n",
    "* `res_grounds`: Grounds potentials indexed by *ground id*\n",
    "* `res_potential_refs`: Potential references currents indexed by *potential ref id* (always zero\n",
    "  for a successful load flow)\n",
    "\n",
    "All the results are complex numbers. You can always access the magnitude of the results using\n",
    "the `abs` function and the angle in radians using the `np.angle` function. For instance,\n",
    "`abs(network.res_loads)` gives you the magnitude of the loads' results in SI units.\n",
    "\n",
    "Below are the results of the load flow for `en`:"
   ]
  },
  {
   "cell_type": "code",
   "execution_count": null,
   "metadata": {
    "collapsed": false
   },
   "outputs": [],
   "source": [
    "en.res_buses"
   ]
  },
  {
   "cell_type": "code",
   "execution_count": null,
   "metadata": {},
   "outputs": [],
   "source": [
    "en.res_buses_voltages"
   ]
  },
  {
   "cell_type": "code",
   "execution_count": null,
   "metadata": {},
   "outputs": [],
   "source": [
    "en.res_branches"
   ]
  },
  {
   "cell_type": "code",
   "execution_count": null,
   "metadata": {},
   "outputs": [],
   "source": [
    "en.res_lines_losses"
   ]
  },
  {
   "cell_type": "code",
   "execution_count": null,
   "metadata": {},
   "outputs": [],
   "source": [
    "en.res_loads"
   ]
  },
  {
   "cell_type": "code",
   "execution_count": null,
   "metadata": {},
   "outputs": [],
   "source": [
    "en.res_loads_voltages"
   ]
  },
  {
   "cell_type": "code",
   "execution_count": null,
   "metadata": {},
   "outputs": [],
   "source": [
    "en.res_sources"
   ]
  },
  {
   "cell_type": "code",
   "execution_count": null,
   "metadata": {},
   "outputs": [],
   "source": [
    "en.res_grounds"
   ]
  },
  {
   "cell_type": "code",
   "execution_count": null,
   "metadata": {},
   "outputs": [],
   "source": [
    "en.res_potential_refs"
   ]
  },
  {
   "attachments": {},
   "cell_type": "markdown",
   "metadata": {
    "collapsed": false
   },
   "source": [
    "## Updating elements of the network\n",
    "\n",
    "Network elements can then be updated. Here, the load constant power values are changed. We\n",
    "create an unbalanced situation."
   ]
  },
  {
   "cell_type": "code",
   "execution_count": null,
   "metadata": {
    "collapsed": false
   },
   "outputs": [],
   "source": [
    "# Change the load to an unbalanced one then rerun the load flow\n",
    "load.powers = [15e3, 0, 0]  # VA\n",
    "en.solve_load_flow(auth=auth)\n",
    "load_bus.res_potentials"
   ]
  },
  {
   "attachments": {},
   "cell_type": "markdown",
   "metadata": {},
   "source": [
    "One can notice that the neutral's potential of the bus is no longer close to 0 V.\n",
    "\n",
    "## Saving the network to a file\n",
    "\n",
    "The network can be saved to a JSON file using the `en.to_json` method. Note that this method\n",
    "does not save the results of the load flow. It only saves the network elements.\n",
    "\n",
    "To save the results of the load flow, use the `en.results_to_json` method.\n",
    "\n",
    "```python\n",
    "en.to_json(\"my_network.json\")\n",
    "en.results_to_json(\"my_network_results.json\")\n",
    "```\n",
    "\n",
    "<div class=\"alert alert-danger\">\n",
    "\n",
    "**Warning:**\n",
    "\n",
    "The `to_json` and `results_to_json` methods will overwrite the file if it already exists.\n",
    "</div>\n",
    "\n",
    "## Loading a network from a file\n",
    "\n",
    "A saved network can be loaded using the `ElectricalNetwork.from_json` method. The results of\n",
    "the load flow can then be loaded using the `ElectricalNetwork.results_from_json` method.\n",
    "\n",
    "```python\n",
    "en = ElectricalNetwork.from_json(\"my_network.json\")\n",
    "en.results_from_json(\"my_network_results.json\")\n",
    "```"
   ]
  }
 ],
 "metadata": {
  "kernelspec": {
   "display_name": "venv",
   "language": "python",
   "name": "python3"
  },
  "language_info": {
   "codemirror_mode": {
    "name": "ipython",
    "version": 3
   },
   "file_extension": ".py",
   "mimetype": "text/x-python",
   "name": "python",
   "nbconvert_exporter": "python",
   "pygments_lexer": "ipython3",
   "version": "3.10.9"
  },
  "vscode": {
   "interpreter": {
    "hash": "99cbd331128cf218793744ba240286bb402c67078e32af81afdf76a86262575b"
   }
  }
 },
 "nbformat": 4,
 "nbformat_minor": 0
}
