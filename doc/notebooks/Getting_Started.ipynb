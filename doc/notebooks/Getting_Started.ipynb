{
 "cells": [
  {
   "cell_type": "markdown",
   "metadata": {},
   "source": [
    "# Getting started\n",
    "\n",
    "To get started please make sure you have followed the [installation instructions][installation].\n",
    "\n",
    "In this tutorial you will learn how to:\n",
    "\n",
    "1. Create a simple electrical network with one source and one load\n",
    "2. Run a load flow simulation\n",
    "3. Get the results\n",
    "4. Update the elements of the network\n",
    "5. Save the network and the results to the disk for later analysis\n",
    "6. Load the saved network and the results from the disk\n",
    "\n",
    "Let's start by importing everything we will need.\n",
    "\n",
    "[installation]: https://roseautechnologies.github.io/Roseau_Load_Flow/Installation"
   ]
  },
  {
   "cell_type": "code",
   "execution_count": 1,
   "metadata": {},
   "outputs": [],
   "source": [
    "import getpass\n",
    "\n",
    "import numpy as np\n",
    "\n",
    "from roseau.load_flow import *"
   ]
  },
  {
   "cell_type": "markdown",
   "metadata": {},
   "source": [
    "## Creating a network\n",
    "\n",
    "An electrical network can be built by assembling basic elements provided in\n",
    "[roseau.load_flow.models][api-models]. The following is a summary on the available elements:\n",
    "\n",
    "* Buses:\n",
    "  * `Bus`: An electrical bus.\n",
    "\n",
    "* Branches:\n",
    "  * `Line`: A line connects two buses. The parameters of the line are defined by a `LineParameters` object.\n",
    "  * `LineParameters`: This object defines the parameters of a line  (model, impedance, etc.)\n",
    "  * `Switch`: A basic switch element.\n",
    "  * `Transformer`: A generic transformer. The parameters of the transformer are defined by a `TransformerParameters` object.\n",
    "  * `TransformerParameters`: This object defines the parameters of a transformer (model, windings, etc.)\n",
    "* Loads:\n",
    "  The ZIP load model is available via the following classes:\n",
    "  * `ImpedanceLoad`: A constant impedance (Z) load: $S = |V|^2 \\times \\overline{Z}$, $|S|$ is proportional to $|V|^2$.\n",
    "  * `CurrentLoad` A constant impedance (I) load: $S = V \\times \\overline{I}$, $|S|$ is proportional to $|V|^1$.\n",
    "  * `PowerLoad`: A constant power (P) load: $S = \\mathrm{constant}$, $|S|$ is proportional to $|V|^0$.\n",
    "\n",
    "  A power load can be made flexible (controllable) by using the following class:\n",
    "  * `FlexibleParameter`: This object defines the parameters of the flexible load's control (Maximum power, projection, type, etc.)\n",
    "* Sources:\n",
    "  * `VoltageSource`: A voltage source has a constant voltage and an infinite power source.\n",
    "* Others:\n",
    "  * `Ground`: A ground acts as a perfect conductor. If two elements are connected to the ground, the potentials at the connection points are always equal.\n",
    "  * `PotentialRef`: A potential reference sets the reference of potentials in the network. It can be connected to buses or grounds.\n",
    "\n",
    "Let's use some of these elements to build the following network with a voltage source, a simple line and a constant power load.\n",
    "This network is a low voltage network (three-phase +  neutral wire).\n",
    "\n",
    "![Network](../_static/rlf_getting_started.svg)\n",
    "\n",
    "[api-models]: https://roseautechnologies.github.io/Roseau_Load_Flow/autoapi/roseau/load_flow/models\n"
   ]
  },
  {
   "cell_type": "code",
   "execution_count": 2,
   "metadata": {},
   "outputs": [],
   "source": [
    "# Create two buses\n",
    "source_bus = Bus(id=\"sb\", phases=\"abcn\")\n",
    "load_bus = Bus(id=\"lb\", phases=\"abcn\")\n",
    "\n",
    "# Define the reference of potentials to be the neutral of the source bus\n",
    "ground = Ground(id=\"gnd\")\n",
    "pref = PotentialRef(id=\"pref\", element=ground)  # Set the potential of the ground element to 0\n",
    "ground.connect(source_bus, phase=\"n\")\n",
    "\n",
    "# Create a LV source at the first bus\n",
    "un = 400 / np.sqrt(3)  # Volts (phase-to-neutral because the source is connected to the neutral)\n",
    "source_voltages = [un, un * np.exp(-2j * np.pi / 3), un * np.exp(2j * np.pi / 3)]\n",
    "vs = VoltageSource(id=\"vs\", bus=source_bus, phases=\"abcn\", voltages=source_voltages)\n",
    "\n",
    "# Add a load at the second bus\n",
    "load = PowerLoad(id=\"load\", bus=load_bus, phases=\"abcn\", powers=[10e3 + 0j, 10e3, 10e3])  # VA\n",
    "\n",
    "# Add a LV line between the source bus and the load bus\n",
    "lp = LineParameters(\"lp\", z_line=0.1 * np.eye(4, dtype=complex))  # R = 0.1 Ohm/km\n",
    "line = Line(id=\"line\", bus1=source_bus, bus2=load_bus, phases=\"abcn\", parameters=lp, length=2.0)"
   ]
  },
  {
   "cell_type": "markdown",
   "metadata": {},
   "source": [
    "At this point, all the basic elements of the network have been defined and connected. Now,\n",
    "everything can be encapsulated in an `ElectricalNetwork` object, but first, some important\n",
    "notes on the `Ground` and `PotentialRef` elements:\n",
    "\n",
    "<div class=\"alert alert-info\">\n",
    "\n",
    "**Important:**\n",
    "\n",
    "The `Ground` element does not have a fixed potential as one would expect from a real ground\n",
    "connection. The potential reference (0 Volts) is defined by the `PotentialRef` element that\n",
    "itself can be connected to any bus or ground in the network. This is to give more flexibility\n",
    "for the user to define the potential reference of their network.\n",
    "\n",
    "The `PotentialRef` defines the potential reference for this network. This is a mandatory\n",
    "reference for the load flow resolution to be well defined. A network MUST have one and only\n",
    "one potential reference per a galvanically isolated section.\n",
    "</div>\n",
    "\n",
    "<div class=\"alert alert-info\">\n",
    "\n",
    "**Note:**\n",
    "\n",
    "The `Ground` element is not required in this simple network as it is connected to a single\n",
    "element. No current will flow through the ground and no two points in the network will be forced\n",
    "to have the same potential. In this scenario you are allowed to define the potential reference\n",
    "directly on the bus element: `pref = PotentialRef(id=\"pref\", element=source_bus, phase=\"n\")` and\n",
    "not bother with defining the ground element at all.\n",
    "</div>\n",
    "\n",
    "The `ElectricalNetwork` object can now be created using the `from_element` constructor. The\n",
    "source bus `source_bus` is given to this constructor. All the elements connected to this bus are\n",
    "automatically included into the network."
   ]
  },
  {
   "cell_type": "code",
   "execution_count": 3,
   "metadata": {},
   "outputs": [
    {
     "data": {
      "text/plain": [
       "<ElectricalNetwork: 2 buses, 1 branch, 1 load, 1 source, 1 ground, 1 potential ref>"
      ]
     },
     "execution_count": 3,
     "metadata": {},
     "output_type": "execute_result"
    }
   ],
   "source": [
    "# Create the electrical network\n",
    "en = ElectricalNetwork.from_element(source_bus)\n",
    "en"
   ]
  },
  {
   "cell_type": "markdown",
   "metadata": {},
   "source": [
    "## Solving a load flow\n",
    "\n",
    "An authentication is required. Please contact us at contact@roseautechnologies.com to get the necessary credentials.\n",
    "\n",
    "<div class=\"alert alert-warning\">\n",
    "\n",
    "**Warning:**\n",
    "\n",
    "`input` should never be used to read passwords and secret credentials as the terminal might save the password in\n",
    "plain text in its history. Use `getpass.getpass` that provides the necessary protections instead.\n",
    "</div>\n"
   ]
  },
  {
   "cell_type": "code",
   "execution_count": 4,
   "metadata": {},
   "outputs": [
    {
     "name": "stdout",
     "output_type": "stream",
     "text": [
      "Please enter your username:benoit\n",
      "Please enter your password:········\n"
     ]
    }
   ],
   "source": [
    "# Authentication\n",
    "auth = (input(\"Please enter your username:\"), getpass.getpass(\"Please enter your password:\"))"
   ]
  },
  {
   "cell_type": "markdown",
   "metadata": {},
   "source": [
    "Then, the load flow can be solved by requesting our server (requires Internet access).\n",
    "\n",
    "<div class=\"alert alert-info\">\n",
    "\n",
    "**Note:**\n",
    "\n",
    "The server takes some time to warm up the first time it is requested. Subsequent requests will\n",
    "execute faster.\n",
    "</div>\n"
   ]
  },
  {
   "cell_type": "code",
   "execution_count": 5,
   "metadata": {},
   "outputs": [
    {
     "data": {
      "text/plain": [
       "2"
      ]
     },
     "execution_count": 5,
     "metadata": {},
     "output_type": "execute_result"
    }
   ],
   "source": [
    "# Solve the load flow\n",
    "en.solve_load_flow(auth=auth)"
   ]
  },
  {
   "cell_type": "markdown",
   "metadata": {},
   "source": [
    "It returns the number of iterations performed by the *Newton-Raphson* algorithm. Here, 2. To have some additional results regarding the convergence, the field `res_info` is available in the network."
   ]
  },
  {
   "cell_type": "code",
   "execution_count": 6,
   "metadata": {},
   "outputs": [
    {
     "data": {
      "text/plain": [
       "{'resolution_method': 'newton',\n",
       " 'precision': 1e-06,\n",
       " 'max_iterations': 20,\n",
       " 'warm_start': True,\n",
       " 'status': 'success',\n",
       " 'iterations': 2,\n",
       " 'final_precision': 1.8595619621919468e-07}"
      ]
     },
     "execution_count": 6,
     "metadata": {},
     "output_type": "execute_result"
    }
   ],
   "source": [
    "en.res_info"
   ]
  },
  {
   "cell_type": "markdown",
   "metadata": {},
   "source": [
    "The available values are:\n",
    "\n",
    "* `resolution_method`: for the moment, only the Newton algorithm is implemented\n",
    "* `precision`: the requested precision for the solver. $10^{-6}$ is the default.\n",
    "* `max_iterations`: the requested maximum number of iterations fior the algorithm. 20 is the default.\n",
    "* `warm_start`: if `True`, the previous potentials results are used as starting point for the algorithm. `True` is the default.\n",
    "* `status`: two possibilities: success or failure.\n",
    "* `iterations`: the number of iterations of the algorithm.\n",
    "* `final_precision`: the precision which was reached by the solver."
   ]
  },
  {
   "cell_type": "markdown",
   "metadata": {},
   "source": [
    "\n",
    "## Getting the results\n",
    "\n",
    "The results are now available for every element of the network. Results can be accessed through\n",
    "special properties prefixed with `res_` on each element object. For instance, the potentials\n",
    "of the `load_bus` can be accessed using the property `load_bus.res_potentials`. It contains 4\n",
    "values which are the potentials of its phases `a`, `b`, `c` and `n` (neutral). These potentials\n",
    "returned are complex numbers. Calling `abs(load_bus.res_potentials)` gives you the magnitude of\n",
    "the load's potentials (in Volts) and `np.angle(load_bus.res_potentials)` gives their angle in\n",
    "radians.\n",
    "\n",
    "\n",
    "<div class=\"alert alert-info\">\n",
    "\n",
    "**Note:**\n",
    "\n",
    "Roseau Load Flow uses the [Pint](https://pint.readthedocs.io/en/stable/) `Quantity` objects to\n",
    "handle data in unit-agnostic way. All input data (load powers, source voltages, etc.) is\n",
    "expected to be either given in SI units or using the pint Quantity interface for non-SI units\n",
    "(example below). The `length` parameter of the `Line` class that is an exception where the\n",
    "default unit is Kilometers.\n",
    "\n",
    "Example, create a load with powers expressed in kVA:\n",
    "```python\n",
    "from roseau.load_flow import Q_\n",
    "\n",
    "load = PowerLoad(id=\"load\", bus=load_bus, phases=\"abcn\", powers=Q_([10, 10, 10], \"kVA\"))\n",
    "```\n",
    "</div>\n",
    "\n",
    "The results returned by the `res_` properties are also `Quantity` objects.\n",
    "\n",
    "### Available results\n",
    "\n",
    "The available results depend on the type of element. The following table summarizes the available\n",
    "results for each element type:\n",
    "\n",
    "| Element type | Available results |\n",
    "|--------------|-------------------|\n",
    "| `Bus` | `res_potentials`, `res_voltages` |\n",
    "| `Line` | `res_currents`, `res_powers`, `res_potentials`, `res_voltages`, `res_series_power_losses`, `res_shunt_power_losses`, `res_power_losses` |\n",
    "| `Transformer`, `Switch` | `res_currents`, `res_powers`, `res_potentials`, `res_voltages` |\n",
    "| `ImpedanceLoad`, `CurrentLoad`, `PowerLoad` | `res_currents`, `res_powers`, `res_potentials`, `res_voltages` |\n",
    "| `VoltageSource` | `res_currents`, `res_powers`, `res_potentials`, `res_voltages` |\n",
    "| `Ground` | `res_potential` |\n",
    "| `PotentialRef` | `res_current` *(Always zero for a successful load flow)* |\n",
    "\n",
    "\n",
    "### Getting results per object\n",
    "\n",
    "In order to get the potentials or voltages of a bus, use the `res_potentials` or `res_voltages`\n",
    "properties of buses as follows:"
   ]
  },
  {
   "cell_type": "code",
   "execution_count": 7,
   "metadata": {},
   "outputs": [
    {
     "data": {
      "text/html": [
       "<table><tbody><tr><th>Magnitude</th><td style='text-align:left;'><pre>[ 2.21928183e+02-2.23031066e-21j -1.10964092e+02-1.92195445e+02j<br> -1.10964092e+02+1.92195445e+02j  2.35402704e-15-5.99225499e-20j]</pre></td></tr><tr><th>Units</th><td style='text-align:left;'>volt</td></tr></tbody></table>"
      ],
      "text/latex": [
       "$\\begin{pmatrix}(221.928183361166-2.2303106587551293\\times 10^{-21}j) & (-110.96409168058294-192.19544460650073j) & (-110.96409168058294+192.19544460650073j) & (2.354027042508398\\times 10^{-15}-5.992254993632488\\times 10^{-20}j)\\end{pmatrix}\\ \\mathrm{volt}$"
      ],
      "text/plain": [
       "array([ 2.21928183e+02-2.23031066e-21j, -1.10964092e+02-1.92195445e+02j,\n",
       "       -1.10964092e+02+1.92195445e+02j,  2.35402704e-15-5.99225499e-20j]) <Unit('volt')>"
      ]
     },
     "execution_count": 7,
     "metadata": {},
     "output_type": "execute_result"
    }
   ],
   "source": [
    "load_bus.res_potentials"
   ]
  },
  {
   "cell_type": "markdown",
   "metadata": {},
   "source": [
    "As to results are quantities, they can be converted into different units. Here, the voltage norm of the same bus are\n",
    "converted into kilovolts."
   ]
  },
  {
   "cell_type": "code",
   "execution_count": 8,
   "metadata": {},
   "outputs": [
    {
     "data": {
      "text/html": [
       "<table><tbody><tr><th>Magnitude</th><td style='text-align:left;'><pre>[0.221928183361166 0.22192818336116596 0.22192818336116596]</pre></td></tr><tr><th>Units</th><td style='text-align:left;'>kilovolt</td></tr></tbody></table>"
      ],
      "text/latex": [
       "$\\begin{pmatrix}0.221928183361166 & 0.22192818336116596 & 0.22192818336116596\\end{pmatrix}\\ \\mathrm{kilovolt}$"
      ],
      "text/plain": [
       "array([0.22192818, 0.22192818, 0.22192818]) <Unit('kilovolt')>"
      ]
     },
     "execution_count": 8,
     "metadata": {},
     "output_type": "execute_result"
    }
   ],
   "source": [
    "abs(load_bus.res_voltages).to(\"kV\")"
   ]
  },
  {
   "cell_type": "markdown",
   "metadata": {},
   "source": [
    "The currents of the line are available using the `res_currents` property of the `line` object.\n",
    "It contains two arrays:\n",
    "\n",
    "* the first is the current flowing from the first bus of the line to the second bus of the line.\n",
    "  It contains 4 values: one per phase and the neutral current.\n",
    "* the second is the current flowing from the second bus of the line to the first bus of the line.\n",
    "\n",
    "Here, the sum of these currents is 0 as we have chosen a simple line model, i.e, a line with only\n",
    "series impedance elements without shunt. If a shunt was present, the sum would have been non-zero."
   ]
  },
  {
   "cell_type": "code",
   "execution_count": 9,
   "metadata": {},
   "outputs": [
    {
     "data": {
      "text/plain": [
       "(array([ 4.50596216e+01+1.11515533e-20j, -2.25298108e+01-3.90227770e+01j,\n",
       "        -2.25298108e+01+3.90227770e+01j, -1.17701352e-14+2.99612750e-19j]) <Unit('ampere')>,\n",
       " array([-4.50596216e+01-1.11515533e-20j,  2.25298108e+01+3.90227770e+01j,\n",
       "         2.25298108e+01-3.90227770e+01j,  1.17701352e-14-2.99612750e-19j]) <Unit('ampere')>)"
      ]
     },
     "execution_count": 9,
     "metadata": {},
     "output_type": "execute_result"
    }
   ],
   "source": [
    "line.res_currents"
   ]
  },
  {
   "cell_type": "markdown",
   "metadata": {},
   "source": [
    "For a flexible load (a `PowerLoad` with `flexible_params`), the final power values can be\n",
    "retrieved using the property `res_flexible_powers`."
   ]
  },
  {
   "cell_type": "markdown",
   "metadata": {},
   "source": [
    "### Dataframe network results\n",
    "\n",
    "The results can also be retrieved for the entire network using `res_` properties of the\n",
    "`ElectricalNetwork` instance as [pandas DataFrames](https://pandas.pydata.org/docs/).\n",
    "\n",
    "Available results for the network are:\n",
    "\n",
    "* `res_buses`: Buses potentials indexed by *(bus id, phase)*\n",
    "* `res_buses_voltages`: Buses voltages indexed by *(bus id, voltage phase)*\n",
    "* `res_branches`: Branches currents, powers, and potentials indexed by *(branch id, phase)*\n",
    "* `res_lines_losses`: Lines series, shunt, and total losses indexed by *(line id, phase)*\n",
    "* `res_loads`: Loads currents, powers, and potentials indexed by *(load id, phase)*\n",
    "* `res_loads_voltages`: Loads voltages indexed by *(load id, voltage phase)*\n",
    "* `res_loads_flexible_powers`: Loads flexible powers (only for flexible loads) indexed by\n",
    "  (load id, phase)\n",
    "* `res_sources`: Sources currents, powers, and potentials indexed by *(source id, phase)*\n",
    "* `res_grounds`: Grounds potentials indexed by *ground id*\n",
    "* `res_potential_refs`: Potential references currents indexed by *potential ref id* (always zero\n",
    "  for a successful load flow)\n",
    "\n",
    "All the results are complex numbers. You can always access the magnitude of the results using\n",
    "the `abs` function and the angle in radians using the `np.angle` function. For instance,\n",
    "`abs(network.res_loads)` gives you the magnitude of the loads' results in SI units.\n",
    "\n",
    "Below are the results of the load flow for `en`:"
   ]
  },
  {
   "cell_type": "code",
   "execution_count": 10,
   "metadata": {},
   "outputs": [
    {
     "data": {
      "text/html": [
       "<div>\n",
       "<style scoped>\n",
       "    .dataframe tbody tr th:only-of-type {\n",
       "        vertical-align: middle;\n",
       "    }\n",
       "\n",
       "    .dataframe tbody tr th {\n",
       "        vertical-align: top;\n",
       "    }\n",
       "\n",
       "    .dataframe thead th {\n",
       "        text-align: right;\n",
       "    }\n",
       "</style>\n",
       "<table border=\"1\" class=\"dataframe\">\n",
       "  <thead>\n",
       "    <tr style=\"text-align: right;\">\n",
       "      <th></th>\n",
       "      <th></th>\n",
       "      <th>potential</th>\n",
       "    </tr>\n",
       "    <tr>\n",
       "      <th>bus_id</th>\n",
       "      <th>phase</th>\n",
       "      <th></th>\n",
       "    </tr>\n",
       "  </thead>\n",
       "  <tbody>\n",
       "    <tr>\n",
       "      <th rowspan=\"4\" valign=\"top\">sb</th>\n",
       "      <th>a</th>\n",
       "      <td>2.309401e+02+1.540744e-34j</td>\n",
       "    </tr>\n",
       "    <tr>\n",
       "      <th>b</th>\n",
       "      <td>-1.154701e+02-2.000000e+02j</td>\n",
       "    </tr>\n",
       "    <tr>\n",
       "      <th>c</th>\n",
       "      <td>-1.154701e+02+2.000000e+02j</td>\n",
       "    </tr>\n",
       "    <tr>\n",
       "      <th>n</th>\n",
       "      <td>0.000000e+00+0.000000e+00j</td>\n",
       "    </tr>\n",
       "    <tr>\n",
       "      <th rowspan=\"4\" valign=\"top\">lb</th>\n",
       "      <th>a</th>\n",
       "      <td>2.219282e+02-2.230311e-21j</td>\n",
       "    </tr>\n",
       "    <tr>\n",
       "      <th>b</th>\n",
       "      <td>-1.109641e+02-1.921954e+02j</td>\n",
       "    </tr>\n",
       "    <tr>\n",
       "      <th>c</th>\n",
       "      <td>-1.109641e+02+1.921954e+02j</td>\n",
       "    </tr>\n",
       "    <tr>\n",
       "      <th>n</th>\n",
       "      <td>2.354027e-15-5.992255e-20j</td>\n",
       "    </tr>\n",
       "  </tbody>\n",
       "</table>\n",
       "</div>"
      ],
      "text/plain": [
       "                               potential\n",
       "bus_id phase                            \n",
       "sb     a      2.309401e+02+1.540744e-34j\n",
       "       b     -1.154701e+02-2.000000e+02j\n",
       "       c     -1.154701e+02+2.000000e+02j\n",
       "       n      0.000000e+00+0.000000e+00j\n",
       "lb     a      2.219282e+02-2.230311e-21j\n",
       "       b     -1.109641e+02-1.921954e+02j\n",
       "       c     -1.109641e+02+1.921954e+02j\n",
       "       n      2.354027e-15-5.992255e-20j"
      ]
     },
     "execution_count": 10,
     "metadata": {},
     "output_type": "execute_result"
    }
   ],
   "source": [
    "en.res_buses"
   ]
  },
  {
   "cell_type": "code",
   "execution_count": 11,
   "metadata": {},
   "outputs": [
    {
     "data": {
      "text/html": [
       "<div>\n",
       "<style scoped>\n",
       "    .dataframe tbody tr th:only-of-type {\n",
       "        vertical-align: middle;\n",
       "    }\n",
       "\n",
       "    .dataframe tbody tr th {\n",
       "        vertical-align: top;\n",
       "    }\n",
       "\n",
       "    .dataframe thead th {\n",
       "        text-align: right;\n",
       "    }\n",
       "</style>\n",
       "<table border=\"1\" class=\"dataframe\">\n",
       "  <thead>\n",
       "    <tr style=\"text-align: right;\">\n",
       "      <th></th>\n",
       "      <th></th>\n",
       "      <th>voltage</th>\n",
       "    </tr>\n",
       "    <tr>\n",
       "      <th>bus_id</th>\n",
       "      <th>phase</th>\n",
       "      <th></th>\n",
       "    </tr>\n",
       "  </thead>\n",
       "  <tbody>\n",
       "    <tr>\n",
       "      <th rowspan=\"3\" valign=\"top\">sb</th>\n",
       "      <th>an</th>\n",
       "      <td>230.9401008+0.0000000j</td>\n",
       "    </tr>\n",
       "    <tr>\n",
       "      <th>bn</th>\n",
       "      <td>-115.470054-200.000000j</td>\n",
       "    </tr>\n",
       "    <tr>\n",
       "      <th>cn</th>\n",
       "      <td>-115.470054+200.000000j</td>\n",
       "    </tr>\n",
       "    <tr>\n",
       "      <th rowspan=\"3\" valign=\"top\">lb</th>\n",
       "      <th>an</th>\n",
       "      <td>221.9281803+0.0000000j</td>\n",
       "    </tr>\n",
       "    <tr>\n",
       "      <th>bn</th>\n",
       "      <td>-110.964092-192.195445j</td>\n",
       "    </tr>\n",
       "    <tr>\n",
       "      <th>cn</th>\n",
       "      <td>-110.964092+192.195445j</td>\n",
       "    </tr>\n",
       "  </tbody>\n",
       "</table>\n",
       "</div>"
      ],
      "text/plain": [
       "                             voltage\n",
       "bus_id phase                        \n",
       "sb     an     230.9401008+0.0000000j\n",
       "       bn    -115.470054-200.000000j\n",
       "       cn    -115.470054+200.000000j\n",
       "lb     an     221.9281803+0.0000000j\n",
       "       bn    -110.964092-192.195445j\n",
       "       cn    -110.964092+192.195445j"
      ]
     },
     "execution_count": 11,
     "metadata": {},
     "output_type": "execute_result"
    }
   ],
   "source": [
    "en.res_buses_voltages"
   ]
  },
  {
   "cell_type": "code",
   "execution_count": 12,
   "metadata": {},
   "outputs": [
    {
     "data": {
      "text/html": [
       "<div>\n",
       "<style scoped>\n",
       "    .dataframe tbody tr th:only-of-type {\n",
       "        vertical-align: middle;\n",
       "    }\n",
       "\n",
       "    .dataframe tbody tr th {\n",
       "        vertical-align: top;\n",
       "    }\n",
       "\n",
       "    .dataframe thead th {\n",
       "        text-align: right;\n",
       "    }\n",
       "</style>\n",
       "<table border=\"1\" class=\"dataframe\">\n",
       "  <thead>\n",
       "    <tr style=\"text-align: right;\">\n",
       "      <th></th>\n",
       "      <th></th>\n",
       "      <th>current1</th>\n",
       "      <th>current2</th>\n",
       "      <th>power1</th>\n",
       "      <th>power2</th>\n",
       "      <th>potential1</th>\n",
       "      <th>potential2</th>\n",
       "    </tr>\n",
       "    <tr>\n",
       "      <th>branch_id</th>\n",
       "      <th>phase</th>\n",
       "      <th></th>\n",
       "      <th></th>\n",
       "      <th></th>\n",
       "      <th></th>\n",
       "      <th></th>\n",
       "      <th></th>\n",
       "    </tr>\n",
       "  </thead>\n",
       "  <tbody>\n",
       "    <tr>\n",
       "      <th rowspan=\"4\" valign=\"top\">line</th>\n",
       "      <th>a</th>\n",
       "      <td>4.505962e+01+1.115155e-20j</td>\n",
       "      <td>-4.505962e+01-1.115155e-20j</td>\n",
       "      <td>10406.073858-0.000000j</td>\n",
       "      <td>-1.000000e+04+2.575341e-18j</td>\n",
       "      <td>230.9401008+0.0000000j</td>\n",
       "      <td>2.219282e+02-2.230311e-21j</td>\n",
       "    </tr>\n",
       "    <tr>\n",
       "      <th>b</th>\n",
       "      <td>-2.252981e+01-3.902278e+01j</td>\n",
       "      <td>2.252981e+01+3.902278e+01j</td>\n",
       "      <td>10406.073858+0.000000j</td>\n",
       "      <td>-1.000000e+04-4.547474e-12j</td>\n",
       "      <td>-115.470054-200.000000j</td>\n",
       "      <td>-1.109641e+02-1.921954e+02j</td>\n",
       "    </tr>\n",
       "    <tr>\n",
       "      <th>c</th>\n",
       "      <td>-2.252981e+01+3.902278e+01j</td>\n",
       "      <td>2.252981e+01-3.902278e+01j</td>\n",
       "      <td>10406.073858-0.000000j</td>\n",
       "      <td>-1.000000e+04+4.547474e-12j</td>\n",
       "      <td>-115.470054+200.000000j</td>\n",
       "      <td>-1.109641e+02+1.921954e+02j</td>\n",
       "    </tr>\n",
       "    <tr>\n",
       "      <th>n</th>\n",
       "      <td>-1.177014e-14+2.996127e-19j</td>\n",
       "      <td>1.177014e-14-2.996127e-19j</td>\n",
       "      <td>0.00000000+0.00000000j</td>\n",
       "      <td>2.770722e-29+8.552847e-50j</td>\n",
       "      <td>0.00000000+0.00000000j</td>\n",
       "      <td>2.354027e-15-5.992255e-20j</td>\n",
       "    </tr>\n",
       "  </tbody>\n",
       "</table>\n",
       "</div>"
      ],
      "text/plain": [
       "                                   current1                    current2  \\\n",
       "branch_id phase                                                           \n",
       "line      a      4.505962e+01+1.115155e-20j -4.505962e+01-1.115155e-20j   \n",
       "          b     -2.252981e+01-3.902278e+01j  2.252981e+01+3.902278e+01j   \n",
       "          c     -2.252981e+01+3.902278e+01j  2.252981e+01-3.902278e+01j   \n",
       "          n     -1.177014e-14+2.996127e-19j  1.177014e-14-2.996127e-19j   \n",
       "\n",
       "                                 power1                      power2  \\\n",
       "branch_id phase                                                       \n",
       "line      a      10406.073858-0.000000j -1.000000e+04+2.575341e-18j   \n",
       "          b      10406.073858+0.000000j -1.000000e+04-4.547474e-12j   \n",
       "          c      10406.073858-0.000000j -1.000000e+04+4.547474e-12j   \n",
       "          n      0.00000000+0.00000000j  2.770722e-29+8.552847e-50j   \n",
       "\n",
       "                             potential1                  potential2  \n",
       "branch_id phase                                                      \n",
       "line      a      230.9401008+0.0000000j  2.219282e+02-2.230311e-21j  \n",
       "          b     -115.470054-200.000000j -1.109641e+02-1.921954e+02j  \n",
       "          c     -115.470054+200.000000j -1.109641e+02+1.921954e+02j  \n",
       "          n      0.00000000+0.00000000j  2.354027e-15-5.992255e-20j  "
      ]
     },
     "execution_count": 12,
     "metadata": {},
     "output_type": "execute_result"
    }
   ],
   "source": [
    "en.res_branches"
   ]
  },
  {
   "cell_type": "code",
   "execution_count": 13,
   "metadata": {},
   "outputs": [
    {
     "data": {
      "text/html": [
       "<div>\n",
       "<style scoped>\n",
       "    .dataframe tbody tr th:only-of-type {\n",
       "        vertical-align: middle;\n",
       "    }\n",
       "\n",
       "    .dataframe tbody tr th {\n",
       "        vertical-align: top;\n",
       "    }\n",
       "\n",
       "    .dataframe thead th {\n",
       "        text-align: right;\n",
       "    }\n",
       "</style>\n",
       "<table border=\"1\" class=\"dataframe\">\n",
       "  <thead>\n",
       "    <tr style=\"text-align: right;\">\n",
       "      <th></th>\n",
       "      <th></th>\n",
       "      <th>series_losses</th>\n",
       "      <th>shunt_losses</th>\n",
       "      <th>total_losses</th>\n",
       "    </tr>\n",
       "    <tr>\n",
       "      <th>line_id</th>\n",
       "      <th>phase</th>\n",
       "      <th></th>\n",
       "      <th></th>\n",
       "      <th></th>\n",
       "    </tr>\n",
       "  </thead>\n",
       "  <tbody>\n",
       "    <tr>\n",
       "      <th rowspan=\"4\" valign=\"top\">line</th>\n",
       "      <th>a</th>\n",
       "      <td>4.060739e+02+0.000000e+00j</td>\n",
       "      <td>0.0+0.0j</td>\n",
       "      <td>4.060739e+02+0.000000e+00j</td>\n",
       "    </tr>\n",
       "    <tr>\n",
       "      <th>b</th>\n",
       "      <td>4.060739e+02+0.000000e+00j</td>\n",
       "      <td>0.0+0.0j</td>\n",
       "      <td>4.060739e+02+0.000000e+00j</td>\n",
       "    </tr>\n",
       "    <tr>\n",
       "      <th>c</th>\n",
       "      <td>4.060739e+02+0.000000e+00j</td>\n",
       "      <td>0.0+0.0j</td>\n",
       "      <td>4.060739e+02+0.000000e+00j</td>\n",
       "    </tr>\n",
       "    <tr>\n",
       "      <th>n</th>\n",
       "      <td>2.770722e-29+8.552847e-50j</td>\n",
       "      <td>0.0+0.0j</td>\n",
       "      <td>2.770722e-29+8.552847e-50j</td>\n",
       "    </tr>\n",
       "  </tbody>\n",
       "</table>\n",
       "</div>"
      ],
      "text/plain": [
       "                            series_losses  shunt_losses  \\\n",
       "line_id phase                                             \n",
       "line    a      4.060739e+02+0.000000e+00j      0.0+0.0j   \n",
       "        b      4.060739e+02+0.000000e+00j      0.0+0.0j   \n",
       "        c      4.060739e+02+0.000000e+00j      0.0+0.0j   \n",
       "        n      2.770722e-29+8.552847e-50j      0.0+0.0j   \n",
       "\n",
       "                             total_losses  \n",
       "line_id phase                              \n",
       "line    a      4.060739e+02+0.000000e+00j  \n",
       "        b      4.060739e+02+0.000000e+00j  \n",
       "        c      4.060739e+02+0.000000e+00j  \n",
       "        n      2.770722e-29+8.552847e-50j  "
      ]
     },
     "execution_count": 13,
     "metadata": {},
     "output_type": "execute_result"
    }
   ],
   "source": [
    "en.res_lines_losses"
   ]
  },
  {
   "cell_type": "code",
   "execution_count": 14,
   "metadata": {},
   "outputs": [
    {
     "data": {
      "text/html": [
       "<div>\n",
       "<style scoped>\n",
       "    .dataframe tbody tr th:only-of-type {\n",
       "        vertical-align: middle;\n",
       "    }\n",
       "\n",
       "    .dataframe tbody tr th {\n",
       "        vertical-align: top;\n",
       "    }\n",
       "\n",
       "    .dataframe thead th {\n",
       "        text-align: right;\n",
       "    }\n",
       "</style>\n",
       "<table border=\"1\" class=\"dataframe\">\n",
       "  <thead>\n",
       "    <tr style=\"text-align: right;\">\n",
       "      <th></th>\n",
       "      <th></th>\n",
       "      <th>current</th>\n",
       "      <th>power</th>\n",
       "      <th>potential</th>\n",
       "    </tr>\n",
       "    <tr>\n",
       "      <th>load_id</th>\n",
       "      <th>phase</th>\n",
       "      <th></th>\n",
       "      <th></th>\n",
       "      <th></th>\n",
       "    </tr>\n",
       "  </thead>\n",
       "  <tbody>\n",
       "    <tr>\n",
       "      <th rowspan=\"4\" valign=\"top\">load</th>\n",
       "      <th>a</th>\n",
       "      <td>4.505962e+01+1.171366e-20j</td>\n",
       "      <td>1.000000e+04-2.700087e-18j</td>\n",
       "      <td>2.219282e+02-2.230311e-21j</td>\n",
       "    </tr>\n",
       "    <tr>\n",
       "      <th>b</th>\n",
       "      <td>-2.252981e+01-3.902278e+01j</td>\n",
       "      <td>1.000000e+04-9.094947e-13j</td>\n",
       "      <td>-1.109641e+02-1.921954e+02j</td>\n",
       "    </tr>\n",
       "    <tr>\n",
       "      <th>c</th>\n",
       "      <td>-2.252981e+01+3.902278e+01j</td>\n",
       "      <td>1.000000e+04+9.094947e-13j</td>\n",
       "      <td>-1.109641e+02+1.921954e+02j</td>\n",
       "    </tr>\n",
       "    <tr>\n",
       "      <th>n</th>\n",
       "      <td>-2.131628e-14+0.000000e+00j</td>\n",
       "      <td>-5.017910e-29+1.277326e-33j</td>\n",
       "      <td>2.354027e-15-5.992255e-20j</td>\n",
       "    </tr>\n",
       "  </tbody>\n",
       "</table>\n",
       "</div>"
      ],
      "text/plain": [
       "                                  current                       power  \\\n",
       "load_id phase                                                           \n",
       "load    a      4.505962e+01+1.171366e-20j  1.000000e+04-2.700087e-18j   \n",
       "        b     -2.252981e+01-3.902278e+01j  1.000000e+04-9.094947e-13j   \n",
       "        c     -2.252981e+01+3.902278e+01j  1.000000e+04+9.094947e-13j   \n",
       "        n     -2.131628e-14+0.000000e+00j -5.017910e-29+1.277326e-33j   \n",
       "\n",
       "                                potential  \n",
       "load_id phase                              \n",
       "load    a      2.219282e+02-2.230311e-21j  \n",
       "        b     -1.109641e+02-1.921954e+02j  \n",
       "        c     -1.109641e+02+1.921954e+02j  \n",
       "        n      2.354027e-15-5.992255e-20j  "
      ]
     },
     "execution_count": 14,
     "metadata": {},
     "output_type": "execute_result"
    }
   ],
   "source": [
    "en.res_loads"
   ]
  },
  {
   "cell_type": "code",
   "execution_count": 15,
   "metadata": {},
   "outputs": [
    {
     "data": {
      "text/html": [
       "<div>\n",
       "<style scoped>\n",
       "    .dataframe tbody tr th:only-of-type {\n",
       "        vertical-align: middle;\n",
       "    }\n",
       "\n",
       "    .dataframe tbody tr th {\n",
       "        vertical-align: top;\n",
       "    }\n",
       "\n",
       "    .dataframe thead th {\n",
       "        text-align: right;\n",
       "    }\n",
       "</style>\n",
       "<table border=\"1\" class=\"dataframe\">\n",
       "  <thead>\n",
       "    <tr style=\"text-align: right;\">\n",
       "      <th></th>\n",
       "      <th></th>\n",
       "      <th>voltage</th>\n",
       "    </tr>\n",
       "    <tr>\n",
       "      <th>load_id</th>\n",
       "      <th>phase</th>\n",
       "      <th></th>\n",
       "    </tr>\n",
       "  </thead>\n",
       "  <tbody>\n",
       "    <tr>\n",
       "      <th rowspan=\"3\" valign=\"top\">load</th>\n",
       "      <th>an</th>\n",
       "      <td>221.9281803+0.0000000j</td>\n",
       "    </tr>\n",
       "    <tr>\n",
       "      <th>bn</th>\n",
       "      <td>-110.964092-192.195445j</td>\n",
       "    </tr>\n",
       "    <tr>\n",
       "      <th>cn</th>\n",
       "      <td>-110.964092+192.195445j</td>\n",
       "    </tr>\n",
       "  </tbody>\n",
       "</table>\n",
       "</div>"
      ],
      "text/plain": [
       "                              voltage\n",
       "load_id phase                        \n",
       "load    an     221.9281803+0.0000000j\n",
       "        bn    -110.964092-192.195445j\n",
       "        cn    -110.964092+192.195445j"
      ]
     },
     "execution_count": 15,
     "metadata": {},
     "output_type": "execute_result"
    }
   ],
   "source": [
    "en.res_loads_voltages"
   ]
  },
  {
   "cell_type": "code",
   "execution_count": 16,
   "metadata": {},
   "outputs": [
    {
     "data": {
      "text/html": [
       "<div>\n",
       "<style scoped>\n",
       "    .dataframe tbody tr th:only-of-type {\n",
       "        vertical-align: middle;\n",
       "    }\n",
       "\n",
       "    .dataframe tbody tr th {\n",
       "        vertical-align: top;\n",
       "    }\n",
       "\n",
       "    .dataframe thead th {\n",
       "        text-align: right;\n",
       "    }\n",
       "</style>\n",
       "<table border=\"1\" class=\"dataframe\">\n",
       "  <thead>\n",
       "    <tr style=\"text-align: right;\">\n",
       "      <th></th>\n",
       "      <th></th>\n",
       "      <th>current</th>\n",
       "      <th>power</th>\n",
       "      <th>potential</th>\n",
       "    </tr>\n",
       "    <tr>\n",
       "      <th>source_id</th>\n",
       "      <th>phase</th>\n",
       "      <th></th>\n",
       "      <th></th>\n",
       "      <th></th>\n",
       "    </tr>\n",
       "  </thead>\n",
       "  <tbody>\n",
       "    <tr>\n",
       "      <th rowspan=\"4\" valign=\"top\">vs</th>\n",
       "      <th>a</th>\n",
       "      <td>-4.505962e+01+0.000000e+00j</td>\n",
       "      <td>-10406.073858-0.000000j</td>\n",
       "      <td>230.9401008+0.0000000j</td>\n",
       "    </tr>\n",
       "    <tr>\n",
       "      <th>b</th>\n",
       "      <td>2.252981e+01+3.902278e+01j</td>\n",
       "      <td>-10406.073858+0.000000j</td>\n",
       "      <td>-115.470054-200.000000j</td>\n",
       "    </tr>\n",
       "    <tr>\n",
       "      <th>c</th>\n",
       "      <td>2.252981e+01-3.902278e+01j</td>\n",
       "      <td>-10406.073858+0.000000j</td>\n",
       "      <td>-115.470054+200.000000j</td>\n",
       "    </tr>\n",
       "    <tr>\n",
       "      <th>n</th>\n",
       "      <td>1.177357e-14-7.296930e-18j</td>\n",
       "      <td>0.00000000+0.00000000j</td>\n",
       "      <td>0.00000000+0.00000000j</td>\n",
       "    </tr>\n",
       "  </tbody>\n",
       "</table>\n",
       "</div>"
      ],
      "text/plain": [
       "                                    current                   power  \\\n",
       "source_id phase                                                       \n",
       "vs        a     -4.505962e+01+0.000000e+00j -10406.073858-0.000000j   \n",
       "          b      2.252981e+01+3.902278e+01j -10406.073858+0.000000j   \n",
       "          c      2.252981e+01-3.902278e+01j -10406.073858+0.000000j   \n",
       "          n      1.177357e-14-7.296930e-18j  0.00000000+0.00000000j   \n",
       "\n",
       "                              potential  \n",
       "source_id phase                          \n",
       "vs        a      230.9401008+0.0000000j  \n",
       "          b     -115.470054-200.000000j  \n",
       "          c     -115.470054+200.000000j  \n",
       "          n      0.00000000+0.00000000j  "
      ]
     },
     "execution_count": 16,
     "metadata": {},
     "output_type": "execute_result"
    }
   ],
   "source": [
    "en.res_sources"
   ]
  },
  {
   "cell_type": "code",
   "execution_count": 17,
   "metadata": {},
   "outputs": [
    {
     "data": {
      "text/html": [
       "<div>\n",
       "<style scoped>\n",
       "    .dataframe tbody tr th:only-of-type {\n",
       "        vertical-align: middle;\n",
       "    }\n",
       "\n",
       "    .dataframe tbody tr th {\n",
       "        vertical-align: top;\n",
       "    }\n",
       "\n",
       "    .dataframe thead th {\n",
       "        text-align: right;\n",
       "    }\n",
       "</style>\n",
       "<table border=\"1\" class=\"dataframe\">\n",
       "  <thead>\n",
       "    <tr style=\"text-align: right;\">\n",
       "      <th></th>\n",
       "      <th>potential</th>\n",
       "    </tr>\n",
       "    <tr>\n",
       "      <th>ground_id</th>\n",
       "      <th></th>\n",
       "    </tr>\n",
       "  </thead>\n",
       "  <tbody>\n",
       "    <tr>\n",
       "      <th>gnd</th>\n",
       "      <td>0.0+0.0j</td>\n",
       "    </tr>\n",
       "  </tbody>\n",
       "</table>\n",
       "</div>"
      ],
      "text/plain": [
       "           potential\n",
       "ground_id           \n",
       "gnd         0.0+0.0j"
      ]
     },
     "execution_count": 17,
     "metadata": {},
     "output_type": "execute_result"
    }
   ],
   "source": [
    "en.res_grounds"
   ]
  },
  {
   "cell_type": "code",
   "execution_count": 18,
   "metadata": {},
   "outputs": [
    {
     "data": {
      "text/html": [
       "<div>\n",
       "<style scoped>\n",
       "    .dataframe tbody tr th:only-of-type {\n",
       "        vertical-align: middle;\n",
       "    }\n",
       "\n",
       "    .dataframe tbody tr th {\n",
       "        vertical-align: top;\n",
       "    }\n",
       "\n",
       "    .dataframe thead th {\n",
       "        text-align: right;\n",
       "    }\n",
       "</style>\n",
       "<table border=\"1\" class=\"dataframe\">\n",
       "  <thead>\n",
       "    <tr style=\"text-align: right;\">\n",
       "      <th></th>\n",
       "      <th>current</th>\n",
       "    </tr>\n",
       "    <tr>\n",
       "      <th>potential_ref_id</th>\n",
       "      <th></th>\n",
       "    </tr>\n",
       "  </thead>\n",
       "  <tbody>\n",
       "    <tr>\n",
       "      <th>pref</th>\n",
       "      <td>3.433019e-18-6.997318e-18j</td>\n",
       "    </tr>\n",
       "  </tbody>\n",
       "</table>\n",
       "</div>"
      ],
      "text/plain": [
       "                                     current\n",
       "potential_ref_id                            \n",
       "pref              3.433019e-18-6.997318e-18j"
      ]
     },
     "execution_count": 18,
     "metadata": {},
     "output_type": "execute_result"
    }
   ],
   "source": [
    "en.res_potential_refs"
   ]
  },
  {
   "cell_type": "markdown",
   "metadata": {},
   "source": [
    "Using the `transform` method of data frames, the results can easily be converted."
   ]
  },
  {
   "cell_type": "code",
   "execution_count": 19,
   "metadata": {},
   "outputs": [
    {
     "data": {
      "text/html": [
       "<div>\n",
       "<style scoped>\n",
       "    .dataframe tbody tr th:only-of-type {\n",
       "        vertical-align: middle;\n",
       "    }\n",
       "\n",
       "    .dataframe tbody tr th {\n",
       "        vertical-align: top;\n",
       "    }\n",
       "\n",
       "    .dataframe thead tr th {\n",
       "        text-align: left;\n",
       "    }\n",
       "\n",
       "    .dataframe thead tr:last-of-type th {\n",
       "        text-align: right;\n",
       "    }\n",
       "</style>\n",
       "<table border=\"1\" class=\"dataframe\">\n",
       "  <thead>\n",
       "    <tr>\n",
       "      <th></th>\n",
       "      <th></th>\n",
       "      <th colspan=\"2\" halign=\"left\">voltage</th>\n",
       "    </tr>\n",
       "    <tr>\n",
       "      <th></th>\n",
       "      <th></th>\n",
       "      <th>absolute</th>\n",
       "      <th>angle</th>\n",
       "    </tr>\n",
       "    <tr>\n",
       "      <th>bus_id</th>\n",
       "      <th>phase</th>\n",
       "      <th></th>\n",
       "      <th></th>\n",
       "    </tr>\n",
       "  </thead>\n",
       "  <tbody>\n",
       "    <tr>\n",
       "      <th rowspan=\"3\" valign=\"top\">sb</th>\n",
       "      <th>an</th>\n",
       "      <td>230.940108</td>\n",
       "      <td>6.671617e-37</td>\n",
       "    </tr>\n",
       "    <tr>\n",
       "      <th>bn</th>\n",
       "      <td>230.940108</td>\n",
       "      <td>-2.094395e+00</td>\n",
       "    </tr>\n",
       "    <tr>\n",
       "      <th>cn</th>\n",
       "      <td>230.940108</td>\n",
       "      <td>2.094395e+00</td>\n",
       "    </tr>\n",
       "    <tr>\n",
       "      <th rowspan=\"3\" valign=\"top\">lb</th>\n",
       "      <th>an</th>\n",
       "      <td>221.928183</td>\n",
       "      <td>2.599590e-22</td>\n",
       "    </tr>\n",
       "    <tr>\n",
       "      <th>bn</th>\n",
       "      <td>221.928183</td>\n",
       "      <td>-2.094395e+00</td>\n",
       "    </tr>\n",
       "    <tr>\n",
       "      <th>cn</th>\n",
       "      <td>221.928183</td>\n",
       "      <td>2.094395e+00</td>\n",
       "    </tr>\n",
       "  </tbody>\n",
       "</table>\n",
       "</div>"
      ],
      "text/plain": [
       "                 voltage              \n",
       "                absolute         angle\n",
       "bus_id phase                          \n",
       "sb     an     230.940108  6.671617e-37\n",
       "       bn     230.940108 -2.094395e+00\n",
       "       cn     230.940108  2.094395e+00\n",
       "lb     an     221.928183  2.599590e-22\n",
       "       bn     221.928183 -2.094395e+00\n",
       "       cn     221.928183  2.094395e+00"
      ]
     },
     "execution_count": 19,
     "metadata": {},
     "output_type": "execute_result"
    }
   ],
   "source": [
    "en.res_buses_voltages.transform([np.abs, np.angle])"
   ]
  },
  {
   "cell_type": "markdown",
   "metadata": {},
   "source": [
    "## Updating elements of the network\n",
    "\n",
    "Network elements can then be updated. Here, the load constant power values are changed. We\n",
    "create an unbalanced situation."
   ]
  },
  {
   "cell_type": "code",
   "execution_count": 20,
   "metadata": {},
   "outputs": [
    {
     "data": {
      "text/html": [
       "<table><tbody><tr><th>Magnitude</th><td style='text-align:left;'><pre>[ 216.02252269  +0.j -115.47005384-200.j -115.47005384+200.j<br>   14.91758499  +0.j]</pre></td></tr><tr><th>Units</th><td style='text-align:left;'>volt</td></tr></tbody></table>"
      ],
      "text/latex": [
       "$\\begin{pmatrix}(216.0225226858033+0j) & (-115.47005383792511-200.00000000000003j) & (-115.47005383792511+200.00000000000003j) & (14.917584990047025+0j)\\end{pmatrix}\\ \\mathrm{volt}$"
      ],
      "text/plain": [
       "array([ 216.02252269  +0.j, -115.47005384-200.j, -115.47005384+200.j,\n",
       "         14.91758499  +0.j]) <Unit('volt')>"
      ]
     },
     "execution_count": 20,
     "metadata": {},
     "output_type": "execute_result"
    }
   ],
   "source": [
    "# Change the load to an unbalanced one then rerun the load flow\n",
    "load.powers = Q_([15, 0, 0], \"kVA\")\n",
    "en.solve_load_flow(auth=auth)\n",
    "load_bus.res_potentials"
   ]
  },
  {
   "cell_type": "markdown",
   "metadata": {},
   "source": [
    "One can notice that the neutral's potential of the bus is no longer close to 0 V.\n",
    "\n",
    "## Saving the network to a file\n",
    "\n",
    "The network can be saved to a JSON file using the `en.to_json` method. Note that this method\n",
    "does not save the results of the load flow. It only saves the network elements.\n",
    "\n",
    "To save the results of the load flow, use the `en.results_to_json` method.\n",
    "\n",
    "```python\n",
    "en.to_json(\"my_network.json\")\n",
    "en.results_to_json(\"my_network_results.json\")\n",
    "```\n",
    "\n",
    "<div class=\"alert alert-danger\">\n",
    "\n",
    "**Warning:**\n",
    "\n",
    "The `to_json` and `results_to_json` methods will overwrite the file if it already exists.\n",
    "</div>\n",
    "\n",
    "## Loading a network from a file\n",
    "\n",
    "A saved network can be loaded using the `ElectricalNetwork.from_json` method. The results of\n",
    "the load flow can then be loaded using the `ElectricalNetwork.results_from_json` method.\n",
    "\n",
    "```python\n",
    "en = ElectricalNetwork.from_json(\"my_network.json\")\n",
    "en.results_from_json(\"my_network_results.json\")\n",
    "```"
   ]
  }
 ],
 "metadata": {
  "kernelspec": {
   "display_name": "Python 3 (ipykernel)",
   "language": "python",
   "name": "python3"
  },
  "language_info": {
   "codemirror_mode": {
    "name": "ipython",
    "version": 3
   },
   "file_extension": ".py",
   "mimetype": "text/x-python",
   "name": "python",
   "nbconvert_exporter": "python",
   "pygments_lexer": "ipython3",
   "version": "3.10.5"
  },
  "vscode": {
   "interpreter": {
    "hash": "99cbd331128cf218793744ba240286bb402c67078e32af81afdf76a86262575b"
   }
  }
 },
 "nbformat": 4,
 "nbformat_minor": 1
}
