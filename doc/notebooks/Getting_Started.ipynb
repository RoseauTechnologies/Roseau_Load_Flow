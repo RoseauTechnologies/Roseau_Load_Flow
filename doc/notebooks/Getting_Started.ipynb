{
 "cells": [
  {
   "cell_type": "markdown",
   "source": [
    "# Getting started"
   ],
   "metadata": {
    "collapsed": false
   }
  },
  {
   "cell_type": "code",
   "execution_count": 1,
   "outputs": [],
   "source": [
    "import numpy as np\n",
    "from roseau.load_flow import *"
   ],
   "metadata": {
    "collapsed": false
   }
  },
  {
   "cell_type": "markdown",
   "source": [
    "## Creating a network\n",
    "\n",
    "An electrical network can be built by assembling basic elements provided in `roseau.load_flow.models`. This module\n",
    "contains the following elements:\n",
    "\n",
    "* Buses:\n",
    "  * `Bus`: a class for bus\n",
    "  * `VoltageSource`: a class to depict a voltage source\n",
    "* Lines/Switches:\n",
    "  * `LineCharacteristics`: an object to contain the characteristics of a line\n",
    "  * `ShuntLine`: a line with a shunt admittance\n",
    "  * `SimplifiedLine`: a line with only a line impedance\n",
    "  * `Switch`: a basic switch element\n",
    "* Transformers:\n",
    "  * `TransformerCharacteristics`: an object to contain the characteristics of a transformer\n",
    "  * `DeltaDeltaTransformer`: Delta-delta transformer\n",
    "  * `DeltaWyeTransformer`: Delta-wye transformer\n",
    "  * `DeltaZigzagTransformer`: Delta-zigzag transformer\n",
    "  * `WyeDeltaTransformer`: Wye-delta transformer\n",
    "  * `WyeWyeTransformer`: Wye-wye transformer\n",
    "  * `WyeZigzagTransformer`: Wye-zigzag transformer\n",
    "* Loads:\n",
    "  * `AdmittanceLoad` a constant impedance star load\n",
    "  * `ImpedanceLoad`: a constant impedance star load\n",
    "  * `PowerLoad`: a constant power star load\n",
    "  * `DeltaAdmittanceLoad`, `DeltaImpedanceLoad`, `DeltaPowerLoad`: the same with delta loads\n",
    "  * `FlexibleLoad`: a flexible load\n",
    "  * `FlexibleParameter`: an object containing the parameters of a flexible load.\n",
    "* Others:\n",
    "  * `Ground`: a ground element\n",
    "  * `PotentialRef`: a potential reference element.\n",
    "\n",
    "Let's use some of these elements to build a network with a voltage source, a simplified line and a constant power load.\n",
    " This network is a low voltage network (three-phase +  neutral wire)."
   ],
   "metadata": {
    "collapsed": false
   }
  },
  {
   "cell_type": "code",
   "execution_count": 2,
   "outputs": [],
   "source": [
    "ground = Ground()\n",
    "pref = PotentialRef(ground)  # Set the ground to 0\n",
    "\n",
    "# Create a voltage source\n",
    "un = 400 / np.sqrt(3)  # V\n",
    "source_voltages = [un, un * np.exp(-2j * np.pi / 3), un * np.exp(2j * np.pi / 3)]\n",
    "vs = VoltageSource(id=\"vs\", n=4, ground=ground, source_voltages=source_voltages)\n",
    "\n",
    "# Add a new LV bus and a load\n",
    "load_bus = Bus(id=\"bus\", n=4)\n",
    "load = PowerLoad(id=\"load\", n=4, bus=load_bus, s=[10e3, 10e3, 10e3])  # W\n",
    "\n",
    "# Add a LV line between the voltage source and the bus\n",
    "lc = LineCharacteristics(\"z\", z_line=0.1 * np.eye(4, dtype=complex))\n",
    "line = SimplifiedLine(id=\"line\", n=4, bus1=vs, bus2=load_bus, line_characteristics=lc, length=2.0)"
   ],
   "metadata": {
    "collapsed": false
   }
  },
  {
   "cell_type": "markdown",
   "source": [
    "At this point, all the basic elements of the network have been defined and connected. Note that a ground element is\n",
    "required for the voltage source as it is a star configuration (`n=4` meaning 4 ports: 3 phases + neutral). The\n",
    "`PotentialRef` element also defines the potential reference for this network which is mandatory.\n",
    "\n",
    "Now, everything can be encapsulated in an `ElectricalNetwork` object using the `from_element` constructor. The voltage\n",
    " source `vs` is given to this constructor. Every element connected to this voltage source is automatically included\n",
    " into the network."
   ],
   "metadata": {
    "collapsed": false
   }
  },
  {
   "cell_type": "code",
   "execution_count": 3,
   "outputs": [],
   "source": [
    "# Create the electrical network\n",
    "en = ElectricalNetwork.from_element(vs)"
   ],
   "metadata": {
    "collapsed": false
   }
  },
  {
   "cell_type": "markdown",
   "source": [
    "## Solving a load flow\n",
    "\n",
    "An authentification is required. Please contact us at [contact@roseautechnologies.com](mailto:contact@roseautechnologies.com) to get identification."
   ],
   "metadata": {
    "collapsed": false
   }
  },
  {
   "cell_type": "code",
   "execution_count": 4,
   "outputs": [],
   "source": [
    "# Authentication\n",
    "auth = (\"username\", \"password\")"
   ],
   "metadata": {
    "collapsed": false
   }
  },
  {
   "cell_type": "markdown",
   "source": [
    "Then, the load flow can be solved by requesting our server."
   ],
   "metadata": {
    "collapsed": false
   }
  },
  {
   "cell_type": "code",
   "execution_count": 5,
   "outputs": [
    {
     "data": {
      "text/plain": "2"
     },
     "execution_count": 5,
     "metadata": {},
     "output_type": "execute_result"
    }
   ],
   "source": [
    "# Solve the load flow\n",
    "en.solve_load_flow(auth=auth)"
   ],
   "metadata": {
    "collapsed": false
   }
  },
  {
   "cell_type": "markdown",
   "source": [
    "It retrieves the number of iterations performed by the Newton-Raphson algorithm to get the results. Here, 2.\n",
    "\n",
    "\n",
    "## Getting the results\n",
    "\n",
    "The results are now available in every basic object of the network. For instance, the potentials of the `load_bus` are\n",
    " available using the property `potentials` of the object. It retrieves 4 values which are the potentials for phases\n",
    " `a`, `b`, `c` and `n` (neutral).\n",
    "\n",
    "This object also include a unit, Volt. This library uses the Python [Pint](https://pint.readthedocs.io/en/stable/)\n",
    "third-party library to manipulate units. The unit registry `ureg` and the quantity class `_Q` used in this library\n",
    "are located in the module `roseau.load_flow.utils` module. They can be used to pass quantities to functions. By\n",
    "instance, it would have been possible to define the `load` variable using this call:\n",
    "\n",
    "```python\n",
    "from roseau.load_flow.utils import Q_\n",
    "\n",
    "load = PowerLoad(id=\"load\", n=4, bus=load_bus, s=Q_([10, 10, 10], \"kVA\"))\n",
    "```\n",
    "\n",
    "By default, a float is assumed to be in VA.\n",
    "\n",
    "### Getting results per object\n",
    "\n",
    "In order to get the potentials of a bus, just call the `potentials` property of buses like that:"
   ],
   "metadata": {
    "collapsed": false
   }
  },
  {
   "cell_type": "code",
   "execution_count": 6,
   "outputs": [
    {
     "data": {
      "text/plain": "array([ 2.21928183e+02+7.10061202e-21j, -1.10964092e+02-1.92195445e+02j,\n       -1.10964092e+02+1.92195445e+02j,  2.35458233e-15+1.84740620e-19j]) <Unit('volt')>",
      "text/html": "<table><tbody><tr><th>Magnitude</th><td style='text-align:left;'><pre>[ 2.21928183e+02+7.10061202e-21j -1.10964092e+02-1.92195445e+02j<br> -1.10964092e+02+1.92195445e+02j  2.35458233e-15+1.84740620e-19j]</pre></td></tr><tr><th>Units</th><td style='text-align:left;'>volt</td></tr></tbody></table>",
      "text/latex": "$\\begin{pmatrix}(221.928183361166+7.100612015074986\\times 10^{-21}j) & (-110.96409168058294-192.19544460650073j) & (-110.96409168058294+192.19544460650073j) & (2.3545823335280045\\times 10^{-15}+1.8474061964319753\\times 10^{-19}j)\\end{pmatrix}\\ \\mathrm{volt}$"
     },
     "execution_count": 6,
     "metadata": {},
     "output_type": "execute_result"
    }
   ],
   "source": [
    "load_bus.potentials"
   ],
   "metadata": {
    "collapsed": false
   }
  },
  {
   "cell_type": "markdown",
   "source": [
    "The currents of the line are available using the `currents` property of the `line` objects. It retrieves two arrays:\n",
    "\n",
    "* the first is the current oriented from the first bus of the line to the second bus of the line. It contains 4\n",
    "values: one per phase and the neutral current\n",
    "* the second is the current oriented from the second bus of the line to the first bus of the line.\n",
    "\n",
    "Here, the sum of these currents is 0 as we have chosen a simplified line element (only an impedance, without shunt).\n",
    "The sum would have been non-zeros with a `ShuntLine` element."
   ],
   "metadata": {
    "collapsed": false
   }
  },
  {
   "cell_type": "code",
   "execution_count": 7,
   "outputs": [
    {
     "data": {
      "text/plain": "(array([ 4.50596216e+01-3.55030601e-20j, -2.25298108e+01-3.90227770e+01j,\n        -2.25298108e+01+3.90227770e+01j, -1.17729117e-14-9.23703098e-19j]) <Unit('ampere')>,\n array([-4.50596216e+01+3.55030601e-20j,  2.25298108e+01+3.90227770e+01j,\n         2.25298108e+01-3.90227770e+01j,  1.17729117e-14+9.23703098e-19j]) <Unit('ampere')>)"
     },
     "execution_count": 7,
     "metadata": {},
     "output_type": "execute_result"
    }
   ],
   "source": [
    "line.currents"
   ],
   "metadata": {
    "collapsed": false
   }
  },
  {
   "cell_type": "markdown",
   "source": [
    "For a `FlexibleLoad`, the final power values can be retrieved using the property `powers`."
   ],
   "metadata": {
    "collapsed": false
   }
  },
  {
   "cell_type": "markdown",
   "source": [
    "### Data frame results\n",
    "\n",
    "The results can also be retrieved for the entire network using some properties of the `ElectricalNetwork` instance. The\n",
    "first results are the potentials (in Volts) of the buses in a [Pandas](https://pandas.pydata.org/docs/) `DataFrame`."
   ],
   "metadata": {
    "collapsed": false
   }
  },
  {
   "cell_type": "code",
   "execution_count": 8,
   "outputs": [
    {
     "data": {
      "text/plain": "                               potential\nbus_id phase                            \nvs     a      2.309401e+02+0.000000e+00j\n       b     -1.154701e+02-2.000000e+02j\n       c     -1.154701e+02+2.000000e+02j\n       n      0.000000e+00+0.000000e+00j\nbus    a      2.219282e+02+7.100612e-21j\n       b     -1.109641e+02-1.921954e+02j\n       c     -1.109641e+02+1.921954e+02j\n       n      2.354582e-15+1.847406e-19j",
      "text/html": "<div>\n<style scoped>\n    .dataframe tbody tr th:only-of-type {\n        vertical-align: middle;\n    }\n\n    .dataframe tbody tr th {\n        vertical-align: top;\n    }\n\n    .dataframe thead th {\n        text-align: right;\n    }\n</style>\n<table border=\"1\" class=\"dataframe\">\n  <thead>\n    <tr style=\"text-align: right;\">\n      <th></th>\n      <th></th>\n      <th>potential</th>\n    </tr>\n    <tr>\n      <th>bus_id</th>\n      <th>phase</th>\n      <th></th>\n    </tr>\n  </thead>\n  <tbody>\n    <tr>\n      <th rowspan=\"4\" valign=\"top\">vs</th>\n      <th>a</th>\n      <td>2.309401e+02+0.000000e+00j</td>\n    </tr>\n    <tr>\n      <th>b</th>\n      <td>-1.154701e+02-2.000000e+02j</td>\n    </tr>\n    <tr>\n      <th>c</th>\n      <td>-1.154701e+02+2.000000e+02j</td>\n    </tr>\n    <tr>\n      <th>n</th>\n      <td>0.000000e+00+0.000000e+00j</td>\n    </tr>\n    <tr>\n      <th rowspan=\"4\" valign=\"top\">bus</th>\n      <th>a</th>\n      <td>2.219282e+02+7.100612e-21j</td>\n    </tr>\n    <tr>\n      <th>b</th>\n      <td>-1.109641e+02-1.921954e+02j</td>\n    </tr>\n    <tr>\n      <th>c</th>\n      <td>-1.109641e+02+1.921954e+02j</td>\n    </tr>\n    <tr>\n      <th>n</th>\n      <td>2.354582e-15+1.847406e-19j</td>\n    </tr>\n  </tbody>\n</table>\n</div>"
     },
     "execution_count": 8,
     "metadata": {},
     "output_type": "execute_result"
    }
   ],
   "source": [
    "en.buses_potentials"
   ],
   "metadata": {
    "collapsed": false
   }
  },
  {
   "cell_type": "markdown",
   "source": [
    "The second element of the results are the currents of the lines in a [Pandas](https://pandas.pydata.org/docs/)\n",
    "`DataFrame`."
   ],
   "metadata": {
    "collapsed": false
   }
  },
  {
   "cell_type": "code",
   "execution_count": 9,
   "outputs": [
    {
     "data": {
      "text/plain": "                                   current1                    current2\nbranch_id phase                                                        \nline      a      4.505962e+01-3.550306e-20j -4.505962e+01+3.550306e-20j\n          b     -2.252981e+01-3.902278e+01j  2.252981e+01+3.902278e+01j\n          c     -2.252981e+01+3.902278e+01j  2.252981e+01-3.902278e+01j\n          n     -1.177291e-14-9.237031e-19j  1.177291e-14+9.237031e-19j",
      "text/html": "<div>\n<style scoped>\n    .dataframe tbody tr th:only-of-type {\n        vertical-align: middle;\n    }\n\n    .dataframe tbody tr th {\n        vertical-align: top;\n    }\n\n    .dataframe thead th {\n        text-align: right;\n    }\n</style>\n<table border=\"1\" class=\"dataframe\">\n  <thead>\n    <tr style=\"text-align: right;\">\n      <th></th>\n      <th></th>\n      <th>current1</th>\n      <th>current2</th>\n    </tr>\n    <tr>\n      <th>branch_id</th>\n      <th>phase</th>\n      <th></th>\n      <th></th>\n    </tr>\n  </thead>\n  <tbody>\n    <tr>\n      <th rowspan=\"4\" valign=\"top\">line</th>\n      <th>a</th>\n      <td>4.505962e+01-3.550306e-20j</td>\n      <td>-4.505962e+01+3.550306e-20j</td>\n    </tr>\n    <tr>\n      <th>b</th>\n      <td>-2.252981e+01-3.902278e+01j</td>\n      <td>2.252981e+01+3.902278e+01j</td>\n    </tr>\n    <tr>\n      <th>c</th>\n      <td>-2.252981e+01+3.902278e+01j</td>\n      <td>2.252981e+01-3.902278e+01j</td>\n    </tr>\n    <tr>\n      <th>n</th>\n      <td>-1.177291e-14-9.237031e-19j</td>\n      <td>1.177291e-14+9.237031e-19j</td>\n    </tr>\n  </tbody>\n</table>\n</div>"
     },
     "execution_count": 9,
     "metadata": {},
     "output_type": "execute_result"
    }
   ],
   "source": [
    "en.branches_currents"
   ],
   "metadata": {
    "collapsed": false
   }
  },
  {
   "cell_type": "markdown",
   "source": [
    "The third results are the powers of the flexible loads of the network using `en.loads_powers` method. In this example,\n",
    "the data frame is empty as there is no flexible loads."
   ],
   "metadata": {
    "collapsed": false
   }
  },
  {
   "cell_type": "markdown",
   "source": [
    "## Updating the network\n",
    "\n",
    "The network can then be updated. Here, the load constant power values are changed. We create an unbalanced situation\n",
    "and one can remark that the neutral potential of the bus is not any more close to 0 V."
   ],
   "metadata": {
    "collapsed": false
   }
  },
  {
   "cell_type": "code",
   "execution_count": 10,
   "outputs": [
    {
     "data": {
      "text/plain": "array([ 216.02252269  +0.j, -115.47005384-200.j, -115.47005384+200.j,\n         14.91758499  +0.j]) <Unit('volt')>",
      "text/html": "<table><tbody><tr><th>Magnitude</th><td style='text-align:left;'><pre>[ 216.02252269  +0.j -115.47005384-200.j -115.47005384+200.j<br>   14.91758499  +0.j]</pre></td></tr><tr><th>Units</th><td style='text-align:left;'>volt</td></tr></tbody></table>",
      "text/latex": "$\\begin{pmatrix}(216.0225226858033+0j) & (-115.47005383792511-200.00000000000003j) & (-115.47005383792511+200.00000000000003j) & (14.917584990047025+0j)\\end{pmatrix}\\ \\mathrm{volt}$"
     },
     "execution_count": 10,
     "metadata": {},
     "output_type": "execute_result"
    }
   ],
   "source": [
    "# Change the load to an unbalanced one and rerun the load flow\n",
    "load.update_powers([15e3, 0, 0])  # VA\n",
    "en.solve_load_flow(auth=auth)\n",
    "load_bus.potentials"
   ],
   "metadata": {
    "collapsed": false
   }
  }
 ],
 "metadata": {
  "kernelspec": {
   "display_name": "Python 3",
   "language": "python",
   "name": "python3"
  },
  "language_info": {
   "codemirror_mode": {
    "name": "ipython",
    "version": 2
   },
   "file_extension": ".py",
   "mimetype": "text/x-python",
   "name": "python",
   "nbconvert_exporter": "python",
   "pygments_lexer": "ipython2",
   "version": "2.7.6"
  }
 },
 "nbformat": 4,
 "nbformat_minor": 0
}
