{
 "cells": [
  {
   "cell_type": "markdown",
   "metadata": {
    "collapsed": false
   },
   "source": [
    "# Short-Circuit\n",
    "\n",
    "Let's see how we can make a short-circuit calculation."
   ]
  },
  {
   "cell_type": "code",
   "execution_count": null,
   "metadata": {
    "ExecuteTime": {
     "end_time": "2023-06-09T12:44:12.206802774Z",
     "start_time": "2023-06-09T12:44:12.205783999Z"
    },
    "collapsed": false
   },
   "outputs": [],
   "source": [
    "import getpass\n",
    "\n",
    "import numpy as np\n",
    "\n",
    "from roseau.load_flow import *"
   ]
  },
  {
   "cell_type": "markdown",
   "metadata": {
    "collapsed": false
   },
   "source": [
    "We will start by creating a simple network composed of two LV lines.\n",
    "As usual with short-circuit calculations, we won't add any loads.\n",
    "\n",
    "<div class=\"alert alert-info\">\n",
    "\n",
    "**Note:**\n",
    "While impedance and current loads could technically be added to the network, it is not possible to add a power load on the same bus as the one we want to compute the short-circuit on. This is because having `I = (S/U)*` with `U=0` is impossible.\n",
    "\n",
    "</div>"
   ]
  },
  {
   "cell_type": "code",
   "execution_count": null,
   "metadata": {
    "ExecuteTime": {
     "end_time": "2023-06-09T13:15:01.378991576Z",
     "start_time": "2023-06-09T13:15:01.256773716Z"
    },
    "collapsed": false
   },
   "outputs": [],
   "source": [
    "# Create three buses\n",
    "source_bus = Bus(id=\"sb\", phases=\"abcn\")\n",
    "bus1 = Bus(id=\"b1\", phases=\"abcn\")\n",
    "bus2 = Bus(id=\"b2\", phases=\"abcn\")\n",
    "\n",
    "# Define the reference of potentials\n",
    "ground = Ground(id=\"gnd\")\n",
    "pref = PotentialRef(id=\"pref\", element=ground)\n",
    "ground.connect(bus=source_bus)\n",
    "\n",
    "# Create a LV source at the first bus\n",
    "un = 400 / np.sqrt(3)\n",
    "source_voltages = [un, un * np.exp(-2j * np.pi / 3), un * np.exp(2j * np.pi / 3)]\n",
    "vs = VoltageSource(id=\"vs\", bus=source_bus, phases=\"abcn\", voltages=source_voltages)\n",
    "\n",
    "# Add LV lines\n",
    "lp1 = LineParameters.from_name_lv(\"S_AL_240\")\n",
    "line1 = Line(id=\"line1\", bus1=source_bus, bus2=bus1, parameters=lp1, length=1.0, ground=ground)\n",
    "lp2 = LineParameters.from_name_lv(\"S_AL_150\")\n",
    "line2 = Line(id=\"line2\", bus1=bus1, bus2=bus2, parameters=lp2, length=2.0, ground=ground)\n",
    "\n",
    "# Create network\n",
    "en = ElectricalNetwork.from_element(source_bus)"
   ]
  },
  {
   "cell_type": "markdown",
   "metadata": {
    "collapsed": false
   },
   "source": [
    "## Phase-to-phase\n",
    "\n",
    "We can now add a short-circuit. Let's first create a phase-to-phase short-circuit:"
   ]
  },
  {
   "cell_type": "code",
   "execution_count": null,
   "metadata": {
    "ExecuteTime": {
     "end_time": "2023-06-09T09:38:08.084249736Z",
     "start_time": "2023-06-09T09:38:08.065034794Z"
    },
    "collapsed": false
   },
   "outputs": [],
   "source": [
    "bus2.add_short_circuit(\"a\", \"b\")"
   ]
  },
  {
   "cell_type": "markdown",
   "metadata": {
    "collapsed": false
   },
   "source": [
    "Let's run the load flow, and get the current results."
   ]
  },
  {
   "cell_type": "code",
   "execution_count": null,
   "metadata": {
    "ExecuteTime": {
     "end_time": "2023-06-09T09:38:19.164884465Z",
     "start_time": "2023-06-09T09:38:10.964544407Z"
    },
    "collapsed": false
   },
   "outputs": [],
   "source": [
    "# Authentication\n",
    "auth = (input(\"Please enter your username:\"), getpass.getpass(\"Please enter your password:\"))"
   ]
  },
  {
   "cell_type": "code",
   "execution_count": null,
   "metadata": {
    "ExecuteTime": {
     "end_time": "2023-06-09T09:38:25.046565516Z",
     "start_time": "2023-06-09T09:38:25.001491534Z"
    },
    "collapsed": false
   },
   "outputs": [],
   "source": [
    "en.solve_load_flow(auth=auth)\n",
    "en.res_branches"
   ]
  },
  {
   "cell_type": "markdown",
   "metadata": {},
   "source": [
    "Looking at the line results of the second bus of the line \"line2\", which is \"bus2\" where we\n",
    "added the short-circuit, one can notice that:\n",
    "\n",
    "* the potentials of phases \"a\" and \"b\" are equal;\n",
    "* the currents and powers in phases \"a\" and \"b\" are equal with opposite signs, i.e. the sum of the currents is zero;\n",
    "* the currents and powers in these two phases are very high;\n",
    "\n",
    "which is expected from a short-circuit."
   ]
  },
  {
   "cell_type": "markdown",
   "metadata": {
    "collapsed": false
   },
   "source": [
    "## Multi-phase\n",
    "\n",
    "It is possible to create short-circuits between several phases, not only two. Let's first\n",
    "remove the existing short-circuit then create a new one between phases \"a\", \"b\", and \"c\"."
   ]
  },
  {
   "cell_type": "code",
   "execution_count": null,
   "metadata": {
    "ExecuteTime": {
     "end_time": "2023-06-09T09:38:47.669356250Z",
     "start_time": "2023-06-09T09:38:47.628914940Z"
    },
    "collapsed": false
   },
   "outputs": [],
   "source": [
    "bus2.clear_short_circuits()\n",
    "bus2.add_short_circuit(\"a\", \"b\", \"c\")\n",
    "en.solve_load_flow(auth=auth)\n",
    "en.res_branches"
   ]
  },
  {
   "cell_type": "markdown",
   "metadata": {},
   "source": [
    "Now the potentials of the three phases are equal and the currents and powers add up to\n",
    "zero at the bus where the short-circuit is applied."
   ]
  },
  {
   "cell_type": "markdown",
   "metadata": {
    "collapsed": false
   },
   "source": [
    "## Phase-to-ground\n",
    "\n",
    "Phase-to-ground short-circuits are also possible. Let's remove the existing short-circuit\n",
    "and create a new one between phase \"a\" and ground."
   ]
  },
  {
   "cell_type": "code",
   "execution_count": null,
   "metadata": {
    "ExecuteTime": {
     "end_time": "2023-06-09T13:15:05.411101257Z",
     "start_time": "2023-06-09T13:15:05.383349808Z"
    },
    "collapsed": false
   },
   "outputs": [],
   "source": [
    "bus2.clear_short_circuits()\n",
    "bus2.add_short_circuit(\"a\", ground=ground)  # ground MUST be passed as a keyword argument\n",
    "en.solve_load_flow(auth=auth)\n",
    "en.res_branches"
   ]
  },
  {
   "cell_type": "code",
   "execution_count": null,
   "metadata": {},
   "outputs": [],
   "source": [
    "en.res_grounds"
   ]
  },
  {
   "cell_type": "markdown",
   "metadata": {},
   "source": [
    "Here the potential at phase \"a\" of bus \"bus2\" is zero, equal to the ground potential.\n",
    "The sum of the currents in the other phases is also zero indicating that the current\n",
    "of phase \"a\" went through the ground."
   ]
  },
  {
   "cell_type": "markdown",
   "metadata": {
    "collapsed": false
   },
   "source": [
    "## Additional notes\n",
    "\n",
    "The library will prevent the user from making mistakes, for example when trying to add a power load with the short-circuit, or when forgetting parameters."
   ]
  },
  {
   "cell_type": "code",
   "execution_count": null,
   "metadata": {
    "ExecuteTime": {
     "end_time": "2023-06-09T13:15:14.199462325Z",
     "start_time": "2023-06-09T13:15:14.101886478Z"
    },
    "collapsed": false
   },
   "outputs": [],
   "source": [
    "try:\n",
    "    load = PowerLoad(\"load\", bus=bus2, powers=[10, 10, 10])\n",
    "except RoseauLoadFlowException as e:\n",
    "    print(e)"
   ]
  },
  {
   "cell_type": "code",
   "execution_count": null,
   "metadata": {
    "ExecuteTime": {
     "end_time": "2023-06-09T13:15:16.667926670Z",
     "start_time": "2023-06-09T13:15:16.600860501Z"
    },
    "collapsed": false
   },
   "outputs": [],
   "source": [
    "try:\n",
    "    bus2.add_short_circuit(\"a\")\n",
    "except RoseauLoadFlowException as e:\n",
    "    print(e)"
   ]
  }
 ],
 "metadata": {
  "kernelspec": {
   "display_name": "Python 3 (ipykernel)",
   "language": "python",
   "name": "python3"
  },
  "language_info": {
   "codemirror_mode": {
    "name": "ipython",
    "version": 3
   },
   "file_extension": ".py",
   "mimetype": "text/x-python",
   "name": "python",
   "nbconvert_exporter": "python",
   "pygments_lexer": "ipython3",
   "version": "3.11.4"
  }
 },
 "nbformat": 4,
 "nbformat_minor": 0
}
