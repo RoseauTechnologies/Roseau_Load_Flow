{
 "cells": [
  {
   "attachments": {},
   "cell_type": "markdown",
   "metadata": {
    "collapsed": false
   },
   "source": [
    "# Advanced usages\n",
    "\n",
    "Make sure you have followed the [getting started guide](Getting_Started.ipynb) first.\n",
    "\n",
    "Let's create a network with MV and LV elements connected via a transformer."
   ]
  },
  {
   "cell_type": "code",
   "execution_count": null,
   "metadata": {
    "collapsed": false
   },
   "outputs": [],
   "source": [
    "import getpass\n",
    "\n",
    "import numpy as np\n",
    "\n",
    "from roseau.load_flow import *"
   ]
  },
  {
   "cell_type": "markdown",
   "metadata": {
    "collapsed": false
   },
   "source": [
    "## Creation of the network\n",
    "\n",
    "This network contains a voltage source with a constant balanced voltage of\n",
    "20 kV (phase to phase), a Delta-Wye transformer and a small LV network.\n"
   ]
  },
  {
   "cell_type": "code",
   "execution_count": null,
   "metadata": {
    "collapsed": false
   },
   "outputs": [],
   "source": [
    "ground = Ground(id=\"gnd\")\n",
    "pref = PotentialRef(id=\"pref\", element=ground)  # Set the ground to 0V\n",
    "\n",
    "# Create a MV voltage source\n",
    "bus0_mv = Bus(id=\"bus0_mv\", phases=\"abcn\")\n",
    "ground.connect(bus0_mv)\n",
    "un = 20e3 / np.sqrt(3)  # V\n",
    "source_voltages = [un, un * np.exp(-2j * np.pi / 3), un * np.exp(2j * np.pi / 3)]\n",
    "vs = VoltageSource(id=\"vs\", bus=bus0_mv, phases=\"abcn\", ground=ground, voltages=source_voltages)\n",
    "\n",
    "# Add a transformer\n",
    "bus0_lv = Bus(id=\"bus0_lv\", phases=\"abcn\")\n",
    "ground.connect(bus0_lv)\n",
    "tp = TransformerParameters(\n",
    "    \"160_kVA\", \"Dyn11\", sn=160.0 * 1e3, uhv=20e3, ulv=400.0, i0=2.3 / 100, p0=460.0, psc=2350.0, vsc=4.0 / 100\n",
    ")\n",
    "transformer = Transformer(\n",
    "    id=\"transfo\", bus1=bus0_mv, bus2=bus0_lv, phases1=\"abc\", phases2=\"abcn\", parameters=tp, tap=1.025\n",
    ")\n",
    "\n",
    "# Add a LV network\n",
    "lp = LineParameters.from_name_lv(\"S_AL_150\")\n",
    "bus1 = Bus(id=\"bus1\", phases=\"abcn\")\n",
    "bus2 = Bus(id=\"bus2\", phases=\"abcn\")\n",
    "load_bus1 = Bus(id=\"load_bus1\", phases=\"abcn\")\n",
    "load_bus2 = Bus(id=\"load_bus2\", phases=\"abcn\")\n",
    "load_bus3 = Bus(id=\"load_bus3\", phases=\"abcn\")\n",
    "line1 = Line(id=\"line1\", bus1=bus0_lv, bus2=bus1, phases=\"abcn\", ground=ground, parameters=lp, length=0.5)  # km\n",
    "line2 = Line(id=\"line2\", bus1=bus1, bus2=bus2, phases=\"abcn\", ground=ground, parameters=lp, length=0.4)\n",
    "line3 = Line(id=\"line3\", bus1=bus1, bus2=load_bus1, phases=\"abcn\", ground=ground, parameters=lp, length=0.3)\n",
    "line4 = Line(id=\"line4\", bus1=bus2, bus2=load_bus2, phases=\"abcn\", ground=ground, parameters=lp, length=0.3)\n",
    "line5 = Line(id=\"line5\", bus1=load_bus2, bus2=load_bus3, phases=\"abcn\", ground=ground, parameters=lp, length=0.4)\n",
    "si = -3e3  # VA, negative as it is production\n",
    "load1 = PowerLoad(id=\"load1\", bus=load_bus1, phases=\"abcn\", powers=[si, si, si])\n",
    "load2 = PowerLoad(id=\"load2\", bus=load_bus2, phases=\"abcn\", powers=[si, si, si])\n",
    "load3 = PowerLoad(id=\"load3\", bus=load_bus3, phases=\"abcn\", powers=[si, 0, 0])\n",
    "\n",
    "# Create the network\n",
    "en = ElectricalNetwork.from_element(bus0_mv)"
   ]
  },
  {
   "attachments": {},
   "cell_type": "markdown",
   "metadata": {
    "collapsed": false
   },
   "source": [
    "An authentication is required. Please contact us at contact@roseautechnologies.com to get identification."
   ]
  },
  {
   "cell_type": "code",
   "execution_count": null,
   "metadata": {
    "collapsed": false
   },
   "outputs": [],
   "source": [
    "# Authentication\n",
    "auth = (input(\"Please enter your username:\"), getpass.getpass(\"Please enter your password:\"))"
   ]
  },
  {
   "attachments": {},
   "cell_type": "markdown",
   "metadata": {
    "collapsed": false
   },
   "source": [
    "Then, the load flow can be solved and the voltages can be checked."
   ]
  },
  {
   "cell_type": "code",
   "execution_count": null,
   "metadata": {
    "collapsed": false
   },
   "outputs": [],
   "source": [
    "en.solve_load_flow(auth=auth)\n",
    "abs(load_bus3.res_voltages)"
   ]
  },
  {
   "attachments": {},
   "cell_type": "markdown",
   "metadata": {
    "collapsed": false
   },
   "source": [
    "## Usage of the flexible loads\n",
    "\n",
    "The flexible loads are loads that implement some basic controls such as $P(U)$, $Q(U)$ or $PQ(U)$.\n",
    "\n",
    "### $P(U)$ control\n",
    "\n",
    "Let's remove the `load3` from the network and add a flexible load as a replacement.\n",
    "\n",
    "We first create a `FlexibleParameter` from the class method `p_max_u_production`. It returns a\n",
    "flexible parameter instance that reduces the active production when the voltage is higher than\n",
    "`u_up` volts and stops the production when the voltage reaches `u_max`. The `s_max` argument\n",
    "defines the maximum allowed apparent power of the production plant. In the example below,\n",
    "`u_up=240 V`, `u_max=250 V` and `s_max=4 kVA`.\n",
    "\n",
    "Then, a flexible load is created using the same `PowerLoad` we saw earlier this time passing the\n",
    "`flexible_params` argument to the constructor. Its apparent power is fixed at `[si, 0, 0]` VA\n",
    "with `si` a negative value (negative because it is production). Theses apparent powers define\n",
    "the maximum power this load can produce. The `flexible_params` argument takes a list of\n",
    "`FlexibleParameter` instances, one per phase. For the first phase, the $P(U)$ control is used.\n",
    "For the two other phases, there is no control at all thus the `constant` class method is used.\n",
    "\n",
    "As a consequence, the provided apparent power for phase `a` is the maximum that can be produced\n",
    "(potentially modified by the $P(U)$  control) and the provided apparent power for phases `b` and\n",
    "`c` is the desired production as the flexible parameter is defined as `constant`."
   ]
  },
  {
   "cell_type": "code",
   "execution_count": null,
   "metadata": {
    "collapsed": false
   },
   "outputs": [],
   "source": [
    "# Let's make the load 3 flexible with a p(u) control to reduce the voltages constraints\n",
    "en.loads[\"load3\"].disconnect()\n",
    "fp = FlexibleParameter.p_max_u_production(u_up=240, u_max=250, s_max=4000)  # V and VA\n",
    "flexible_load = PowerLoad(\n",
    "    id=\"load3\",\n",
    "    bus=load_bus3,\n",
    "    phases=\"abcn\",\n",
    "    powers=[si, 0, 0],  # W\n",
    "    flexible_params=[fp, FlexibleParameter.constant(), FlexibleParameter.constant()],\n",
    ")"
   ]
  },
  {
   "attachments": {},
   "cell_type": "markdown",
   "metadata": {
    "collapsed": false
   },
   "source": [
    "The load flow can now be run again. You can see that the voltage magnitude has changed. Note that\n",
    "the voltage magnitude for phase `a` was above 240 V without the $P(U)$ control, thus the control\n",
    "has been activated in this simulation."
   ]
  },
  {
   "cell_type": "code",
   "execution_count": null,
   "metadata": {
    "collapsed": false
   },
   "outputs": [],
   "source": [
    "en.solve_load_flow(auth=auth)\n",
    "abs(load_bus3.res_voltages)"
   ]
  },
  {
   "attachments": {},
   "cell_type": "markdown",
   "metadata": {
    "collapsed": false
   },
   "source": [
    "The actually produced power of the flexible load is a result of the computation and can be\n",
    "accessed using the `res_flexible_powers` property of the load. Here, one can note that:\n",
    "\n",
    "* The active power for the phase `a` is negative meaning production;\n",
    "* The actual value of this active power is lower that the one requested as the control was activated;\n",
    "* The power for phases `b` and `c` is 0 VA as expected."
   ]
  },
  {
   "cell_type": "code",
   "execution_count": null,
   "metadata": {
    "collapsed": false
   },
   "outputs": [],
   "source": [
    "flexible_load.res_flexible_powers"
   ]
  },
  {
   "attachments": {},
   "cell_type": "markdown",
   "metadata": {
    "collapsed": false
   },
   "source": [
    "### $PQ(U)$ control\n",
    "\n",
    "Now, let's remove the flexible load that we have added in the previous section and add a new\n",
    "flexible load implementing a $PQ(U)$ control instead.\n",
    "\n",
    "As before, we first create a `FlexibleParameter` but this time, we will use the\n",
    "`pq_u_production` class method. It requires several arguments:\n",
    "\n",
    "* `up_up` and `up_max`: the voltages defining the interval of the `P(U)` control activation.\n",
    "  Below `up_up`, no control is applied and above `u_max`, the production is totally shut down.\n",
    "* `uq_min`, `uq_down`, `uq_up` and `uq_max` which are the voltages defining the `Q(U)` control\n",
    "  activation.\n",
    "  * Below `uq_min`, the power plant produces the maximum possible reactive power.\n",
    "  * Between `uq_down` and `uq_up`, there is no `Q(U)` control.\n",
    "  * Above `uq_max`, the power plant consumes the maximum possible reactive power.\n",
    "\n",
    "In the example below, as the new load is a production load, only the `up_up`, `up_max`, `uq_up`\n",
    "and `uq_max` are of interests. The $Q(U)$ control starts its action at 235 V and is fully\n",
    "exhausted at 240 V. After that, the $P(U)$ is activated and is exhausted at 250 V where the\n",
    "production is totally shut down."
   ]
  },
  {
   "cell_type": "code",
   "execution_count": null,
   "metadata": {
    "collapsed": false
   },
   "outputs": [],
   "source": [
    "# Let's try with pq(u) control, by injecting reactive power before reducing active power\n",
    "en.loads[\"load3\"].disconnect()\n",
    "fp = FlexibleParameter.pq_u_production(\n",
    "    up_up=240, up_max=250, uq_min=200, uq_down=210, uq_up=235, uq_max=240, s_max=4000  # V and VA\n",
    ")\n",
    "flexible_load = PowerLoad(\n",
    "    id=\"load3\",\n",
    "    bus=load_bus3,\n",
    "    phases=\"abcn\",\n",
    "    powers=[si, 0, 0],\n",
    "    flexible_params=[fp, FlexibleParameter.constant(), FlexibleParameter.constant()],\n",
    ")"
   ]
  },
  {
   "cell_type": "markdown",
   "metadata": {
    "collapsed": false
   },
   "source": [
    "The load flow can be solved again."
   ]
  },
  {
   "cell_type": "code",
   "execution_count": null,
   "metadata": {
    "collapsed": false
   },
   "outputs": [],
   "source": [
    "en.solve_load_flow(auth=auth)\n",
    "abs(load_bus3.res_voltages)"
   ]
  },
  {
   "attachments": {},
   "cell_type": "markdown",
   "metadata": {
    "collapsed": false
   },
   "source": [
    "One can note that this time, the phase `'a'` consumes reactive power to limit the voltage rise in\n",
    "the network. Moreover, the magnitude of the power on phase `'a'` is approximately $4 kVA$ which is\n",
    "the maximum allowed apparent power for `load3`. In order to maintain this maximum, a\n",
    "[Euclidean projection][api-projection] has been used.\n",
    "\n",
    "[api-projection]: https://roseautechnologies.github.io/Roseau_Load_Flow/autoapi/oseau/load_flow/index.html#roseau.load_flow.Projection"
   ]
  },
  {
   "cell_type": "code",
   "execution_count": null,
   "metadata": {
    "collapsed": false
   },
   "outputs": [],
   "source": [
    "flexible_load.res_flexible_powers"
   ]
  },
  {
   "cell_type": "code",
   "execution_count": null,
   "metadata": {
    "collapsed": false
   },
   "outputs": [],
   "source": [
    "abs(flexible_load.res_flexible_powers)"
   ]
  },
  {
   "attachments": {},
   "cell_type": "markdown",
   "metadata": {},
   "source": [
    "## Adding elements to the network\n",
    "\n",
    "In the previous section we saw how to replace a simple element in the network such as a load.\n",
    "This is done by simply calling the load's `disconnect` method then creating a new load on the\n",
    "same bus and with the same ID.\n",
    "\n",
    "It is possible also to add new elements like buses, lines, etc to an existing network by simply\n",
    "creating the elements and linking them to an element already in the network. For example, the\n",
    "code below adds a new line and a single-phase constant power load connected to a new bus."
   ]
  },
  {
   "cell_type": "code",
   "execution_count": null,
   "metadata": {},
   "outputs": [],
   "source": [
    "# Connect a new bus to the network\n",
    "new_bus = Bus(id=\"new_bus\", phases=\"abcn\")\n",
    "new_load = PowerLoad(id=\"new_load\", bus=new_bus, phases=\"an\", powers=[6e3])\n",
    "lp_S_AL_240 = LineParameters.from_name_lv(\"S_AL_240\")\n",
    "new_line = Line(\n",
    "    id=\"new_line\",\n",
    "    bus1=bus2,\n",
    "    bus2=new_bus,\n",
    "    phases=\"abcn\",\n",
    "    ground=ground,\n",
    "    parameters=lp_S_AL_240,\n",
    "    length=0.5,\n",
    ")"
   ]
  },
  {
   "attachments": {},
   "cell_type": "markdown",
   "metadata": {},
   "source": [
    "If you look at the network elements, you can see the new bus, line and load are added."
   ]
  },
  {
   "cell_type": "code",
   "execution_count": null,
   "metadata": {},
   "outputs": [],
   "source": [
    "en.buses[\"new_bus\"]"
   ]
  },
  {
   "cell_type": "code",
   "execution_count": null,
   "metadata": {},
   "outputs": [],
   "source": [
    "en.loads[\"new_load\"]"
   ]
  },
  {
   "cell_type": "code",
   "execution_count": null,
   "metadata": {},
   "outputs": [],
   "source": [
    "en.branches[\"new_line\"]"
   ]
  },
  {
   "attachments": {},
   "cell_type": "markdown",
   "metadata": {},
   "source": [
    "And now if you run the load flow, you can see that the new elements are taken into account."
   ]
  },
  {
   "cell_type": "code",
   "execution_count": null,
   "metadata": {},
   "outputs": [],
   "source": [
    "en.solve_load_flow(auth=auth)\n",
    "abs(new_load.res_voltages)"
   ]
  }
 ],
 "metadata": {
  "kernelspec": {
   "display_name": "venv",
   "language": "python",
   "name": "python3"
  },
  "language_info": {
   "codemirror_mode": {
    "name": "ipython",
    "version": 3
   },
   "file_extension": ".py",
   "mimetype": "text/x-python",
   "name": "python",
   "nbconvert_exporter": "python",
   "pygments_lexer": "ipython3",
   "version": "3.10.9"
  },
  "vscode": {
   "interpreter": {
    "hash": "99cbd331128cf218793744ba240286bb402c67078e32af81afdf76a86262575b"
   }
  }
 },
 "nbformat": 4,
 "nbformat_minor": 0
}
