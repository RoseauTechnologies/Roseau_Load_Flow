{
 "cells": [
  {
   "cell_type": "markdown",
   "metadata": {},
   "source": [
    "# Advanced usages\n",
    "\n",
    "Make sure you have followed the [getting started guide](Getting_Started.ipynb) first.\n",
    "\n",
    "Let's create a network with MV and LV elements connected via a transformer."
   ]
  },
  {
   "cell_type": "code",
   "execution_count": 1,
   "metadata": {
    "ExecuteTime": {
     "end_time": "2023-06-04T15:25:41.033848322Z",
     "start_time": "2023-06-04T15:25:39.300450976Z"
    }
   },
   "outputs": [],
   "source": [
    "import getpass\n",
    "\n",
    "import numpy as np\n",
    "\n",
    "from roseau.load_flow import *"
   ]
  },
  {
   "attachments": {},
   "cell_type": "markdown",
   "metadata": {},
   "source": [
    "## Creation of the network\n",
    "\n",
    "This network contains a voltage source with a constant balanced voltage of 20 kV (phase-to-phase),\n",
    "a Delta-Wye transformer and a small LV network.\n",
    "\n",
    "![Advanced Network](../_static/Advanced_Tutorial.svg)\n"
   ]
  },
  {
   "cell_type": "code",
   "execution_count": 2,
   "metadata": {
    "ExecuteTime": {
     "end_time": "2023-06-04T15:25:47.157546957Z",
     "start_time": "2023-06-04T15:25:47.074574935Z"
    }
   },
   "outputs": [],
   "source": [
    "# Create a MV bus with a voltage source\n",
    "bus0_mv = Bus(id=\"bus0_mv\", phases=\"abc\")\n",
    "un = 20e3  # V\n",
    "source_voltages = [un, un * np.exp(-2j * np.pi / 3), un * np.exp(2j * np.pi / 3)]\n",
    "vs = VoltageSource(id=\"vs\", bus=bus0_mv, phases=\"abc\", voltages=source_voltages)\n",
    "pref_mv = PotentialRef(id=\"pref_mv\", element=bus0_mv)  # Set the MV potential reference\n",
    "\n",
    "# Create a LV bus and connect its neutral to the ground\n",
    "bus0_lv = Bus(id=\"bus0_lv\", phases=\"abcn\")\n",
    "ground = Ground(id=\"gnd\")\n",
    "pref_lv = PotentialRef(id=\"pref_lv\", element=ground)  # Set the ground potential to 0V\n",
    "ground.connect(bus0_lv)  # Connect the ground to the neutral of the LV bus\n",
    "\n",
    "# Add a MV/LV transformer\n",
    "tp = TransformerParameters(\n",
    "    \"160_kVA\", \"Dyn11\", sn=160.0 * 1e3, uhv=20e3, ulv=400.0, i0=2.3 / 100, p0=460.0, psc=2350.0, vsc=4.0 / 100\n",
    ")\n",
    "transformer = Transformer(\n",
    "    id=\"transfo\", bus1=bus0_mv, bus2=bus0_lv, phases1=\"abc\", phases2=\"abcn\", parameters=tp, tap=1.025\n",
    ")\n",
    "\n",
    "# Add the LV network elements\n",
    "lp = LineParameters.from_name_lv(\"S_AL_150\")\n",
    "bus1 = Bus(id=\"bus1\", phases=\"abcn\")\n",
    "bus2 = Bus(id=\"bus2\", phases=\"abcn\")\n",
    "load_bus1 = Bus(id=\"load_bus1\", phases=\"abcn\")\n",
    "load_bus2 = Bus(id=\"load_bus2\", phases=\"abcn\")\n",
    "load_bus3 = Bus(id=\"load_bus3\", phases=\"abcn\")\n",
    "line1 = Line(id=\"line1\", bus1=bus0_lv, bus2=bus1, phases=\"abcn\", ground=ground, parameters=lp, length=0.5)  # km\n",
    "line2 = Line(id=\"line2\", bus1=bus1, bus2=bus2, phases=\"abcn\", ground=ground, parameters=lp, length=0.4)\n",
    "line3 = Line(id=\"line3\", bus1=bus1, bus2=load_bus1, phases=\"abcn\", ground=ground, parameters=lp, length=0.3)\n",
    "line4 = Line(id=\"line4\", bus1=bus2, bus2=load_bus2, phases=\"abcn\", ground=ground, parameters=lp, length=0.3)\n",
    "line5 = Line(id=\"line5\", bus1=load_bus2, bus2=load_bus3, phases=\"abcn\", ground=ground, parameters=lp, length=0.4)\n",
    "si = -3e3  # VA, negative as it is production\n",
    "load1 = PowerLoad(id=\"load1\", bus=load_bus1, phases=\"abcn\", powers=[si, si, si])\n",
    "load2 = PowerLoad(id=\"load2\", bus=load_bus2, phases=\"abcn\", powers=[si, si, si])\n",
    "load3 = PowerLoad(id=\"load3\", bus=load_bus3, phases=\"abcn\", powers=[si, 0, 0])\n",
    "\n",
    "# Create the network\n",
    "en = ElectricalNetwork.from_element(bus0_mv)"
   ]
  },
  {
   "cell_type": "code",
   "execution_count": 3,
   "metadata": {
    "ExecuteTime": {
     "end_time": "2023-06-04T15:25:57.993969161Z",
     "start_time": "2023-06-04T15:25:50.238551806Z"
    }
   },
   "outputs": [],
   "source": [
    "# Authentication\n",
    "auth = (input(\"Please enter your username:\"), getpass.getpass(\"Please enter your password:\"))"
   ]
  },
  {
   "attachments": {},
   "cell_type": "markdown",
   "metadata": {},
   "source": [
    "Then, the load flow can be solved and the results can be retrieved."
   ]
  },
  {
   "cell_type": "code",
   "execution_count": 4,
   "metadata": {
    "ExecuteTime": {
     "end_time": "2023-06-04T15:26:00.226504464Z",
     "start_time": "2023-06-04T15:25:59.677393450Z"
    }
   },
   "outputs": [
    {
     "data": {
      "text/html": [
       "<table><tbody><tr><th>Magnitude</th><td style='text-align:left;'><pre>[243.66463933130166 232.2061271436693 233.5509312888294]</pre></td></tr><tr><th>Units</th><td style='text-align:left;'>volt</td></tr></tbody></table>"
      ],
      "text/latex": [
       "$\\begin{pmatrix} &  & \\end{pmatrix}\\ \\mathrm{volt}$"
      ],
      "text/plain": [
       "array([243.66463933, 232.20612714, 233.55093129]) <Unit('volt')>"
      ]
     },
     "execution_count": 4,
     "metadata": {},
     "output_type": "execute_result"
    }
   ],
   "source": [
    "en.solve_load_flow(auth=auth)\n",
    "abs(load_bus3.res_voltages)"
   ]
  },
  {
   "attachments": {},
   "cell_type": "markdown",
   "metadata": {},
   "source": [
    "## Usage of the flexible loads\n",
    "\n",
    "The flexible loads are loads that implement some basic controls such as $P(U)$, $Q(U)$ or $PQ(U)$.\n",
    "\n",
    "### $P(U)$ control\n",
    "\n",
    "Let's remove `load3` from the network and add a flexible load as a replacement. A flexible load\n",
    "is a normal `PowerLoad` with a `flexible_params` argument that takes a list of`FlexibleParameter`.\n",
    "\n",
    "We first create a `FlexibleParameter` using its class method `p_max_u_production`. It returns a\n",
    "flexible parameter instance that reduces the active production when the voltage is higher than\n",
    "`u_up` volts and stops the production when the voltage reaches `u_max`. The `s_max` argument\n",
    "defines the maximum allowed apparent power of the production plant. In the example below,\n",
    "`u_up=240 V`, `u_max=250 V` and `s_max=4 kVA`.\n",
    "\n",
    "After that, a flexible load representing a PV plant is created. Its apparent power is fixed at\n",
    "`[si, 0, 0]` VA with `si` a negative value (negative because it is production). Theses apparent\n",
    "powers define the maximum power this load can produce. The `flexible_params` argument takes a\n",
    "list of `FlexibleParameter` instances, one per phase. For the first phase, the $P(U)$ control is\n",
    "used. For the two other phases, there is no control at all thus the `constant` class method is\n",
    "used.\n",
    "\n",
    "As a consequence, the provided apparent power for phase `'a'` is the maximum that can be produced\n",
    "(potentially modified by the $P(U)$ control) and the provided apparent power for phases `'b'` and\n",
    "`'c'` is the desired production as the flexible parameter is defined as `constant`."
   ]
  },
  {
   "cell_type": "code",
   "execution_count": 5,
   "metadata": {
    "ExecuteTime": {
     "end_time": "2023-06-04T15:26:04.664969773Z",
     "start_time": "2023-06-04T15:26:04.640614689Z"
    }
   },
   "outputs": [],
   "source": [
    "# Let's make the load 3 flexible with a p(u) control to reduce the voltages constraints\n",
    "en.loads[\"load3\"].disconnect()\n",
    "fp = FlexibleParameter.p_max_u_production(u_up=240, u_max=250, s_max=4000)  # V and VA\n",
    "flexible_load = PowerLoad(\n",
    "    id=\"load3\",\n",
    "    bus=load_bus3,\n",
    "    phases=\"abcn\",\n",
    "    powers=[si, 0, 0],  # W\n",
    "    flexible_params=[fp, FlexibleParameter.constant(), FlexibleParameter.constant()],\n",
    ")"
   ]
  },
  {
   "attachments": {},
   "cell_type": "markdown",
   "metadata": {},
   "source": [
    "The load flow can now be run again. You can see that the voltage magnitude has changed. Note that\n",
    "the voltage magnitude for phase `'a'` was 240 V above without the $P(U)$ control, thus the control\n",
    "has been activated in this run."
   ]
  },
  {
   "cell_type": "code",
   "execution_count": 6,
   "metadata": {
    "ExecuteTime": {
     "end_time": "2023-06-04T15:26:07.189134843Z",
     "start_time": "2023-06-04T15:26:06.667246422Z"
    }
   },
   "outputs": [
    {
     "data": {
      "text/html": [
       "<table><tbody><tr><th>Magnitude</th><td style='text-align:left;'><pre>[243.08225748385007 232.46046865587596 233.62854072949668]</pre></td></tr><tr><th>Units</th><td style='text-align:left;'>volt</td></tr></tbody></table>"
      ],
      "text/latex": [
       "$\\begin{pmatrix} &  & \\end{pmatrix}\\ \\mathrm{volt}$"
      ],
      "text/plain": [
       "array([243.08225748, 232.46046866, 233.62854073]) <Unit('volt')>"
      ]
     },
     "execution_count": 6,
     "metadata": {},
     "output_type": "execute_result"
    }
   ],
   "source": [
    "en.solve_load_flow(auth=auth)\n",
    "abs(load_bus3.res_voltages)"
   ]
  },
  {
   "attachments": {},
   "cell_type": "markdown",
   "metadata": {},
   "source": [
    "The actually produced power of the flexible load is a result of the computation and can be\n",
    "accessed using the `res_flexible_powers` property of the load. Here, one can note that:\n",
    "\n",
    "* The active power for the phase `'a'` is negative meaning production;\n",
    "* The actual value of this active power is lower that the one requested as the control was activated;\n",
    "* The power for phases `'b'` and `'c'` is 0 VA as expected."
   ]
  },
  {
   "cell_type": "code",
   "execution_count": 7,
   "metadata": {
    "ExecuteTime": {
     "end_time": "2023-06-04T15:26:08.852165562Z",
     "start_time": "2023-06-04T15:26:08.842546486Z"
    }
   },
   "outputs": [
    {
     "data": {
      "text/html": [
       "<table><tbody><tr><th>Magnitude</th><td style='text-align:left;'><pre>[-2757.8035271+0.j     0.       +0.j     0.       +0.j]</pre></td></tr><tr><th>Units</th><td style='text-align:left;'>volt_ampere</td></tr></tbody></table>"
      ],
      "text/latex": [
       "$\\begin{pmatrix} &  & \\end{pmatrix}\\ \\mathrm{volt\\_ampere}$"
      ],
      "text/plain": [
       "array([-2757.8035271+0.j,     0.       +0.j,     0.       +0.j]) <Unit('volt_ampere')>"
      ]
     },
     "execution_count": 7,
     "metadata": {},
     "output_type": "execute_result"
    }
   ],
   "source": [
    "flexible_load.res_flexible_powers"
   ]
  },
  {
   "cell_type": "markdown",
   "metadata": {},
   "source": [
    "### $PQ(U)$ control\n",
    "\n",
    "Now, let's remove the flexible load that we have added in the previous section and add a new\n",
    "flexible load implementing a $PQ(U)$ control instead.\n",
    "\n",
    "As before, we first create a `FlexibleParameter` but this time, we will use the\n",
    "`pq_u_production` class method. It requires several arguments:\n",
    "\n",
    "* `up_up` and `up_max`: the voltages defining the interval of the `P(U)` control activation.\n",
    "  Below `up_up`, no control is applied and above `u_max`, the production is totally shut down.\n",
    "* `uq_min`, `uq_down`, `uq_up` and `uq_max` which are the voltages defining the `Q(U)` control\n",
    "  activation.\n",
    "  * Below `uq_min`, the power plant produces the maximum possible reactive power.\n",
    "  * Between `uq_down` and `uq_up`, there is no `Q(U)` control.\n",
    "  * Above `uq_max`, the power plant consumes the maximum possible reactive power.\n",
    "\n",
    "In the example below, as the new load is a production load, only the `up_up`, `up_max`, `uq_up`\n",
    "and `uq_max` are of interests. The $Q(U)$ control starts its action at 235 V and is fully\n",
    "exhausted at 240 V. After that, the $P(U)$ is activated and is exhausted at 250 V where the\n",
    "production is totally shut down."
   ]
  },
  {
   "cell_type": "code",
   "execution_count": 8,
   "metadata": {
    "ExecuteTime": {
     "end_time": "2023-06-04T15:26:11.748616750Z",
     "start_time": "2023-06-04T15:26:11.701985284Z"
    }
   },
   "outputs": [],
   "source": [
    "# Let's try with pq(u) control, by injecting reactive power before reducing active power\n",
    "en.loads[\"load3\"].disconnect()\n",
    "fp = FlexibleParameter.pq_u_production(\n",
    "    up_up=240, up_max=250, uq_min=200, uq_down=210, uq_up=235, uq_max=240, s_max=4000  # V and VA\n",
    ")\n",
    "flexible_load = PowerLoad(\n",
    "    id=\"load3\",\n",
    "    bus=load_bus3,\n",
    "    phases=\"abcn\",\n",
    "    powers=[si, 0, 0],\n",
    "    flexible_params=[fp, FlexibleParameter.constant(), FlexibleParameter.constant()],\n",
    ")"
   ]
  },
  {
   "cell_type": "markdown",
   "metadata": {},
   "source": [
    "The load flow can be solved again."
   ]
  },
  {
   "cell_type": "code",
   "execution_count": 9,
   "metadata": {
    "ExecuteTime": {
     "end_time": "2023-06-04T15:26:14.445934387Z",
     "start_time": "2023-06-04T15:26:13.789043220Z"
    }
   },
   "outputs": [
    {
     "data": {
      "text/html": [
       "<table><tbody><tr><th>Magnitude</th><td style='text-align:left;'><pre>[239.51332079629023 230.21080520340482 237.59184615484196]</pre></td></tr><tr><th>Units</th><td style='text-align:left;'>volt</td></tr></tbody></table>"
      ],
      "text/latex": [
       "$\\begin{pmatrix} &  & \\end{pmatrix}\\ \\mathrm{volt}$"
      ],
      "text/plain": [
       "array([239.5133208 , 230.2108052 , 237.59184615]) <Unit('volt')>"
      ]
     },
     "execution_count": 9,
     "metadata": {},
     "output_type": "execute_result"
    }
   ],
   "source": [
    "en.solve_load_flow(auth=auth)\n",
    "abs(load_bus3.res_voltages)"
   ]
  },
  {
   "cell_type": "markdown",
   "metadata": {},
   "source": [
    "One can note that this time, the phase `'a'` consumes reactive power to limit the voltage rise in\n",
    "the network. Moreover, the magnitude of the power on phase `'a'` is approximately $4 kVA$ which is\n",
    "the maximum allowed apparent power for `load3`. In order to maintain this maximum, a\n",
    "[Euclidean projection][api-projection] has been used.\n",
    "\n",
    "[api-projection]: https://roseautechnologies.github.io/Roseau_Load_Flow/autoapi/roseau/load_flow/index.html#roseau.load_flow.Projection"
   ]
  },
  {
   "cell_type": "code",
   "execution_count": 10,
   "metadata": {
    "ExecuteTime": {
     "end_time": "2023-06-04T15:26:16.350896465Z",
     "start_time": "2023-06-04T15:26:16.326483018Z"
    }
   },
   "outputs": [
    {
     "data": {
      "text/html": [
       "<table><tbody><tr><th>Magnitude</th><td style='text-align:left;'><pre>[-2566.23768012+3068.29336425j     0.           +0.j<br>     0.           +0.j        ]</pre></td></tr><tr><th>Units</th><td style='text-align:left;'>volt_ampere</td></tr></tbody></table>"
      ],
      "text/latex": [
       "$\\begin{pmatrix} &  & \\end{pmatrix}\\ \\mathrm{volt\\_ampere}$"
      ],
      "text/plain": [
       "array([-2566.23768012+3068.29336425j,     0.           +0.j        ,\n",
       "           0.           +0.j        ]) <Unit('volt_ampere')>"
      ]
     },
     "execution_count": 10,
     "metadata": {},
     "output_type": "execute_result"
    }
   ],
   "source": [
    "flexible_load.res_flexible_powers"
   ]
  },
  {
   "cell_type": "code",
   "execution_count": 11,
   "metadata": {
    "ExecuteTime": {
     "end_time": "2023-06-04T15:26:17.955855403Z",
     "start_time": "2023-06-04T15:26:17.936828707Z"
    }
   },
   "outputs": [
    {
     "data": {
      "text/html": [
       "<table><tbody><tr><th>Magnitude</th><td style='text-align:left;'><pre>[4000.0 0.0 0.0]</pre></td></tr><tr><th>Units</th><td style='text-align:left;'>volt_ampere</td></tr></tbody></table>"
      ],
      "text/latex": [
       "$\\begin{pmatrix} &  & \\end{pmatrix}\\ \\mathrm{volt\\_ampere}$"
      ],
      "text/plain": [
       "array([4000.,    0.,    0.]) <Unit('volt_ampere')>"
      ]
     },
     "execution_count": 11,
     "metadata": {},
     "output_type": "execute_result"
    }
   ],
   "source": [
    "abs(flexible_load.res_flexible_powers)"
   ]
  },
  {
   "cell_type": "markdown",
   "metadata": {},
   "source": [
    "## Adding elements to the network\n",
    "\n",
    "In the previous section we saw how to replace a simple element in the network such as a load.\n",
    "This is done by simply calling the load's `disconnect` method then creating a new load on the\n",
    "same bus and with the same ID.\n",
    "\n",
    "It is possible also to add new elements like buses, lines, etc to an existing network by simply\n",
    "creating the elements and linking them to an element already in the network. For example, the\n",
    "code below adds a new line and a single-phase constant power load connected to a new bus."
   ]
  },
  {
   "cell_type": "code",
   "execution_count": 12,
   "metadata": {
    "ExecuteTime": {
     "end_time": "2023-06-04T15:26:20.196349137Z",
     "start_time": "2023-06-04T15:26:20.106259569Z"
    }
   },
   "outputs": [],
   "source": [
    "# Connect a new bus to the network\n",
    "new_bus = Bus(id=\"new_bus\", phases=\"abcn\")\n",
    "new_load = PowerLoad(id=\"new_load\", bus=new_bus, phases=\"an\", powers=[6e3])\n",
    "lp_s_al_240 = LineParameters.from_name_lv(\"S_AL_240\")\n",
    "new_line = Line(\n",
    "    id=\"new_line\",\n",
    "    bus1=bus2,\n",
    "    bus2=new_bus,\n",
    "    phases=\"abcn\",\n",
    "    ground=ground,\n",
    "    parameters=lp_s_al_240,\n",
    "    length=0.5,\n",
    ")"
   ]
  },
  {
   "cell_type": "markdown",
   "metadata": {},
   "source": [
    "If you look at the network elements, you can see the new bus, line and load are added."
   ]
  },
  {
   "cell_type": "code",
   "execution_count": 13,
   "metadata": {
    "ExecuteTime": {
     "end_time": "2023-06-04T15:26:21.934877733Z",
     "start_time": "2023-06-04T15:26:21.895852299Z"
    }
   },
   "outputs": [
    {
     "data": {
      "text/plain": [
       "Bus(id='new_bus', phases='abcn')"
      ]
     },
     "execution_count": 13,
     "metadata": {},
     "output_type": "execute_result"
    }
   ],
   "source": [
    "en.buses[\"new_bus\"]"
   ]
  },
  {
   "cell_type": "code",
   "execution_count": 14,
   "metadata": {
    "ExecuteTime": {
     "end_time": "2023-06-04T15:26:23.228212959Z",
     "start_time": "2023-06-04T15:26:23.210196445Z"
    }
   },
   "outputs": [
    {
     "data": {
      "text/plain": [
       "PowerLoad(id='new_load', phases='an', bus='new_bus')"
      ]
     },
     "execution_count": 14,
     "metadata": {},
     "output_type": "execute_result"
    }
   ],
   "source": [
    "en.loads[\"new_load\"]"
   ]
  },
  {
   "cell_type": "code",
   "execution_count": 15,
   "metadata": {
    "ExecuteTime": {
     "end_time": "2023-06-04T15:26:24.282002290Z",
     "start_time": "2023-06-04T15:26:24.230930205Z"
    }
   },
   "outputs": [
    {
     "data": {
      "text/plain": [
       "Line(id='new_line', phases1='abcn', phases2='abcn', bus1='bus2', bus2='new_bus')"
      ]
     },
     "execution_count": 15,
     "metadata": {},
     "output_type": "execute_result"
    }
   ],
   "source": [
    "en.branches[\"new_line\"]"
   ]
  },
  {
   "cell_type": "markdown",
   "metadata": {},
   "source": [
    "And now if you run the load flow, you can see that the new elements are taken into account."
   ]
  },
  {
   "cell_type": "code",
   "execution_count": 16,
   "metadata": {
    "ExecuteTime": {
     "end_time": "2023-06-04T15:26:26.441462980Z",
     "start_time": "2023-06-04T15:26:25.887843676Z"
    }
   },
   "outputs": [
    {
     "data": {
      "text/html": [
       "<table><tbody><tr><th>Magnitude</th><td style='text-align:left;'><pre>[227.43645429483067]</pre></td></tr><tr><th>Units</th><td style='text-align:left;'>volt</td></tr></tbody></table>"
      ],
      "text/latex": [
       "$\\begin{pmatrix}\\end{pmatrix}\\ \\mathrm{volt}$"
      ],
      "text/plain": [
       "array([227.43645429]) <Unit('volt')>"
      ]
     },
     "execution_count": 16,
     "metadata": {},
     "output_type": "execute_result"
    }
   ],
   "source": [
    "en.solve_load_flow(auth=auth)\n",
    "abs(new_load.res_voltages)"
   ]
  }
 ],
 "metadata": {
  "kernelspec": {
   "display_name": "Python 3 (ipykernel)",
   "language": "python",
   "name": "python3"
  },
  "language_info": {
   "codemirror_mode": {
    "name": "ipython",
    "version": 3
   },
   "file_extension": ".py",
   "mimetype": "text/x-python",
   "name": "python",
   "nbconvert_exporter": "python",
   "pygments_lexer": "ipython3",
   "version": "3.10.9"
  },
  "vscode": {
   "interpreter": {
    "hash": "99cbd331128cf218793744ba240286bb402c67078e32af81afdf76a86262575b"
   }
  }
 },
 "nbformat": 4,
 "nbformat_minor": 1
}
