{
 "cells": [
  {
   "cell_type": "markdown",
   "source": [
    "# Advanced usages\n",
    "\n",
    "Let's create a network combining a MV part and a LV part."
   ],
   "metadata": {
    "collapsed": false
   }
  },
  {
   "cell_type": "code",
   "execution_count": 1,
   "outputs": [],
   "source": [
    "import numpy as np\n",
    "from roseau.load_flow import *"
   ],
   "metadata": {
    "collapsed": false
   }
  },
  {
   "cell_type": "markdown",
   "source": [
    "## Creation of the network\n",
    "\n",
    "This network contains a voltage source with a constant balanced voltage of\n",
    "20 kV (phase to phase), a Delta-Wye transformer and a small LV network.\n"
   ],
   "metadata": {
    "collapsed": false
   }
  },
  {
   "cell_type": "code",
   "execution_count": 2,
   "outputs": [],
   "source": [
    "ground = Ground()\n",
    "pref = PotentialRef(ground)  # Set the ground to 0V\n",
    "\n",
    "# Create a MV voltage source\n",
    "un = 20e3 / np.sqrt(3)  # V\n",
    "source_voltages = [un, un * np.exp(-2j * np.pi / 3), un * np.exp(2j * np.pi / 3)]\n",
    "vs = VoltageSource(id=\"vs\", n=4, ground=ground, source_voltages=source_voltages)\n",
    "\n",
    "# Add a transformer\n",
    "bus0 = Bus(id=\"bus0\", n=4)\n",
    "tc = TransformerCharacteristics(\n",
    "    \"160_kVA\", \"Dyn11\", sn=160.0 * 1e3, uhv=20e3, ulv=400.0, i0=2.3 / 100, p0=460.0, psc=2350.0, vsc=4.0 / 100\n",
    ")\n",
    "transformer = DeltaWyeTransformer(id=\"transfo\", bus1=vs, bus2=bus0, transformer_characteristics=tc, tap=1.025)\n",
    "ground.connect(bus0)\n",
    "\n",
    "# Add a LV network\n",
    "lc = LineCharacteristics.from_name_lv(\"S_AL_150\")\n",
    "bus1 = Bus(id=\"bus1\", n=4)\n",
    "bus2 = Bus(id=\"bus2\", n=4)\n",
    "load_bus1 = Bus(id=\"load_bus1\", n=4)\n",
    "load_bus2 = Bus(id=\"load_bus2\", n=4)\n",
    "load_bus3 = Bus(id=\"load_bus3\", n=4)\n",
    "line1 = ShuntLine(id=\"line1\", n=4, bus1=bus0, bus2=bus1, ground=ground, line_characteristics=lc, length=0.5)  # km\n",
    "line2 = ShuntLine(id=\"line2\", n=4, bus1=bus1, bus2=bus2, ground=ground, line_characteristics=lc, length=0.4)\n",
    "line3 = ShuntLine(id=\"line3\", n=4, bus1=bus1, bus2=load_bus1, ground=ground, line_characteristics=lc, length=0.3)\n",
    "line4 = ShuntLine(id=\"line4\", n=4, bus1=bus2, bus2=load_bus2, ground=ground, line_characteristics=lc, length=0.3)\n",
    "line5 = ShuntLine(id=\"line5\", n=4, bus1=load_bus2, bus2=load_bus3, ground=ground, line_characteristics=lc, length=0.4)\n",
    "si = -3e3  # VA, negative as it is production\n",
    "load1 = PowerLoad(id=\"load1\", n=4, bus=load_bus1, s=[si, si, si])\n",
    "load2 = PowerLoad(id=\"load2\", n=4, bus=load_bus2, s=[si, si, si])\n",
    "load3 = PowerLoad(id=\"load3\", n=4, bus=load_bus3, s=[si, 0, 0])\n",
    "\n",
    "# Create the network\n",
    "en = ElectricalNetwork.from_element(vs)"
   ],
   "metadata": {
    "collapsed": false
   }
  },
  {
   "cell_type": "markdown",
   "source": [
    "An authentification is required. Please contact us at [contact@roseautechnologies.com](mailto:contact@roseautechnologies.com) to get identification."
   ],
   "metadata": {
    "collapsed": false
   }
  },
  {
   "cell_type": "code",
   "execution_count": 5,
   "outputs": [],
   "source": [
    "# Authentication\n",
    "auth = (\"username\", \"password\")"
   ],
   "metadata": {
    "collapsed": false
   }
  },
  {
   "cell_type": "markdown",
   "source": [
    "Then, the load flow can be solved and the voltages can be checked."
   ],
   "metadata": {
    "collapsed": false
   }
  },
  {
   "cell_type": "code",
   "execution_count": 6,
   "outputs": [
    {
     "data": {
      "text/plain": "array([249.1609503 , 237.94587247, 239.2552125 ]) <Unit('volt')>",
      "text/html": "<table><tbody><tr><th>Magnitude</th><td style='text-align:left;'><pre>[249.16095029692707 237.94587246515803 239.25521250335444]</pre></td></tr><tr><th>Units</th><td style='text-align:left;'>volt</td></tr></tbody></table>",
      "text/latex": "$\\begin{pmatrix}249.16095029692707 & 237.94587246515803 & 239.25521250335444\\end{pmatrix}\\ \\mathrm{volt}$"
     },
     "execution_count": 6,
     "metadata": {},
     "output_type": "execute_result"
    }
   ],
   "source": [
    "en.solve_load_flow(auth=auth)\n",
    "np.abs(load_bus3.voltages)"
   ],
   "metadata": {
    "collapsed": false
   }
  },
  {
   "cell_type": "markdown",
   "source": [
    "## Usage of the flexible loads\n",
    "\n",
    "The flexible loads are loads that implement some basic controls such as $P(U)$, $Q(U)$ or $PQ(U)$.\n",
    "\n",
    "### $P(U)$ control\n",
    "\n",
    "Let's remove the `load3` from the network and add a flexible load as a replacement.\n",
    "\n",
    "We first create a `FlexibleParameter` from the class-method `p_max_u_production`. It retrieves a flexible parameter\n",
    "instance that starts reducing the active production when the voltage is higher than `u_up` volts and stops the\n",
    "production when the voltage reaches `u_max`. The `s_max` argument defines the maximum allowed apparent power of the\n",
    "production plant. In the example below, `u_up=240 V`, `u_max=250 V` and `s_max=4 kVA`.\n",
    "\n",
    "Then, a `FlexibleLoad` instance is created. Its apparent power is fixed at `[si, 0, 0]` VA with `si` a negative value\n",
    "(negative because it is production). Theses apparent powers define the maximum power this load can produce. The\n",
    "`parameters` argument takes a `FlexibleParameter` per phase. For the first phase, the previously $P(U)$ control is\n",
    "used. For the two other phases, there is no control at all thus the `constant` class-method is used.\n",
    "\n",
    "As a consequence, the provided apparent power for phase `a` is a maximum that can be produced (potentially modified by\n",
    "the $P(U)$  control) and the provided apparent power for phases `b` and `c` is the desired production as the flexible\n",
    " parameter is defined as `constant`."
   ],
   "metadata": {
    "collapsed": false
   }
  },
  {
   "cell_type": "code",
   "execution_count": 7,
   "outputs": [],
   "source": [
    "# Let's make the load 3 flexible with a p(u) control to reduce the voltages constraints\n",
    "en.remove_element(\"load3\")\n",
    "parameter = FlexibleParameter.p_max_u_production(u_up=240, u_max=250, s_max=4000)  # V and VA\n",
    "flexible_load = FlexibleLoad(\n",
    "    id=\"load3\",\n",
    "    n=4,\n",
    "    bus=load_bus3,\n",
    "    s=[si, 0, 0],  # W\n",
    "    parameters=[parameter, FlexibleParameter.constant(), FlexibleParameter.constant()],\n",
    ")\n",
    "en.add_element(flexible_load)"
   ],
   "metadata": {
    "collapsed": false
   }
  },
  {
   "cell_type": "markdown",
   "source": [
    "The load flow can now be solved again. You can see that the voltage norm has changed. Note that the voltage norm for\n",
    "phase `a` was above 240 V without the $P(U)$ control, thus the control has been activated in this simulation."
   ],
   "metadata": {
    "collapsed": false
   }
  },
  {
   "cell_type": "code",
   "execution_count": 8,
   "outputs": [
    {
     "data": {
      "text/plain": "array([245.89349656, 239.36821846, 239.7046492 ]) <Unit('volt')>",
      "text/html": "<table><tbody><tr><th>Magnitude</th><td style='text-align:left;'><pre>[245.893496556741 239.36821845653958 239.7046492020196]</pre></td></tr><tr><th>Units</th><td style='text-align:left;'>volt</td></tr></tbody></table>",
      "text/latex": "$\\begin{pmatrix}245.893496556741 & 239.36821845653958 & 239.7046492020196\\end{pmatrix}\\ \\mathrm{volt}$"
     },
     "execution_count": 8,
     "metadata": {},
     "output_type": "execute_result"
    }
   ],
   "source": [
    "en.solve_load_flow(auth=auth)\n",
    "np.abs(load_bus3.voltages)"
   ],
   "metadata": {
    "collapsed": false
   }
  },
  {
   "cell_type": "markdown",
   "source": [
    "The actually produced power of the flexible load is a result of the computation and can be accessed using the\n",
    "`powers` property of the flexible load. Here, one can remarks that:\n",
    " * The active power for the phase `a` is negative meaning production;\n",
    " * The actual value of this active power is lower that the one requested as the control was activated;\n",
    " * The power for phases `b` and `c` is 0 VA as expected."
   ],
   "metadata": {
    "collapsed": false
   }
  },
  {
   "cell_type": "code",
   "execution_count": 9,
   "outputs": [
    {
     "data": {
      "text/plain": "array([-1628.91699011+0.j,     0.        +0.j,     0.        +0.j]) <Unit('volt_ampere')>",
      "text/html": "<table><tbody><tr><th>Magnitude</th><td style='text-align:left;'><pre>[-1628.91699011+0.j     0.        +0.j     0.        +0.j]</pre></td></tr><tr><th>Units</th><td style='text-align:left;'>volt_ampere</td></tr></tbody></table>",
      "text/latex": "$\\begin{pmatrix}(-1628.9169901096636+0j) & 0j & 0j\\end{pmatrix}\\ \\mathrm{volt\\_ampere}$"
     },
     "execution_count": 9,
     "metadata": {},
     "output_type": "execute_result"
    }
   ],
   "source": [
    "flexible_load.powers"
   ],
   "metadata": {
    "collapsed": false
   }
  },
  {
   "cell_type": "markdown",
   "source": [
    "### $PQ(U)$ control\n",
    "\n",
    "Now, let's remove the flexible load that we have added in the previous section and add a new flexible load\n",
    "implementing a $PQ(U)$ control.\n",
    "\n",
    "As before, we first create a `FlexibleParameter` but this time, we will use the `pq_u_production` class-method. It\n",
    "requires several arguments:\n",
    "* `up_up` and `up_max` which are the voltages defining the interval of the `P(U)` control activation. Below `up_up`, no\n",
    " control is applied and above `u_max`, there is no production any more.\n",
    "* `uq_min`, `uq_down`, `uq_up` and `uq_max` which are the voltages defining the `Q(U)` control activation.\n",
    "  * Below `uq_min`, the power plant produces the maximum possible reactive power.\n",
    "  * Between `uq_down` and `uq_up`, there is no `Q(U)` control.\n",
    "  * Above `uq_max`, the power plant consumes the maximum possible reactive power.\n",
    "\n",
    "In the example below, as the new load is a production load, only the `up_up`, `up_max`, `uq_up` and `uq_max` are of\n",
    "interests. The $Q(U)$ control starts at 235 V and is fully used at 240 V. Then, the $P(U)$ starts at 240 V and is\n",
    "fully used at 250 V.\n"
   ],
   "metadata": {
    "collapsed": false
   }
  },
  {
   "cell_type": "code",
   "execution_count": 10,
   "outputs": [],
   "source": [
    "# Let's try with pq(u) control, by injecting reactive power before reducing active power\n",
    "en.remove_element(\"load3\")\n",
    "parameter = FlexibleParameter.pq_u_production(\n",
    "    up_up=240, up_max=250, uq_min=200, uq_down=210, uq_up=235, uq_max=240, s_max=4000  # V and VA\n",
    ")\n",
    "flexible_load = FlexibleLoad(\n",
    "    id=\"load3\",\n",
    "    n=4,\n",
    "    bus=load_bus3,\n",
    "    s=[si, 0, 0],\n",
    "    parameters=[parameter, FlexibleParameter.constant(), FlexibleParameter.constant()],\n",
    ")\n",
    "en.add_element(flexible_load)"
   ],
   "metadata": {
    "collapsed": false
   }
  },
  {
   "cell_type": "markdown",
   "source": [
    "The load flow can be solved again."
   ],
   "metadata": {
    "collapsed": false
   }
  },
  {
   "cell_type": "code",
   "execution_count": 11,
   "outputs": [
    {
     "data": {
      "text/plain": "array([243.55876278, 236.24816265, 243.80142803]) <Unit('volt')>",
      "text/html": "<table><tbody><tr><th>Magnitude</th><td style='text-align:left;'><pre>[243.55876278488515 236.2481626494373 243.80142803493553]</pre></td></tr><tr><th>Units</th><td style='text-align:left;'>volt</td></tr></tbody></table>",
      "text/latex": "$\\begin{pmatrix}243.55876278488515 & 236.2481626494373 & 243.80142803493553\\end{pmatrix}\\ \\mathrm{volt}$"
     },
     "execution_count": 11,
     "metadata": {},
     "output_type": "execute_result"
    }
   ],
   "source": [
    "en.solve_load_flow(auth=auth)\n",
    "np.abs(load_bus3.voltages)"
   ],
   "metadata": {
    "collapsed": false
   }
  },
  {
   "cell_type": "markdown",
   "source": [
    "One can remark that this time, the phase `a` consumes reactive power to limit the voltage raise of the network.\n",
    "Moreover, the norm of the power on phase `a` is approximately 4 kVA which is the maximum allowed apparent power for the\n",
    " `load3`. In order to maintain this maximum, a Euclidean projection has been used."
   ],
   "metadata": {
    "collapsed": false
   }
  },
  {
   "cell_type": "code",
   "execution_count": 12,
   "outputs": [
    {
     "data": {
      "text/plain": "array([-2076.69942528+3418.67217664j,     0.           +0.j        ,\n           0.           +0.j        ]) <Unit('volt_ampere')>",
      "text/html": "<table><tbody><tr><th>Magnitude</th><td style='text-align:left;'><pre>[-2076.69942528+3418.67217664j     0.           +0.j<br>     0.           +0.j        ]</pre></td></tr><tr><th>Units</th><td style='text-align:left;'>volt_ampere</td></tr></tbody></table>",
      "text/latex": "$\\begin{pmatrix}(-2076.6994252760755+3418.672176639586j) & 0j & 0j\\end{pmatrix}\\ \\mathrm{volt\\_ampere}$"
     },
     "execution_count": 12,
     "metadata": {},
     "output_type": "execute_result"
    }
   ],
   "source": [
    "flexible_load.powers"
   ],
   "metadata": {
    "collapsed": false
   }
  },
  {
   "cell_type": "code",
   "execution_count": 13,
   "outputs": [
    {
     "data": {
      "text/plain": "array([3999.99999428,    0.        ,    0.        ]) <Unit('volt_ampere')>",
      "text/html": "<table><tbody><tr><th>Magnitude</th><td style='text-align:left;'><pre>[3999.999994283953 0.0 0.0]</pre></td></tr><tr><th>Units</th><td style='text-align:left;'>volt_ampere</td></tr></tbody></table>",
      "text/latex": "$\\begin{pmatrix}3999.999994283953 & 0.0 & 0.0\\end{pmatrix}\\ \\mathrm{volt\\_ampere}$"
     },
     "execution_count": 13,
     "metadata": {},
     "output_type": "execute_result"
    }
   ],
   "source": [
    "np.abs(flexible_load.powers)"
   ],
   "metadata": {
    "collapsed": false
   }
  }
 ],
 "metadata": {
  "kernelspec": {
   "display_name": "Python 3",
   "language": "python",
   "name": "python3"
  },
  "language_info": {
   "codemirror_mode": {
    "name": "ipython",
    "version": 2
   },
   "file_extension": ".py",
   "mimetype": "text/x-python",
   "name": "python",
   "nbconvert_exporter": "python",
   "pygments_lexer": "ipython2",
   "version": "2.7.6"
  }
 },
 "nbformat": 4,
 "nbformat_minor": 0
}
